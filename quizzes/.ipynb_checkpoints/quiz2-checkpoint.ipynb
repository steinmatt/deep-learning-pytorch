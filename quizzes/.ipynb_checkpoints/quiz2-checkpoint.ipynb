{
 "cells": [
  {
   "cell_type": "markdown",
   "metadata": {},
   "source": [
    "# QUIZ 2"
   ]
  },
  {
   "cell_type": "code",
   "execution_count": 1,
   "metadata": {},
   "outputs": [],
   "source": [
    "import torch\n",
    "import torch.nn as nn\n",
    "import torch.nn.functional as F"
   ]
  },
  {
   "cell_type": "markdown",
   "metadata": {},
   "source": [
    "### Our goal is to  make a 2 layer neural net as follow:\n",
    "$$\n",
    "\\text{Linear layer 1} \\to  \\text{ReLU} \\to \\text{Linear layer 2} \n",
    "$$\n",
    "###  with weight matrices:\n",
    "$$\n",
    "W_1 \n",
    "= \\begin{bmatrix}\n",
    "1 &0 \\\\ 0 & 1 \n",
    "\\end{bmatrix} \\qquad \\text{,} \\qquad\n",
    "W_2 \n",
    "= \\begin{bmatrix}\n",
    "2 &5 \n",
    "\\end{bmatrix}\n",
    "$$\n",
    "### Note that there is NO bias and NO softmax."
   ]
  },
  {
   "cell_type": "markdown",
   "metadata": {},
   "source": [
    "# ----------------------------------------------------------------------------------"
   ]
  },
  {
   "cell_type": "markdown",
   "metadata": {},
   "source": [
    "### a) If the input of this network is the vector $x \n",
    "= \\begin{bmatrix}\n",
    "3 \\\\ -1\n",
    "\\end{bmatrix} \n",
    "$, what will be the output vector (compute by hand and write down the result in the markdown cell below)"
   ]
  },
  {
   "cell_type": "markdown",
   "metadata": {},
   "source": [
    "The output will be:  6"
   ]
  },
  {
   "cell_type": "markdown",
   "metadata": {},
   "source": [
    "### b) Make a class for the above network."
   ]
  },
  {
   "cell_type": "code",
   "execution_count": 37,
   "metadata": {},
   "outputs": [],
   "source": [
    "class two_layer_net(nn.Module):\n",
    "\n",
    "    def __init__(self, in_size, hid_size, out_size):\n",
    "        super(two_layer_net,self).__init__()\n",
    "        self.linear_layer1 = nn.Linear(in_size, hid_size, bias = False)\n",
    "        self.linear_layer2 = nn.Linear(hid_size, out_size, bias = False)\n",
    "         \n",
    "    def forward(self, x):\n",
    "        y = self.linear_layer1(x)\n",
    "        y = F.relu(x) \n",
    "        scores = self.linear_layer2(y)\n",
    "        \n",
    "        return scores\n"
   ]
  },
  {
   "cell_type": "markdown",
   "metadata": {},
   "source": [
    "### c) Instantiate the network (the weights will be randomly initialized by pytorch)"
   ]
  },
  {
   "cell_type": "code",
   "execution_count": 38,
   "metadata": {},
   "outputs": [
    {
     "name": "stdout",
     "output_type": "stream",
     "text": [
      "two_layer_net(\n",
      "  (linear_layer1): Linear(in_features=2, out_features=2, bias=False)\n",
      "  (linear_layer2): Linear(in_features=2, out_features=1, bias=False)\n",
      ")\n"
     ]
    }
   ],
   "source": [
    "net= two_layer_net(2,2,1)\n",
    "print(net)"
   ]
  },
  {
   "cell_type": "markdown",
   "metadata": {},
   "source": [
    "### d) Change the weights of the network so that they become $\n",
    "W_1 = \\begin{bmatrix}\n",
    "1 &0 \\\\ 0 & 1 \n",
    "\\end{bmatrix}$ and $\n",
    "W_2 \n",
    "= \\begin{bmatrix}\n",
    "2 &5 \n",
    "\\end{bmatrix}\n",
    "$"
   ]
  },
  {
   "cell_type": "code",
   "execution_count": 45,
   "metadata": {},
   "outputs": [],
   "source": [
    "\n",
    "net.linear_layer1.weight[0,0] = 1  \n",
    "net.linear_layer1.weight[0,1] = 0 \n",
    "net.linear_layer1.weight[1,0] = 0 \n",
    "net.linear_layer1.weight[1,1] = 1\n",
    "\n",
    "net.linear_layer2.weight[0,0] = 2 \n",
    "net.linear_layer2.weight[0,1] = 5\n"
   ]
  },
  {
   "cell_type": "markdown",
   "metadata": {},
   "source": [
    "### e) Test that your network works properly (you have nothing to do here except running the cell and making sure you get the expected results)."
   ]
  },
  {
   "cell_type": "code",
   "execution_count": 43,
   "metadata": {},
   "outputs": [
    {
     "name": "stdout",
     "output_type": "stream",
     "text": [
      "tensor([10.], grad_fn=<SqueezeBackward3>)\n"
     ]
    }
   ],
   "source": [
    "x=torch.Tensor([-8,2])\n",
    "y= net(x)\n",
    "print(y)"
   ]
  },
  {
   "cell_type": "code",
   "execution_count": null,
   "metadata": {},
   "outputs": [],
   "source": []
  }
 ],
 "metadata": {
  "kernelspec": {
   "display_name": "Python 3",
   "language": "python",
   "name": "python3"
  },
  "language_info": {
   "codemirror_mode": {
    "name": "ipython",
    "version": 3
   },
   "file_extension": ".py",
   "mimetype": "text/x-python",
   "name": "python",
   "nbconvert_exporter": "python",
   "pygments_lexer": "ipython3",
   "version": "3.7.0"
  }
 },
 "nbformat": 4,
 "nbformat_minor": 2
}
