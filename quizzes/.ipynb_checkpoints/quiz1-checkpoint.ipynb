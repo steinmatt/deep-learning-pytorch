{
 "cells": [
  {
   "cell_type": "markdown",
   "metadata": {},
   "source": [
    "# Quiz 1"
   ]
  },
  {
   "cell_type": "markdown",
   "metadata": {},
   "source": [
    "### Make a vector class with two attributes:\n",
    "* entries: this is a list containing all the entries of the vector.\n",
    "* length: this is a number that give the length of the vector.\n",
    "\n",
    "### and two methods:\n",
    "* sum(): this method returns the sum of all the entries of the vectors. For example if vec = $\\begin{bmatrix} 2 \\\\ -5 \\\\ 0  \\end{bmatrix}$, then vec.sum() will return -3. \n",
    "* add_(): this method do in-place vector addition.\n",
    "\n"
   ]
  },
  {
   "cell_type": "code",
   "execution_count": 2,
   "metadata": {},
   "outputs": [],
   "source": [
    "class Vector:\n",
    "    \n",
    "    def __init__(self, list_of_nb):\n",
    "        self.entries = list_of_nb\n",
    "        self.length =  len(list_of_nb)\n",
    "        \n",
    "    def sum(self):\n",
    "        sum = 0\n",
    "        for i in range(0,self.length): \n",
    "            sum += self.entries[i]\n",
    "        return sum\n",
    "        \n",
    "    def add_(self,other_vector):       \n",
    "        for i in range(0,self.length): \n",
    "            self.entries[i] += other_vector.entries[i]"
   ]
  },
  {
   "cell_type": "markdown",
   "metadata": {},
   "source": [
    "### Create two vectors $v=\\begin{bmatrix} 1 \\\\ -5 \\\\ 3  \\end{bmatrix}$  and $w=\\begin{bmatrix} 2 \\\\ 5 \\\\ -1  \\end{bmatrix}$."
   ]
  },
  {
   "cell_type": "code",
   "execution_count": 3,
   "metadata": {},
   "outputs": [],
   "source": [
    "v = Vector([1,-5,3])\n",
    "w=  Vector([2,5,-1])"
   ]
  },
  {
   "cell_type": "markdown",
   "metadata": {},
   "source": [
    "### Print the entries of the vector v (so you need to access the attribute called \"entries\") "
   ]
  },
  {
   "cell_type": "code",
   "execution_count": 4,
   "metadata": {},
   "outputs": [
    {
     "name": "stdout",
     "output_type": "stream",
     "text": [
      "[1, -5, 3]\n"
     ]
    }
   ],
   "source": [
    "print(v.entries)"
   ]
  },
  {
   "cell_type": "markdown",
   "metadata": {},
   "source": [
    "### Use the sum() method to compute the sum of the entries in the vector $v$. Print the result. "
   ]
  },
  {
   "cell_type": "code",
   "execution_count": 5,
   "metadata": {},
   "outputs": [
    {
     "data": {
      "text/plain": [
       "-1"
      ]
     },
     "execution_count": 5,
     "metadata": {},
     "output_type": "execute_result"
    }
   ],
   "source": [
    "v.sum()"
   ]
  },
  {
   "cell_type": "markdown",
   "metadata": {},
   "source": [
    "### Use the method add_() to add the vectors $v$ and $w$. Since this is in-place addition, you are going to do: $ v \\leftarrow v+w $. Print the result (that is, print the entries of the vector v once they have been modified)"
   ]
  },
  {
   "cell_type": "code",
   "execution_count": 6,
   "metadata": {},
   "outputs": [
    {
     "name": "stdout",
     "output_type": "stream",
     "text": [
      "[3, 0, 2]\n"
     ]
    }
   ],
   "source": [
    "v.add_(w)\n",
    "print(v.entries)"
   ]
  }
 ],
 "metadata": {
  "kernelspec": {
   "display_name": "Python 3",
   "language": "python",
   "name": "python3"
  },
  "language_info": {
   "codemirror_mode": {
    "name": "ipython",
    "version": 3
   },
   "file_extension": ".py",
   "mimetype": "text/x-python",
   "name": "python",
   "nbconvert_exporter": "python",
   "pygments_lexer": "ipython3",
   "version": "3.7.0"
  }
 },
 "nbformat": 4,
 "nbformat_minor": 2
}
