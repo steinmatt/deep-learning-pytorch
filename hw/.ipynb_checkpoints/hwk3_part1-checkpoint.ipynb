{
 "cells": [
  {
   "cell_type": "markdown",
   "metadata": {},
   "source": [
    "# HWK 3 -- part 1"
   ]
  },
  {
   "cell_type": "code",
   "execution_count": 17,
   "metadata": {},
   "outputs": [],
   "source": [
    "import torch\n",
    "import utils"
   ]
  },
  {
   "cell_type": "markdown",
   "metadata": {},
   "source": [
    "# ------------------------------------------------------"
   ]
  },
  {
   "cell_type": "markdown",
   "metadata": {},
   "source": [
    "# Problem 1"
   ]
  },
  {
   "cell_type": "markdown",
   "metadata": {},
   "source": [
    "### a) Create a vector $x= \\begin{bmatrix}0 & 1 & 2 & \\cdots & \\cdots & 18 &19\\end{bmatrix}$ and reshape it into a 2 x 10 matrix."
   ]
  },
  {
   "cell_type": "code",
   "execution_count": 3,
   "metadata": {},
   "outputs": [
    {
     "name": "stdout",
     "output_type": "stream",
     "text": [
      "tensor([[ 0.,  1.,  2.,  3.,  4.,  5.,  6.,  7.,  8.,  9.],\n",
      "        [10., 11., 12., 13., 14., 15., 16., 17., 18., 19.]])\n",
      "torch.Size([2, 10])\n"
     ]
    }
   ],
   "source": [
    "A = torch.Tensor([0,1,2,3,4,5,6,7,8,9,10,11,12,13,14,15,16,17,18,19])\n",
    "A = A.view(2,10)\n",
    "\n",
    "print(A)\n",
    "print(A.size())"
   ]
  },
  {
   "cell_type": "markdown",
   "metadata": {},
   "source": [
    "### b) Extract the second row of $A$ and store it in a vector $v$."
   ]
  },
  {
   "cell_type": "code",
   "execution_count": 4,
   "metadata": {},
   "outputs": [
    {
     "name": "stdout",
     "output_type": "stream",
     "text": [
      "tensor([10., 11., 12., 13., 14., 15., 16., 17., 18., 19.])\n"
     ]
    }
   ],
   "source": [
    "v = A[1]\n",
    "\n",
    "print(v)"
   ]
  },
  {
   "cell_type": "markdown",
   "metadata": {},
   "source": [
    "### c) Extract the second column of $A$ (column with index 1) and store it in a vector w. (At the end of this notebook you will find a short tutorial on how to slice columns). "
   ]
  },
  {
   "cell_type": "code",
   "execution_count": 5,
   "metadata": {},
   "outputs": [
    {
     "name": "stdout",
     "output_type": "stream",
     "text": [
      "tensor([ 1., 11.])\n"
     ]
    }
   ],
   "source": [
    "w = A[:,1] \n",
    "\n",
    "print(w)"
   ]
  },
  {
   "cell_type": "markdown",
   "metadata": {},
   "source": [
    "### d) Extract the four middle columns of A (columns with indices 3, 4, 5 and 6), and store them into a matrix $B$. (Again, see the tutorial at the end of the notebook)"
   ]
  },
  {
   "cell_type": "code",
   "execution_count": 6,
   "metadata": {},
   "outputs": [
    {
     "name": "stdout",
     "output_type": "stream",
     "text": [
      "tensor([[ 3.,  4.,  5.,  6.],\n",
      "        [13., 14., 15., 16.]])\n"
     ]
    }
   ],
   "source": [
    "B = A[:,3:7]\n",
    "\n",
    "print(B)"
   ]
  },
  {
   "cell_type": "markdown",
   "metadata": {},
   "source": [
    "### e) Create a vector $x= \\begin{bmatrix}0 & 1 & 2 & \\cdots & \\cdots & 98 &99\\end{bmatrix}$ and reshape it into a 10 x 10 matrix"
   ]
  },
  {
   "cell_type": "code",
   "execution_count": 7,
   "metadata": {},
   "outputs": [
    {
     "name": "stdout",
     "output_type": "stream",
     "text": [
      "tensor([[ 0,  1,  2,  3,  4,  5,  6,  7,  8,  9],\n",
      "        [10, 11, 12, 13, 14, 15, 16, 17, 18, 19],\n",
      "        [20, 21, 22, 23, 24, 25, 26, 27, 28, 29],\n",
      "        [30, 31, 32, 33, 34, 35, 36, 37, 38, 39],\n",
      "        [40, 41, 42, 43, 44, 45, 46, 47, 48, 49],\n",
      "        [50, 51, 52, 53, 54, 55, 56, 57, 58, 59],\n",
      "        [60, 61, 62, 63, 64, 65, 66, 67, 68, 69],\n",
      "        [70, 71, 72, 73, 74, 75, 76, 77, 78, 79],\n",
      "        [80, 81, 82, 83, 84, 85, 86, 87, 88, 89],\n",
      "        [90, 91, 92, 93, 94, 95, 96, 97, 98, 99]])\n"
     ]
    }
   ],
   "source": [
    "x = torch.arange(100).view(10,10)\n",
    "\n",
    "print(x)"
   ]
  },
  {
   "cell_type": "markdown",
   "metadata": {},
   "source": [
    "### f) extract a 6x6 block from the above matrix. I want the \"central block\": this means that you need to get rid of the 2 first and 2 last rows, as well as the 2 first and 2 last columns."
   ]
  },
  {
   "cell_type": "code",
   "execution_count": 8,
   "metadata": {},
   "outputs": [
    {
     "name": "stdout",
     "output_type": "stream",
     "text": [
      "tensor([[22, 23, 24, 25, 26, 27],\n",
      "        [32, 33, 34, 35, 36, 37],\n",
      "        [42, 43, 44, 45, 46, 47],\n",
      "        [52, 53, 54, 55, 56, 57],\n",
      "        [62, 63, 64, 65, 66, 67],\n",
      "        [72, 73, 74, 75, 76, 77]])\n"
     ]
    }
   ],
   "source": [
    "B = x[2:8,2:8]\n",
    "\n",
    "print(B)"
   ]
  },
  {
   "cell_type": "markdown",
   "metadata": {},
   "source": [
    "### g) Make the following matrix   $$\n",
    "C = \\begin{bmatrix}\n",
    "1 &1 \\\\ 2 & 0 \\\\ -1 & 7\n",
    "\\end{bmatrix}\n",
    "$$\n",
    "### This matrix should be filled with INTEGERS, and not floats."
   ]
  },
  {
   "cell_type": "code",
   "execution_count": 9,
   "metadata": {},
   "outputs": [
    {
     "name": "stdout",
     "output_type": "stream",
     "text": [
      "tensor([[ 1,  1],\n",
      "        [ 2,  0],\n",
      "        [-1,  7]])\n",
      "torch.LongTensor\n"
     ]
    }
   ],
   "source": [
    "C = torch.LongTensor([[1,1], [2,0], [-1,7]])\n",
    "\n",
    "print(C)\n",
    "print(C.type())"
   ]
  },
  {
   "cell_type": "markdown",
   "metadata": {},
   "source": [
    "### h) Extract entry (2,1) of the matrix B (this entry is a 7) and store it into a PYTHON NUMBER called $x$. Make sure $x$ is a python number and not a zero dimentional tensor.  "
   ]
  },
  {
   "cell_type": "code",
   "execution_count": 10,
   "metadata": {},
   "outputs": [
    {
     "name": "stdout",
     "output_type": "stream",
     "text": [
      "tensor(7)\n",
      "<class 'torch.Tensor'>\n"
     ]
    }
   ],
   "source": [
    "x = C[2,1]\n",
    "\n",
    "print(x)\n",
    "print(type(x))"
   ]
  },
  {
   "cell_type": "markdown",
   "metadata": {},
   "source": [
    "### i) Flatten out the matrix $B$ into a vector $z$"
   ]
  },
  {
   "cell_type": "code",
   "execution_count": 14,
   "metadata": {},
   "outputs": [
    {
     "name": "stdout",
     "output_type": "stream",
     "text": [
      "tensor([[ 1,  1,  2,  0, -1,  7]])\n"
     ]
    }
   ],
   "source": [
    "z = C.contiguous().view(1,6)\n",
    "\n",
    "print(z)"
   ]
  },
  {
   "cell_type": "markdown",
   "metadata": {},
   "source": [
    "# ------------------------------------------------------"
   ]
  },
  {
   "cell_type": "markdown",
   "metadata": {},
   "source": [
    "# Problem 2"
   ]
  },
  {
   "cell_type": "markdown",
   "metadata": {},
   "source": [
    "### a) Download the training set of the MNIST dataset (both the images and the labels). The images are contained into a 3-dimensional tensor that you will call \"data\" and the labels are in a one dimensional vector that you will call  \"label\"."
   ]
  },
  {
   "cell_type": "code",
   "execution_count": 21,
   "metadata": {},
   "outputs": [],
   "source": [
    "data=torch.load('../data/mnist/train_data.pt')\n",
    "label=torch.load('../data/mnist/train_label.pt')"
   ]
  },
  {
   "cell_type": "markdown",
   "metadata": {},
   "source": [
    "### b) Write a few lines that are going to display, the dimension, sizes, and types of the data tensor and the label tensor (use the methods, type(), dim() and size())"
   ]
  },
  {
   "cell_type": "code",
   "execution_count": 22,
   "metadata": {},
   "outputs": [
    {
     "name": "stdout",
     "output_type": "stream",
     "text": [
      "\n",
      " data tensor \n",
      "\n",
      "torch.FloatTensor\n",
      "3\n",
      "torch.Size([60000, 28, 28])\n",
      "\n",
      " label tensor \n",
      "\n",
      "torch.LongTensor\n",
      "1\n",
      "torch.Size([60000])\n"
     ]
    }
   ],
   "source": [
    "print('\\n data tensor \\n')\n",
    "print(data.type())\n",
    "print(data.dim())\n",
    "print(data.size())\n",
    "\n",
    "\n",
    "print('\\n label tensor \\n')\n",
    "print(label.type())\n",
    "print(label.dim())\n",
    "print(label.size())"
   ]
  },
  {
   "cell_type": "markdown",
   "metadata": {},
   "source": [
    "### c) Reshape the data matrix into a 60000 x 784 tensor"
   ]
  },
  {
   "cell_type": "code",
   "execution_count": 24,
   "metadata": {},
   "outputs": [
    {
     "name": "stdout",
     "output_type": "stream",
     "text": [
      "torch.Size([60000, 784])\n"
     ]
    }
   ],
   "source": [
    "dataflat = data.view(60000,784)\n",
    "\n",
    "print(dataflat.size())"
   ]
  },
  {
   "cell_type": "markdown",
   "metadata": {},
   "source": [
    "# ------------------------------------------"
   ]
  },
  {
   "cell_type": "markdown",
   "metadata": {},
   "source": [
    "# TUTORIAL ON  SLICING"
   ]
  },
  {
   "cell_type": "code",
   "execution_count": null,
   "metadata": {},
   "outputs": [],
   "source": [
    "import torch"
   ]
  },
  {
   "cell_type": "code",
   "execution_count": 44,
   "metadata": {},
   "outputs": [
    {
     "name": "stdout",
     "output_type": "stream",
     "text": [
      "tensor([[ 0,  1,  2,  3,  4,  5,  6,  7,  8,  9],\n",
      "        [10, 11, 12, 13, 14, 15, 16, 17, 18, 19],\n",
      "        [20, 21, 22, 23, 24, 25, 26, 27, 28, 29],\n",
      "        [30, 31, 32, 33, 34, 35, 36, 37, 38, 39],\n",
      "        [40, 41, 42, 43, 44, 45, 46, 47, 48, 49],\n",
      "        [50, 51, 52, 53, 54, 55, 56, 57, 58, 59],\n",
      "        [60, 61, 62, 63, 64, 65, 66, 67, 68, 69],\n",
      "        [70, 71, 72, 73, 74, 75, 76, 77, 78, 79],\n",
      "        [80, 81, 82, 83, 84, 85, 86, 87, 88, 89],\n",
      "        [90, 91, 92, 93, 94, 95, 96, 97, 98, 99]])\n"
     ]
    }
   ],
   "source": [
    "A=torch.arange(100).view(10,10)\n",
    "print(A)"
   ]
  },
  {
   "cell_type": "markdown",
   "metadata": {},
   "source": [
    "### Will extract a 4x4 submatrix from $A$. More precisely we will extract a block going from row 3 to 7 (excluded) and from column 2 to 6 (excluded) "
   ]
  },
  {
   "cell_type": "code",
   "execution_count": 46,
   "metadata": {},
   "outputs": [
    {
     "name": "stdout",
     "output_type": "stream",
     "text": [
      "tensor([[32, 33, 34, 35],\n",
      "        [42, 43, 44, 45],\n",
      "        [52, 53, 54, 55],\n",
      "        [62, 63, 64, 65]])\n"
     ]
    }
   ],
   "source": [
    "B = A[ 3:7 , 2:6 ]\n",
    "print(B)"
   ]
  },
  {
   "cell_type": "markdown",
   "metadata": {},
   "source": [
    "### Now we will extract a block going from row 0 to 10 (excluded) and from column 2 to 6 (excluded). Note that we are extracting ALL the rows!"
   ]
  },
  {
   "cell_type": "code",
   "execution_count": 47,
   "metadata": {},
   "outputs": [
    {
     "name": "stdout",
     "output_type": "stream",
     "text": [
      "tensor([[ 2,  3,  4,  5],\n",
      "        [12, 13, 14, 15],\n",
      "        [22, 23, 24, 25],\n",
      "        [32, 33, 34, 35],\n",
      "        [42, 43, 44, 45],\n",
      "        [52, 53, 54, 55],\n",
      "        [62, 63, 64, 65],\n",
      "        [72, 73, 74, 75],\n",
      "        [82, 83, 84, 85],\n",
      "        [92, 93, 94, 95]])\n"
     ]
    }
   ],
   "source": [
    "B = A[ 0:10 , 2:6 ]\n",
    "print(B)"
   ]
  },
  {
   "cell_type": "markdown",
   "metadata": {},
   "source": [
    "### Since we are extracting all the rows, we can use the alternative notations A[ : , 2:6 ]. Since we do not specify row indices, pytorch understand that we want all the rows."
   ]
  },
  {
   "cell_type": "code",
   "execution_count": 48,
   "metadata": {},
   "outputs": [
    {
     "name": "stdout",
     "output_type": "stream",
     "text": [
      "tensor([[ 2,  3,  4,  5],\n",
      "        [12, 13, 14, 15],\n",
      "        [22, 23, 24, 25],\n",
      "        [32, 33, 34, 35],\n",
      "        [42, 43, 44, 45],\n",
      "        [52, 53, 54, 55],\n",
      "        [62, 63, 64, 65],\n",
      "        [72, 73, 74, 75],\n",
      "        [82, 83, 84, 85],\n",
      "        [92, 93, 94, 95]])\n"
     ]
    }
   ],
   "source": [
    "B = A[ : , 2:6 ]\n",
    "print(B)"
   ]
  },
  {
   "cell_type": "markdown",
   "metadata": {},
   "source": [
    "### Now if we want to extract a block going from row 3 to row 7 (excluded) and from column 0 to column 10 (excluded) we can use:"
   ]
  },
  {
   "cell_type": "code",
   "execution_count": 49,
   "metadata": {},
   "outputs": [
    {
     "name": "stdout",
     "output_type": "stream",
     "text": [
      "tensor([[30, 31, 32, 33, 34, 35, 36, 37, 38, 39],\n",
      "        [40, 41, 42, 43, 44, 45, 46, 47, 48, 49],\n",
      "        [50, 51, 52, 53, 54, 55, 56, 57, 58, 59],\n",
      "        [60, 61, 62, 63, 64, 65, 66, 67, 68, 69]])\n"
     ]
    }
   ],
   "source": [
    "B = A[ 3:7 , 0:10 ]\n",
    "print(B)"
   ]
  },
  {
   "cell_type": "markdown",
   "metadata": {},
   "source": [
    "### or"
   ]
  },
  {
   "cell_type": "code",
   "execution_count": 50,
   "metadata": {},
   "outputs": [
    {
     "name": "stdout",
     "output_type": "stream",
     "text": [
      "tensor([[30, 31, 32, 33, 34, 35, 36, 37, 38, 39],\n",
      "        [40, 41, 42, 43, 44, 45, 46, 47, 48, 49],\n",
      "        [50, 51, 52, 53, 54, 55, 56, 57, 58, 59],\n",
      "        [60, 61, 62, 63, 64, 65, 66, 67, 68, 69]])\n"
     ]
    }
   ],
   "source": [
    "B = A[ 3:7 , : ]\n",
    "print(B)"
   ]
  },
  {
   "cell_type": "markdown",
   "metadata": {},
   "source": [
    "### Or even better:"
   ]
  },
  {
   "cell_type": "code",
   "execution_count": 51,
   "metadata": {},
   "outputs": [
    {
     "name": "stdout",
     "output_type": "stream",
     "text": [
      "tensor([[30, 31, 32, 33, 34, 35, 36, 37, 38, 39],\n",
      "        [40, 41, 42, 43, 44, 45, 46, 47, 48, 49],\n",
      "        [50, 51, 52, 53, 54, 55, 56, 57, 58, 59],\n",
      "        [60, 61, 62, 63, 64, 65, 66, 67, 68, 69]])\n"
     ]
    }
   ],
   "source": [
    "B = A[3:7]\n",
    "print(B)"
   ]
  },
  {
   "cell_type": "markdown",
   "metadata": {},
   "source": [
    "### The last command A[3:7] is very convenient, but it works only when we want to slice with respect to the leading dimension (dimension 0 of the tensor)."
   ]
  },
  {
   "cell_type": "markdown",
   "metadata": {},
   "source": [
    "### To extract a single column (let say column 2), you can do any of the following command (note that in each case we get a 2 dimensionsal tensor)"
   ]
  },
  {
   "cell_type": "code",
   "execution_count": 52,
   "metadata": {},
   "outputs": [
    {
     "name": "stdout",
     "output_type": "stream",
     "text": [
      "tensor([[ 2],\n",
      "        [12],\n",
      "        [22],\n",
      "        [32],\n",
      "        [42],\n",
      "        [52],\n",
      "        [62],\n",
      "        [72],\n",
      "        [82],\n",
      "        [92]])\n",
      "torch.Size([10, 1])\n"
     ]
    }
   ],
   "source": [
    "v = A[0:10, 2:3 ]\n",
    "print(v)\n",
    "print(v.size())"
   ]
  },
  {
   "cell_type": "code",
   "execution_count": 53,
   "metadata": {},
   "outputs": [
    {
     "name": "stdout",
     "output_type": "stream",
     "text": [
      "tensor([[ 2],\n",
      "        [12],\n",
      "        [22],\n",
      "        [32],\n",
      "        [42],\n",
      "        [52],\n",
      "        [62],\n",
      "        [72],\n",
      "        [82],\n",
      "        [92]])\n",
      "torch.Size([10, 1])\n"
     ]
    }
   ],
   "source": [
    "v = A[:, 2:3 ]\n",
    "print(v)\n",
    "print(v.size())"
   ]
  },
  {
   "cell_type": "markdown",
   "metadata": {},
   "source": [
    "### Or better, you should do this (and you will get a one dimensional tensor):"
   ]
  },
  {
   "cell_type": "code",
   "execution_count": 54,
   "metadata": {},
   "outputs": [
    {
     "name": "stdout",
     "output_type": "stream",
     "text": [
      "tensor([ 2, 12, 22, 32, 42, 52, 62, 72, 82, 92])\n",
      "torch.Size([10])\n"
     ]
    }
   ],
   "source": [
    "v = A[0:10, 2 ]\n",
    "print(v)\n",
    "print(v.size())"
   ]
  },
  {
   "cell_type": "code",
   "execution_count": 55,
   "metadata": {},
   "outputs": [
    {
     "name": "stdout",
     "output_type": "stream",
     "text": [
      "tensor([ 2, 12, 22, 32, 42, 52, 62, 72, 82, 92])\n",
      "torch.Size([10])\n"
     ]
    }
   ],
   "source": [
    "v = A[:, 2 ]\n",
    "print(v)\n",
    "print(v.size())"
   ]
  },
  {
   "cell_type": "markdown",
   "metadata": {},
   "source": [
    "### If you want to extract the row 3, you can do:"
   ]
  },
  {
   "cell_type": "code",
   "execution_count": 56,
   "metadata": {},
   "outputs": [
    {
     "name": "stdout",
     "output_type": "stream",
     "text": [
      "tensor([30, 31, 32, 33, 34, 35, 36, 37, 38, 39])\n",
      "torch.Size([10])\n"
     ]
    }
   ],
   "source": [
    "v = A[3, : ]\n",
    "print(v)\n",
    "print(v.size())"
   ]
  },
  {
   "cell_type": "markdown",
   "metadata": {},
   "source": [
    "### Or, since we are dealing with the leading dimension, we can simply do:"
   ]
  },
  {
   "cell_type": "code",
   "execution_count": 57,
   "metadata": {},
   "outputs": [
    {
     "name": "stdout",
     "output_type": "stream",
     "text": [
      "tensor([30, 31, 32, 33, 34, 35, 36, 37, 38, 39])\n",
      "torch.Size([10])\n"
     ]
    }
   ],
   "source": [
    "v = A[3]\n",
    "print(v)\n",
    "print(v.size())"
   ]
  },
  {
   "cell_type": "markdown",
   "metadata": {},
   "source": [
    "### Finally, you can obviously slice higher dimensional tensors. Try to see if you can figure out what iis happening here:"
   ]
  },
  {
   "cell_type": "code",
   "execution_count": 58,
   "metadata": {},
   "outputs": [
    {
     "name": "stdout",
     "output_type": "stream",
     "text": [
      "tensor([[[ 0,  1,  2,  3],\n",
      "         [ 4,  5,  6,  7],\n",
      "         [ 8,  9, 10, 11],\n",
      "         [12, 13, 14, 15]],\n",
      "\n",
      "        [[16, 17, 18, 19],\n",
      "         [20, 21, 22, 23],\n",
      "         [24, 25, 26, 27],\n",
      "         [28, 29, 30, 31]],\n",
      "\n",
      "        [[32, 33, 34, 35],\n",
      "         [36, 37, 38, 39],\n",
      "         [40, 41, 42, 43],\n",
      "         [44, 45, 46, 47]]])\n"
     ]
    }
   ],
   "source": [
    "A=torch.arange(48).view(3,4,4)\n",
    "print(A)"
   ]
  },
  {
   "cell_type": "code",
   "execution_count": 59,
   "metadata": {},
   "outputs": [
    {
     "name": "stdout",
     "output_type": "stream",
     "text": [
      "tensor([[[ 0,  1,  2],\n",
      "         [ 4,  5,  6],\n",
      "         [ 8,  9, 10]],\n",
      "\n",
      "        [[16, 17, 18],\n",
      "         [20, 21, 22],\n",
      "         [24, 25, 26]]])\n"
     ]
    }
   ],
   "source": [
    "B=A[0:2,0:3,0:3]\n",
    "print(B)"
   ]
  },
  {
   "cell_type": "code",
   "execution_count": 60,
   "metadata": {},
   "outputs": [
    {
     "name": "stdout",
     "output_type": "stream",
     "text": [
      "tensor([[ 1,  2,  3],\n",
      "        [ 5,  6,  7],\n",
      "        [ 9, 10, 11],\n",
      "        [13, 14, 15]])\n"
     ]
    }
   ],
   "source": [
    "B= A[0,:,1:4]\n",
    "print(B)"
   ]
  },
  {
   "cell_type": "code",
   "execution_count": null,
   "metadata": {},
   "outputs": [],
   "source": []
  }
 ],
 "metadata": {
  "kernelspec": {
   "display_name": "Python 3",
   "language": "python",
   "name": "python3"
  },
  "language_info": {
   "codemirror_mode": {
    "name": "ipython",
    "version": 3
   },
   "file_extension": ".py",
   "mimetype": "text/x-python",
   "name": "python",
   "nbconvert_exporter": "python",
   "pygments_lexer": "ipython3",
   "version": "3.7.0"
  }
 },
 "nbformat": 4,
 "nbformat_minor": 2
}
