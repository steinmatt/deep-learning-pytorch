{
 "cells": [
  {
   "cell_type": "markdown",
   "metadata": {},
   "source": [
    "# HWK 2 -- solution"
   ]
  },
  {
   "cell_type": "markdown",
   "metadata": {},
   "source": [
    "### This is the vector class on which we have been working last lecture:"
   ]
  },
  {
   "cell_type": "code",
   "execution_count": 1,
   "metadata": {},
   "outputs": [],
   "source": [
    "class vector:\n",
    "    \n",
    "    def __init__(self, list_of_nb):\n",
    "        self.entries = list_of_nb\n",
    "        self.length = len(list_of_nb)\n",
    "        \n",
    "    def norm(self):\n",
    "        s=0\n",
    "        for i in range(0,self.length):\n",
    "            s+= self.entries[i]**2\n",
    "        return s**0.5\n",
    "    \n",
    "    def threshold(self , max_val ):\n",
    "        for i in range(0,self.length):\n",
    "            if self.entries[i]>max_val:\n",
    "                self.entries[i]=max_val\n",
    "                \n",
    "    def display(self ):\n",
    "        for i in range(0,self.length):\n",
    "            print(self.entries[i])\n",
    "    \n",
    "    def multiply_by_scalar_(self,scalar):\n",
    "        for i in range(0,self.length):\n",
    "            self.entries[i] = self.entries[i] * scalar\n",
    "    \n",
    "    def multiply_by_scalar(self,scalar):       \n",
    "        my_list=[]       \n",
    "        for i in range(0,self.length):\n",
    "            my_list.append( self.entries[i] * scalar )           \n",
    "        new_v = vector(my_list)       \n",
    "        return new_v\n",
    "    \n",
    "    def dot(self,other_vector):\n",
    "        s=0\n",
    "        for i in range(0,self.length):\n",
    "            s += self.entries[i] * other_vector.entries[i]\n",
    "        return s\n",
    "    \n",
    "    def add_(self,other_vector):       \n",
    "        for i in range(0,self.length):\n",
    "            self.entries[i] += other_vector.entries[i]\n",
    "            \n",
    "    def add(self,other_vector):  \n",
    "        my_list=[]\n",
    "        for i in range(0,self.length):\n",
    "            my_list.append( self.entries[i] + other_vector.entries[i] )\n",
    "        new_v = vector(my_list)\n",
    "        return new_v"
   ]
  },
  {
   "cell_type": "markdown",
   "metadata": {},
   "source": [
    "### Now you are going to implement a matrix class. A matrix will have three attributes:\n",
    "* entries (we are going to use a list of lists)\n",
    "* height\n",
    "* width\n",
    "### Lets take an  example. Consider the matrix $A=\\begin{bmatrix}1&2 \\\\ 3 & 4 \\\\ 5 & 6  \\end{bmatrix}$\n",
    "* Then the attribute \"entries\" is the folowing list of lists: [ [1,2], [3,4] , [5,6]]. Each row is a list with two entries, and the matrix is a list of rows. \n",
    "* The attribute height is equal to 3 (length of the outer list)\n",
    "* The attribute width is equal to 2 (length of any of the inside lists)\n",
    "### Complete the class below (we will add methods later)"
   ]
  },
  {
   "cell_type": "code",
   "execution_count": 2,
   "metadata": {},
   "outputs": [],
   "source": [
    "class matrix:\n",
    "    \n",
    "    def __init__(self, list_of_lists):\n",
    "        self.entries = list_of_lists\n",
    "        self.height =  len(list_of_lists)\n",
    "        self.width =   len(list_of_lists[0])"
   ]
  },
  {
   "cell_type": "markdown",
   "metadata": {},
   "source": [
    "### Create the matrix $A=\\begin{bmatrix}1&2 \\\\ 3 & 4 \\\\ 5 & 6  \\end{bmatrix}$ and prints its three atrributes."
   ]
  },
  {
   "cell_type": "code",
   "execution_count": 3,
   "metadata": {},
   "outputs": [
    {
     "name": "stdout",
     "output_type": "stream",
     "text": [
      "[[1, 2], [3, 4], [5, 6]]\n",
      "3\n",
      "2\n"
     ]
    }
   ],
   "source": [
    "A = matrix( [ [1,2], [3,4] , [5,6]] )\n",
    "print(  A.entries  )\n",
    "print(  A.height )\n",
    "print(  A.width  )"
   ]
  },
  {
   "cell_type": "markdown",
   "metadata": {},
   "source": [
    "### Now let's add a method that display the matrix nicely. You have nothing to do here. Just make sure you underdstand the code."
   ]
  },
  {
   "cell_type": "code",
   "execution_count": 4,
   "metadata": {},
   "outputs": [],
   "source": [
    "class matrix:\n",
    "    \n",
    "    def __init__(self, list_of_lists):\n",
    "        self.entries = list_of_lists\n",
    "        self.height =  len(list_of_lists)\n",
    "        self.width =   len(list_of_lists[0])\n",
    "        \n",
    "    def display(self):\n",
    "        for i in range(0, self.height):\n",
    "            print(self.entries[i])"
   ]
  },
  {
   "cell_type": "code",
   "execution_count": 5,
   "metadata": {},
   "outputs": [],
   "source": [
    "A = matrix( [ [1,2], [3,4] , [5,6]] )"
   ]
  },
  {
   "cell_type": "code",
   "execution_count": 6,
   "metadata": {},
   "outputs": [
    {
     "data": {
      "text/plain": [
       "[[1, 2], [3, 4], [5, 6]]"
      ]
     },
     "execution_count": 6,
     "metadata": {},
     "output_type": "execute_result"
    }
   ],
   "source": [
    "A.entries"
   ]
  },
  {
   "cell_type": "code",
   "execution_count": 7,
   "metadata": {},
   "outputs": [
    {
     "name": "stdout",
     "output_type": "stream",
     "text": [
      "[1, 2]\n",
      "[3, 4]\n",
      "[5, 6]\n"
     ]
    }
   ],
   "source": [
    "A.display()"
   ]
  },
  {
   "cell_type": "markdown",
   "metadata": {},
   "source": [
    "### Add a method that do matrix addition \"in-place\". That is: \n",
    "$$A \\leftarrow A+B $$ \n",
    "### This notation means that we first compute A+B then we put the result in the matrix A (in other word: this is an in-place operation that changes the content of the matrix A)"
   ]
  },
  {
   "cell_type": "code",
   "execution_count": 8,
   "metadata": {},
   "outputs": [],
   "source": [
    "class matrix:\n",
    "    \n",
    "    def __init__(self, list_of_lists):\n",
    "        self.entries = list_of_lists\n",
    "        self.height =  len(list_of_lists)\n",
    "        self.width =   len(list_of_lists[0])\n",
    "        \n",
    "    def display(self):\n",
    "        for i in range(0, self.height):\n",
    "            print(self.entries[i])\n",
    "            \n",
    "    def add_(self, other_matrix):\n",
    "        for i in range(0,self.height):\n",
    "            for j in range(0,self.width):\n",
    "                self.entries[i][j] += other_matrix.entries[i][j]\n",
    "          "
   ]
  },
  {
   "cell_type": "markdown",
   "metadata": {},
   "source": [
    "### Create a matrix $A=\\begin{bmatrix}1&2 \\\\ 3 & 4 \\\\ 5 & 6  \\end{bmatrix}$ and a matrix $B=\\begin{bmatrix}1&1 \\\\ 0 & 0 \\\\ 0 & 2  \\end{bmatrix}$"
   ]
  },
  {
   "cell_type": "code",
   "execution_count": 9,
   "metadata": {},
   "outputs": [
    {
     "name": "stdout",
     "output_type": "stream",
     "text": [
      "[1, 2]\n",
      "[3, 4]\n",
      "[5, 6]\n",
      "\n",
      "[1, 1]\n",
      "[0, 0]\n",
      "[0, 2]\n"
     ]
    }
   ],
   "source": [
    "A = matrix( [ [1,2], [3,4] , [5,6]] )\n",
    "B= matrix( [ [1,1], [0,0] , [0,2]] )\n",
    "A.display()\n",
    "print('')\n",
    "B.display()"
   ]
  },
  {
   "cell_type": "markdown",
   "metadata": {},
   "source": [
    "### Compute $A+B$ using the add_() method.  Check by hand that the result is correct. Note that the matrix $A$ has changed since this in an in-place operation."
   ]
  },
  {
   "cell_type": "code",
   "execution_count": 10,
   "metadata": {},
   "outputs": [
    {
     "name": "stdout",
     "output_type": "stream",
     "text": [
      "[2, 3]\n",
      "[3, 4]\n",
      "[5, 8]\n"
     ]
    }
   ],
   "source": [
    "A.add_(B)\n",
    "A.display()"
   ]
  },
  {
   "cell_type": "markdown",
   "metadata": {},
   "source": [
    "### Add a method that do matrix addition, but this time it is not an in-place operation (the method will return a third matrix and will not changed the content of the matrix $A$). This method is harder to write because we are dealing with list of lists, and it is confusing to properly use the append() method. The idea is that we start with an empty row and keep appending entries to this row until the row is complete. Then you append the completed row to the list of lists."
   ]
  },
  {
   "cell_type": "code",
   "execution_count": 11,
   "metadata": {},
   "outputs": [],
   "source": [
    "class matrix:\n",
    "    \n",
    "    def __init__(self, list_of_lists):\n",
    "        self.entries = list_of_lists\n",
    "        self.height =  len(list_of_lists)\n",
    "        self.width =   len(list_of_lists[0])\n",
    "        \n",
    "    def display(self):\n",
    "        for i in range(0, self.height):\n",
    "            print(self.entries[i])\n",
    "            \n",
    "    def add_(self, other_matrix):\n",
    "        for i in range(0,self.height):\n",
    "            for j in range(0,self.width):\n",
    "                self.entries[i][j] += other_matrix.entries[i][j]\n",
    "            \n",
    "    def add(self, other_matrix):\n",
    "        list_of_lists=[]\n",
    "        for i in range(0,self.height):\n",
    "            row=[]\n",
    "            for j in range(0,self.width):\n",
    "                row.append( self.entries[i][j] + other_matrix.entries[i][j])\n",
    "            list_of_lists.append(row)\n",
    "        new_matrix=matrix(list_of_lists)\n",
    "        return new_matrix\n",
    "                            "
   ]
  },
  {
   "cell_type": "markdown",
   "metadata": {},
   "source": [
    "### Create a matrix $A=\\begin{bmatrix}1&2 \\\\ 3 & 4 \\\\ 5 & 6  \\end{bmatrix}$ and a matrix $B=\\begin{bmatrix}1&1 \\\\ 0 & 0 \\\\ 0 & 2  \\end{bmatrix}$"
   ]
  },
  {
   "cell_type": "code",
   "execution_count": 12,
   "metadata": {},
   "outputs": [
    {
     "name": "stdout",
     "output_type": "stream",
     "text": [
      "[1, 2]\n",
      "[3, 4]\n",
      "[5, 6]\n",
      "\n",
      "[1, 1]\n",
      "[0, 0]\n",
      "[0, 2]\n"
     ]
    }
   ],
   "source": [
    "A = matrix( [ [1,2], [3,4] , [5,6]] )\n",
    "B= matrix( [ [1,1], [0,0] , [0,2]] )\n",
    "A.display()\n",
    "print('')\n",
    "B.display()"
   ]
  },
  {
   "cell_type": "markdown",
   "metadata": {},
   "source": [
    "### Create a third matrix $C=A+B$"
   ]
  },
  {
   "cell_type": "code",
   "execution_count": 13,
   "metadata": {},
   "outputs": [
    {
     "name": "stdout",
     "output_type": "stream",
     "text": [
      "[2, 3]\n",
      "[3, 4]\n",
      "[5, 8]\n"
     ]
    }
   ],
   "source": [
    "C=A.add(B)\n",
    "C.display()"
   ]
  },
  {
   "cell_type": "markdown",
   "metadata": {},
   "source": [
    "### Add a method which does the following:\n",
    "$$\n",
    "A \\leftarrow A+cB\n",
    "$$\n",
    "### where $c$ is a scalar and $B$ is a matrix. So here it should be an \"in-place\" operation. We first compute $A+cB$ and we place the result in the matrix $A$."
   ]
  },
  {
   "cell_type": "code",
   "execution_count": 14,
   "metadata": {},
   "outputs": [],
   "source": [
    "class matrix:\n",
    "    \n",
    "    def __init__(self, list_of_lists):\n",
    "        self.entries = list_of_lists\n",
    "        self.height =  len(list_of_lists)\n",
    "        self.width =   len(list_of_lists[0])\n",
    "        \n",
    "    def display(self):\n",
    "        for i in range(0, self.height):\n",
    "            print(self.entries[i])\n",
    "            \n",
    "    def add_(self, other_matrix):\n",
    "        for i in range(0,self.height):\n",
    "            for j in range(0,self.width):\n",
    "                self.entries[i][j] += other_matrix.entries[i][j]\n",
    "            \n",
    "    def add(self, other_matrix):\n",
    "        list_of_lists=[]\n",
    "        for i in range(0,self.height):\n",
    "            row=[]\n",
    "            for j in range(0,self.width):\n",
    "                row.append( self.entries[i][j] + other_matrix.entries[i][j])\n",
    "            list_of_lists.append(row)\n",
    "        new_matrix=matrix(list_of_lists)\n",
    "        return new_matrix\n",
    "    \n",
    "    def scalar_mult_then_add_(self, scalar, other_matrix):\n",
    "        for i in range(0,self.height):\n",
    "            for j in range(0,self.width):\n",
    "                self.entries[i][j] += scalar * other_matrix.entries[i][j]"
   ]
  },
  {
   "cell_type": "markdown",
   "metadata": {},
   "source": [
    "### Create a matrix $A=\\begin{bmatrix}1&2 & 3 & 4 \\\\  5 & 6 & 7 & 8  \\end{bmatrix}$ and a matrix $B=\\begin{bmatrix}1 & 1 & 2 & 2 \\\\  -1 & 0 & 0 & 1 \\end{bmatrix}$"
   ]
  },
  {
   "cell_type": "code",
   "execution_count": 15,
   "metadata": {},
   "outputs": [
    {
     "name": "stdout",
     "output_type": "stream",
     "text": [
      "[1, 2, 3, 4]\n",
      "[5, 6, 7, 8]\n",
      "\n",
      "[1, 1, 2, 2]\n",
      "[-1, 0, 0, 1]\n"
     ]
    }
   ],
   "source": [
    "A = matrix( [ [1,2,3,4], [5,6,7,8]] )\n",
    "B= matrix( [[1,1,2,2] , [-1,0,0,1] ] )\n",
    "A.display()\n",
    "print('')\n",
    "B.display()"
   ]
  },
  {
   "cell_type": "markdown",
   "metadata": {},
   "source": [
    "### Compute $A+10B$"
   ]
  },
  {
   "cell_type": "code",
   "execution_count": 16,
   "metadata": {},
   "outputs": [
    {
     "name": "stdout",
     "output_type": "stream",
     "text": [
      "[11, 12, 23, 24]\n",
      "[-5, 6, 7, 18]\n"
     ]
    }
   ],
   "source": [
    "A.scalar_mult_then_add_(10,B)\n",
    "A.display()"
   ]
  },
  {
   "cell_type": "markdown",
   "metadata": {},
   "source": [
    "### Add a method that do matrix-vector multiplication. Note that the method will have an argument which is a vector object (coming from our vector class) and the output will also be a vector object."
   ]
  },
  {
   "cell_type": "code",
   "execution_count": 17,
   "metadata": {},
   "outputs": [],
   "source": [
    "class matrix:\n",
    "    \n",
    "    def __init__(self, list_of_lists):\n",
    "        self.entries = list_of_lists\n",
    "        self.height =  len(list_of_lists)\n",
    "        self.width =   len(list_of_lists[0])\n",
    "        \n",
    "    def display(self):\n",
    "        for i in range(0, self.height):\n",
    "            print(self.entries[i])\n",
    "            \n",
    "    def add_(self, other_matrix):\n",
    "        for i in range(0,self.height):\n",
    "            for j in range(0,self.width):\n",
    "                self.entries[i][j] += other_matrix.entries[i][j]\n",
    "            \n",
    "    def add(self, other_matrix):\n",
    "        list_of_lists=[]\n",
    "        for i in range(0,self.height):\n",
    "            row=[]\n",
    "            for j in range(0,self.width):\n",
    "                row.append( self.entries[i][j] + other_matrix.entries[i][j])\n",
    "            list_of_lists.append(row)\n",
    "        new_matrix=matrix(list_of_lists)\n",
    "        return new_matrix\n",
    "    \n",
    "    def scalar_mult_then_add_(self, scalar, other_matrix):\n",
    "        for i in range(0,self.height):\n",
    "            for j in range(0,self.width):\n",
    "                self.entries[i][j] += scalar * other_matrix.entries[i][j]\n",
    "            \n",
    "    def mult(self, vec):\n",
    "        my_list=[]\n",
    "        for i in range(0,self.height):\n",
    "            s=0\n",
    "            for j in range(0,self.width):\n",
    "                s += self.entries[i][j] * vec.entries[j]\n",
    "            my_list.append(s)\n",
    "        new_vec = vector(my_list)\n",
    "        return new_vec\n",
    "                "
   ]
  },
  {
   "cell_type": "markdown",
   "metadata": {},
   "source": [
    "### Create a matrix $A=\\begin{bmatrix}1&2 \\\\ 3 & 4 \\\\ 5 & 6  \\end{bmatrix}$ and a vector $v=\\begin{bmatrix} 2\\\\1 \\end{bmatrix}$"
   ]
  },
  {
   "cell_type": "code",
   "execution_count": 18,
   "metadata": {},
   "outputs": [
    {
     "name": "stdout",
     "output_type": "stream",
     "text": [
      "[1, 2]\n",
      "[3, 4]\n",
      "[5, 6]\n",
      "\n",
      "2\n",
      "1\n"
     ]
    }
   ],
   "source": [
    "A = matrix( [ [1,2], [3,4] , [5,6]] )\n",
    "v = vector( [2,1])\n",
    "A.display()\n",
    "print('')\n",
    "v.display()"
   ]
  },
  {
   "cell_type": "markdown",
   "metadata": {},
   "source": [
    "### Compute the matrix vector product $ w=Av $ using the mult() method and check by hand that you got the correct answer"
   ]
  },
  {
   "cell_type": "code",
   "execution_count": 19,
   "metadata": {},
   "outputs": [
    {
     "name": "stdout",
     "output_type": "stream",
     "text": [
      "4\n",
      "10\n",
      "16\n"
     ]
    }
   ],
   "source": [
    "w=A.mult(v)\n",
    "w.display()"
   ]
  },
  {
   "cell_type": "markdown",
   "metadata": {},
   "source": [
    "### Create the matrix and the vector:\n",
    "$$\n",
    "A=\\begin{bmatrix}1& 1 & 1 \\\\ 0 & 2 & 0 \\\\ 1 & -1 & -1 \\\\ 1 & 2 & 1   \\end{bmatrix}\n",
    "\\quad v=\n",
    "\\begin{bmatrix} 2\\\\3 \\\\4 \\end{bmatrix}\n",
    "$$\n"
   ]
  },
  {
   "cell_type": "code",
   "execution_count": 20,
   "metadata": {},
   "outputs": [
    {
     "name": "stdout",
     "output_type": "stream",
     "text": [
      "[1, 1, 1]\n",
      "[0, 2, 0]\n",
      "[1, -1, -1]\n",
      "[1, 2, 1]\n",
      "\n",
      "2\n",
      "3\n",
      "4\n"
     ]
    }
   ],
   "source": [
    "A = matrix( [ [1,1,1], [0,2,0] , [1,-1,-1] , [1,2,1] ])\n",
    "v = vector( [2,3,4])\n",
    "A.display()\n",
    "print('')\n",
    "v.display()"
   ]
  },
  {
   "cell_type": "markdown",
   "metadata": {},
   "source": [
    "### Compute $w=Av$ and check that by hand that the result is correct."
   ]
  },
  {
   "cell_type": "code",
   "execution_count": 21,
   "metadata": {},
   "outputs": [
    {
     "name": "stdout",
     "output_type": "stream",
     "text": [
      "9\n",
      "6\n",
      "-5\n",
      "12\n"
     ]
    }
   ],
   "source": [
    "w=A.mult(v)\n",
    "w.display()"
   ]
  },
  {
   "cell_type": "markdown",
   "metadata": {},
   "source": [
    "### Now lets go back to the vector class. Let's add a method to the vector class that compute the outer product of two vectors. So this method will return a matrix object from our matrix class. Again, since we are dealing with list of lists, well the code is a little confusing."
   ]
  },
  {
   "cell_type": "code",
   "execution_count": 22,
   "metadata": {},
   "outputs": [],
   "source": [
    "class vector:\n",
    "    \n",
    "    def __init__(self, list_of_nb):\n",
    "        self.entries = list_of_nb\n",
    "        self.length = len(list_of_nb)\n",
    "        \n",
    "    def norm(self):\n",
    "        s=0\n",
    "        for i in range(0,self.length):\n",
    "            s+= self.entries[i]**2\n",
    "        return s**0.5\n",
    "    \n",
    "    def threshold(self , max_val ):\n",
    "        for i in range(0,self.length):\n",
    "            if self.entries[i]>max_val:\n",
    "                self.entries[i]=max_val\n",
    "                \n",
    "    def display(self ):\n",
    "        for i in range(0,self.length):\n",
    "            print(self.entries[i])\n",
    "    \n",
    "    def multiply_by_scalar_(self,scalar):\n",
    "        for i in range(0,self.length):\n",
    "            self.entries[i] = self.entries[i] * scalar\n",
    "    \n",
    "    def multiply_by_scalar(self,scalar):       \n",
    "        my_list=[]       \n",
    "        for i in range(0,self.length):\n",
    "            my_list.append( self.entries[i] * scalar )           \n",
    "        new_v = vector(my_list)       \n",
    "        return new_v\n",
    "    \n",
    "    def dot(self,other_vector):\n",
    "        s=0\n",
    "        for i in range(0,self.length):\n",
    "            s += self.entries[i] * other_vector.entries[i]\n",
    "        return s\n",
    "    \n",
    "    def add_(self,other_vector):       \n",
    "        for i in range(0,self.length):\n",
    "            self.entries[i] += other_vector.entries[i]\n",
    "            \n",
    "    def add(self,other_vector):  \n",
    "        my_list=[]\n",
    "        for i in range(0,self.length):\n",
    "            my_list.append( self.entries[i] + other_vector.entries[i] )\n",
    "        new_v = vector(my_list)\n",
    "        return new_v\n",
    "    \n",
    "    def outer_product(self, other_vector):\n",
    "        list_of_lists=[]\n",
    "        for i in range(0,self.length):\n",
    "            row=[]\n",
    "            for j in range(0,other_vector.length):\n",
    "                row.append(self.entries[i]*other_vector.entries[j])\n",
    "            list_of_lists.append(row)\n",
    "        A=matrix(list_of_lists)\n",
    "        return(A)"
   ]
  },
  {
   "cell_type": "markdown",
   "metadata": {},
   "source": [
    "### Use your new method to compute the following outer product:\n",
    "$$\n",
    "\\begin{bmatrix}\n",
    "1\\\\2\\\\0\\\\1\n",
    "\\end{bmatrix}\n",
    "\\otimes\n",
    "\\begin{bmatrix}\n",
    "1\\\\2\\\\2\\\\4\\\\1\\\\2\n",
    "\\end{bmatrix} \\quad= \\quad\n",
    "\\begin{bmatrix}\n",
    "1\\\\2\\\\0\\\\1\n",
    "\\end{bmatrix}\n",
    "\\begin{bmatrix}\n",
    "1&2&2&4&1&2\n",
    "\\end{bmatrix}\n",
    "\\quad= \\quad\n",
    "$$\n",
    "### Check by hand that you got the correct result."
   ]
  },
  {
   "cell_type": "code",
   "execution_count": 23,
   "metadata": {},
   "outputs": [
    {
     "name": "stdout",
     "output_type": "stream",
     "text": [
      "[1, 2, 2, 4, 1, 2]\n",
      "[2, 4, 4, 8, 2, 4]\n",
      "[0, 0, 0, 0, 0, 0]\n",
      "[1, 2, 2, 4, 1, 2]\n"
     ]
    }
   ],
   "source": [
    "v=vector([1,2,0,1])\n",
    "w=vector([1,2,2,4,1,2])\n",
    "A=v.outer_product(w)\n",
    "A.display()"
   ]
  },
  {
   "cell_type": "markdown",
   "metadata": {},
   "source": [
    "### Optional problem: Add a method to do matrix-matrix multiplication"
   ]
  },
  {
   "cell_type": "markdown",
   "metadata": {},
   "source": [
    "### Optional problem: Add a method that take the transpose of a matrix"
   ]
  }
 ],
 "metadata": {
  "kernelspec": {
   "display_name": "Python 3",
   "language": "python",
   "name": "python3"
  },
  "language_info": {
   "codemirror_mode": {
    "name": "ipython",
    "version": 3
   },
   "file_extension": ".py",
   "mimetype": "text/x-python",
   "name": "python",
   "nbconvert_exporter": "python",
   "pygments_lexer": "ipython3",
   "version": "3.6.4"
  }
 },
 "nbformat": 4,
 "nbformat_minor": 2
}
