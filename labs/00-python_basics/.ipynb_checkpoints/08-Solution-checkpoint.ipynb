{
 "cells": [
  {
   "cell_type": "markdown",
   "metadata": {},
   "source": [
    "# Solution"
   ]
  },
  {
   "cell_type": "markdown",
   "metadata": {},
   "source": [
    "### Make a new method that do vector addition \"in place\". That is, the method will change the content of the vector by adding another vector to it. "
   ]
  },
  {
   "cell_type": "code",
   "execution_count": 1,
   "metadata": {},
   "outputs": [],
   "source": [
    "class Vector:\n",
    "    \n",
    "    def __init__(self, list_of_nb):\n",
    "        self.entries = list_of_nb\n",
    "        self.length = len(list_of_nb)\n",
    "        \n",
    "    def norm(self):\n",
    "        s=0\n",
    "        for i in range(0,self.length):\n",
    "            s+= self.entries[i]**2\n",
    "        return s**0.5\n",
    "    \n",
    "    def threshold(self , max_val ):\n",
    "        for i in range(0,self.length):\n",
    "            if self.entries[i]>max_val:\n",
    "                self.entries[i]=max_val\n",
    "                \n",
    "    def display(self ):\n",
    "        for i in range(0,self.length):\n",
    "            print(self.entries[i])\n",
    "    \n",
    "    def multiply_by_scalar_(self,scalar):\n",
    "        for i in range(0,self.length):\n",
    "            self.entries[i] = self.entries[i] * scalar\n",
    "    \n",
    "    def multiply_by_scalar(self,scalar):       \n",
    "        my_list=[]       \n",
    "        for i in range(0,self.length):\n",
    "            my_list.append( self.entries[i] * scalar )           \n",
    "        new_v = Vector(my_list)       \n",
    "        return new_v\n",
    "    \n",
    "    def dot(self,other_vector):\n",
    "        s=0\n",
    "        for i in range(0,self.length):\n",
    "            s += self.entries[i] * other_vector.entries[i]\n",
    "        return s\n",
    "    \n",
    "    def add_(self,other_vector):       \n",
    "        for i in range(0,self.length):\n",
    "            self.entries[i] += other_vector.entries[i]\n",
    "        \n",
    "    \n",
    "    "
   ]
  },
  {
   "cell_type": "markdown",
   "metadata": {},
   "source": [
    "### Create the vector $v=\\begin{bmatrix}1\\\\2\\\\3 \\end{bmatrix}$ and $w=\\begin{bmatrix}-1\\\\1\\\\1 \\end{bmatrix}$"
   ]
  },
  {
   "cell_type": "code",
   "execution_count": 2,
   "metadata": {},
   "outputs": [
    {
     "name": "stdout",
     "output_type": "stream",
     "text": [
      "[1, 2, 3]\n",
      "[-1, 1, 1]\n"
     ]
    }
   ],
   "source": [
    "v=Vector([1,2,3])\n",
    "w=Vector([-1,1,1])\n",
    "print(v.entries)\n",
    "print(w.entries)"
   ]
  },
  {
   "cell_type": "markdown",
   "metadata": {},
   "source": [
    "### Change the content of $v$ by adding the vector $w$ to it. That is, the entries of $v$ should be replaced by the entries of $v+w$."
   ]
  },
  {
   "cell_type": "code",
   "execution_count": 3,
   "metadata": {},
   "outputs": [
    {
     "name": "stdout",
     "output_type": "stream",
     "text": [
      "[0, 3, 4]\n"
     ]
    }
   ],
   "source": [
    "v.add_(w)\n",
    "print(v.entries)"
   ]
  },
  {
   "cell_type": "markdown",
   "metadata": {},
   "source": [
    "### Now add a method that do vector addition *NOT* in place. So your method should not change the content of the vector: it should create a new vector."
   ]
  },
  {
   "cell_type": "code",
   "execution_count": 4,
   "metadata": {},
   "outputs": [],
   "source": [
    "class Vector:\n",
    "    \n",
    "    def __init__(self, list_of_nb):\n",
    "        self.entries = list_of_nb\n",
    "        self.length = len(list_of_nb)\n",
    "        \n",
    "    def norm(self):\n",
    "        s=0\n",
    "        for i in range(0,self.length):\n",
    "            s+= self.entries[i]**2\n",
    "        return s**0.5\n",
    "    \n",
    "    def threshold(self , max_val ):\n",
    "        for i in range(0,self.length):\n",
    "            if self.entries[i]>max_val:\n",
    "                self.entries[i]=max_val\n",
    "                \n",
    "    def display(self ):\n",
    "        for i in range(0,self.length):\n",
    "            print(self.entries[i])\n",
    "    \n",
    "    def multiply_by_scalar_(self,scalar):\n",
    "        for i in range(0,self.length):\n",
    "            self.entries[i] = self.entries[i] * scalar\n",
    "    \n",
    "    def multiply_by_scalar(self,scalar):       \n",
    "        my_list=[]       \n",
    "        for i in range(0,self.length):\n",
    "            my_list.append( self.entries[i] * scalar )           \n",
    "        new_v = Vector(my_list)       \n",
    "        return new_v\n",
    "    \n",
    "    def dot(self,other_vector):\n",
    "        s=0\n",
    "        for i in range(0,self.length):\n",
    "            s += self.entries[i] * other_vector.entries[i]\n",
    "        return s\n",
    "    \n",
    "    def add_(self,other_vector):       \n",
    "        for i in range(0,self.length):\n",
    "            self.entries[i] += other_vector.entries[i]\n",
    "            \n",
    "    def add(self,other_vector):  \n",
    "        my_list=[]\n",
    "        for i in range(0,self.length):\n",
    "            my_list.append( self.entries[i] + other_vector.entries[i] )\n",
    "        new_v = Vector(my_list)\n",
    "        return new_v\n",
    "        \n",
    "    \n",
    "    "
   ]
  },
  {
   "cell_type": "markdown",
   "metadata": {},
   "source": [
    "### Create the vector $v=\\begin{bmatrix}1\\\\2\\\\3 \\end{bmatrix}$ and $w=\\begin{bmatrix}-1\\\\1\\\\1 \\end{bmatrix}$"
   ]
  },
  {
   "cell_type": "code",
   "execution_count": 5,
   "metadata": {},
   "outputs": [
    {
     "name": "stdout",
     "output_type": "stream",
     "text": [
      "[1, 2, 3]\n",
      "[-1, 1, 1]\n"
     ]
    }
   ],
   "source": [
    "v=Vector([1,2,3])\n",
    "w=Vector([-1,1,1])\n",
    "print(v.entries)\n",
    "print(w.entries)"
   ]
  },
  {
   "cell_type": "markdown",
   "metadata": {},
   "source": [
    "### Create a new vector $z$ such that $z=v+w$"
   ]
  },
  {
   "cell_type": "code",
   "execution_count": 6,
   "metadata": {},
   "outputs": [
    {
     "name": "stdout",
     "output_type": "stream",
     "text": [
      "[1, 2, 3]\n",
      "[-1, 1, 1]\n",
      "[0, 3, 4]\n"
     ]
    }
   ],
   "source": [
    "z=v.add(w)\n",
    "print(v.entries)\n",
    "print(w.entries)\n",
    "print(z.entries)"
   ]
  }
 ],
 "metadata": {
  "kernelspec": {
   "display_name": "Python 3",
   "language": "python",
   "name": "python3"
  },
  "language_info": {
   "codemirror_mode": {
    "name": "ipython",
    "version": 3
   },
   "file_extension": ".py",
   "mimetype": "text/x-python",
   "name": "python",
   "nbconvert_exporter": "python",
   "pygments_lexer": "ipython3",
   "version": "3.6.4"
  }
 },
 "nbformat": 4,
 "nbformat_minor": 2
}
