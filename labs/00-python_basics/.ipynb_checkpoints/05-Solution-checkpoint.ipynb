{
 "cells": [
  {
   "cell_type": "markdown",
   "metadata": {},
   "source": [
    "# Solution"
   ]
  },
  {
   "cell_type": "markdown",
   "metadata": {},
   "source": [
    "### Add a method called multiply_by_scalar() that multiplies the entries of the vector by the given scalar (so the entries of the vector are going to change)"
   ]
  },
  {
   "cell_type": "code",
   "execution_count": 1,
   "metadata": {},
   "outputs": [],
   "source": [
    "class Vector:\n",
    "    \n",
    "    def __init__(self, list_of_nb):\n",
    "        self.entries = list_of_nb\n",
    "        self.length = len(list_of_nb)\n",
    "        \n",
    "    def norm(self):\n",
    "        s=0\n",
    "        for i in range(0,self.length):\n",
    "            s+= self.entries[i]**2\n",
    "        return s**0.5\n",
    "    \n",
    "    def threshold(self , max_val ):\n",
    "        for i in range(0,self.length):\n",
    "            if self.entries[i]>max_val:\n",
    "                self.entries[i]=max_val\n",
    "                \n",
    "    def display(self ):\n",
    "        for i in range(0,self.length):\n",
    "            print(self.entries[i])\n",
    "            \n",
    "    def multiply_by_scalar(self,scalar):\n",
    "        for i in range(0,self.length):\n",
    "            self.entries[i] = self.entries[i] * scalar\n",
    "        \n",
    "        "
   ]
  },
  {
   "cell_type": "markdown",
   "metadata": {},
   "source": [
    "### Create the vector $ v= \\begin{bmatrix} 5\\\\ 2\\\\ 3 \\end{bmatrix} $ "
   ]
  },
  {
   "cell_type": "code",
   "execution_count": 2,
   "metadata": {},
   "outputs": [
    {
     "name": "stdout",
     "output_type": "stream",
     "text": [
      "[5, 2, 3]\n"
     ]
    }
   ],
   "source": [
    "v = Vector([5,2,3])\n",
    "print(v.entries)"
   ]
  },
  {
   "cell_type": "markdown",
   "metadata": {},
   "source": [
    "### Multiplies the vector $v$ by the scalar 10"
   ]
  },
  {
   "cell_type": "code",
   "execution_count": 3,
   "metadata": {},
   "outputs": [
    {
     "name": "stdout",
     "output_type": "stream",
     "text": [
      "[50, 20, 30]\n"
     ]
    }
   ],
   "source": [
    "v.multiply_by_scalar(10)\n",
    "print(v.entries)"
   ]
  },
  {
   "cell_type": "markdown",
   "metadata": {},
   "source": [
    "### Add a method that return the maximal entrie of the vector. Call this method ``get_max()\""
   ]
  },
  {
   "cell_type": "code",
   "execution_count": 4,
   "metadata": {},
   "outputs": [],
   "source": [
    "class Vector:\n",
    "    \n",
    "    def __init__(self, list_of_nb):\n",
    "        self.entries = list_of_nb\n",
    "        self.length = len(list_of_nb)\n",
    "        \n",
    "    def norm(self):\n",
    "        s=0\n",
    "        for i in range(0,self.length):\n",
    "            s+= self.entries[i]**2\n",
    "        return s**0.5\n",
    "    \n",
    "    def threshold(self , max_val ):\n",
    "        for i in range(0,self.length):\n",
    "            if self.entries[i]>max_val:\n",
    "                self.entries[i]=max_val\n",
    "                \n",
    "    def display(self ):\n",
    "        for i in range(0,self.length):\n",
    "            print(self.entries[i])\n",
    "            \n",
    "    def multiply_by_scalar(self,scalar):\n",
    "        for i in range(0,self.length):\n",
    "            self.entries[i] = self.entries[i] * scalar\n",
    "              \n",
    "    def get_max(self):\n",
    "        max_val=-10000\n",
    "        for i in range(0,self.length):\n",
    "            if self.entries[i]>max_val:\n",
    "                max_val=self.entries[i]\n",
    "        return max_val\n",
    "        "
   ]
  },
  {
   "cell_type": "markdown",
   "metadata": {},
   "source": [
    "### Create the vector $ w= \\begin{bmatrix} 5\\\\ 2\\\\ 3  \\\\ 15 \\\\8\\end{bmatrix} $ "
   ]
  },
  {
   "cell_type": "code",
   "execution_count": 5,
   "metadata": {},
   "outputs": [
    {
     "name": "stdout",
     "output_type": "stream",
     "text": [
      "5\n",
      "2\n",
      "3\n",
      "15\n",
      "8\n"
     ]
    }
   ],
   "source": [
    "w = Vector([5,2,3,15,8])\n",
    "w.display()"
   ]
  },
  {
   "cell_type": "markdown",
   "metadata": {},
   "source": [
    "### Find the maximal value of $w$"
   ]
  },
  {
   "cell_type": "code",
   "execution_count": 6,
   "metadata": {},
   "outputs": [
    {
     "name": "stdout",
     "output_type": "stream",
     "text": [
      "15\n"
     ]
    }
   ],
   "source": [
    "max_value = w.get_max()\n",
    "print(max_value)"
   ]
  }
 ],
 "metadata": {
  "kernelspec": {
   "display_name": "Python 3",
   "language": "python",
   "name": "python3"
  },
  "language_info": {
   "codemirror_mode": {
    "name": "ipython",
    "version": 3
   },
   "file_extension": ".py",
   "mimetype": "text/x-python",
   "name": "python",
   "nbconvert_exporter": "python",
   "pygments_lexer": "ipython3",
   "version": "3.6.4"
  }
 },
 "nbformat": 4,
 "nbformat_minor": 2
}
