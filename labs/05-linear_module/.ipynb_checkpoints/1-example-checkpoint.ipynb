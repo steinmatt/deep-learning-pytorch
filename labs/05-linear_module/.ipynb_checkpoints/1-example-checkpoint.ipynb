{
 "cells": [
  {
   "cell_type": "markdown",
   "metadata": {},
   "source": [
    "# PYTORCH MODULE"
   ]
  },
  {
   "cell_type": "code",
   "execution_count": 2,
   "metadata": {},
   "outputs": [],
   "source": [
    "import torch\n",
    "import torch.nn as nn"
   ]
  },
  {
   "cell_type": "markdown",
   "metadata": {},
   "source": [
    "### Make a _Linear Module_ that takes input of size 5 and return output of size 3"
   ]
  },
  {
   "cell_type": "code",
   "execution_count": 3,
   "metadata": {},
   "outputs": [
    {
     "name": "stdout",
     "output_type": "stream",
     "text": [
      "Linear(in_features=5, out_features=3, bias=True)\n"
     ]
    }
   ],
   "source": [
    "mod = nn.Linear(5,3,bias=True)\n",
    "print(mod)"
   ]
  },
  {
   "cell_type": "markdown",
   "metadata": {},
   "source": [
    "### Let's make a random tensor of size 5:"
   ]
  },
  {
   "cell_type": "code",
   "execution_count": 4,
   "metadata": {},
   "outputs": [
    {
     "name": "stdout",
     "output_type": "stream",
     "text": [
      "tensor([ 0.8043,  0.9316,  0.4033,  0.3410,  0.7952])\n"
     ]
    }
   ],
   "source": [
    "x=torch.rand(5)\n",
    "print(x)"
   ]
  },
  {
   "cell_type": "markdown",
   "metadata": {},
   "source": [
    "### Feed it to the module:"
   ]
  },
  {
   "cell_type": "code",
   "execution_count": 5,
   "metadata": {},
   "outputs": [
    {
     "name": "stdout",
     "output_type": "stream",
     "text": [
      "tensor([-0.0181,  0.0977, -0.4389])\n"
     ]
    }
   ],
   "source": [
    "y=mod(x)\n",
    "print(y)"
   ]
  },
  {
   "cell_type": "markdown",
   "metadata": {},
   "source": [
    "### The output y is computed according to the formula:\n",
    "$$\n",
    "\\begin{bmatrix}\n",
    "y_1\\\\ y_2 \\\\y_3 \n",
    "\\end{bmatrix} =\n",
    "\\begin{bmatrix}\n",
    "w_{11} & w_{12} & w_{13}& w_{14}& w_{15} \\\\\n",
    "w_{21} & w_{22} & w_{23}& w_{24}& w_{25} \\\\\n",
    "w_{31} & w_{32} & w_{33}& w_{34}& w_{35} \\\\\n",
    "\\end{bmatrix}\n",
    "\\begin{bmatrix}\n",
    "x_1\\\\ x_2 \\\\x_3 \\\\ x_4 \\\\x_5\n",
    "\\end{bmatrix}\n",
    "+\n",
    "\\begin{bmatrix}\n",
    "b_1\\\\ b_2 \\\\b_3 \n",
    "\\end{bmatrix}\n",
    "$$\n",
    "### were the $w_{ij}$'s are the weight parameters and the $b_i$'s are the bias parameters. These internal parameters can be access as follow:"
   ]
  },
  {
   "cell_type": "code",
   "execution_count": 10,
   "metadata": {},
   "outputs": [
    {
     "name": "stdout",
     "output_type": "stream",
     "text": [
      "Parameter containing:\n",
      "tensor([[-0.1052, -0.3859,  0.3980,  0.3132, -0.2917],\n",
      "        [ 0.0515,  0.2706,  0.0687, -0.1490,  0.3387],\n",
      "        [-0.3142,  0.4164, -0.0637, -0.2351, -0.2043]])\n"
     ]
    }
   ],
   "source": [
    "print(mod.weight)"
   ]
  },
  {
   "cell_type": "code",
   "execution_count": 11,
   "metadata": {},
   "outputs": [
    {
     "name": "stdout",
     "output_type": "stream",
     "text": [
      "Parameter containing:\n",
      "tensor([ 0.3906, -0.4420, -0.3058])\n"
     ]
    }
   ],
   "source": [
    "print(mod.bias)"
   ]
  },
  {
   "cell_type": "markdown",
   "metadata": {},
   "source": [
    "### If we want we can change the internal parameters of the module:"
   ]
  },
  {
   "cell_type": "code",
   "execution_count": 36,
   "metadata": {},
   "outputs": [
    {
     "name": "stdout",
     "output_type": "stream",
     "text": [
      "Parameter containing:\n",
      "tensor([[ 0.0000,  1.0000,  2.0000, -0.1381, -0.2908],\n",
      "        [ 0.3998,  0.2742, -0.3917, -0.0497,  0.0230],\n",
      "        [ 0.3927, -0.0060,  0.1442, -0.1566,  0.1313]])\n"
     ]
    }
   ],
   "source": [
    "mod.weight[0,0]=0\n",
    "mod.weight[0,1]=1\n",
    "mod.weight[0,2]=2\n",
    "print(mod.weight)"
   ]
  },
  {
   "cell_type": "markdown",
   "metadata": {},
   "source": [
    "### We can also make a Linear module without bias:"
   ]
  },
  {
   "cell_type": "code",
   "execution_count": 13,
   "metadata": {},
   "outputs": [
    {
     "name": "stdout",
     "output_type": "stream",
     "text": [
      "Linear(in_features=5, out_features=3, bias=False)\n"
     ]
    }
   ],
   "source": [
    "mod2 = nn.Linear(5,3,bias=False)\n",
    "print(mod2)"
   ]
  },
  {
   "cell_type": "code",
   "execution_count": 14,
   "metadata": {},
   "outputs": [
    {
     "name": "stdout",
     "output_type": "stream",
     "text": [
      "Parameter containing:\n",
      "tensor([[-0.3502, -0.2420, -0.0229,  0.1956,  0.3102],\n",
      "        [ 0.2108,  0.0206,  0.2111,  0.0001, -0.2742],\n",
      "        [ 0.4366,  0.2610, -0.2124,  0.2119, -0.2551]])\n"
     ]
    }
   ],
   "source": [
    "print(mod2.weight)"
   ]
  },
  {
   "cell_type": "code",
   "execution_count": 15,
   "metadata": {},
   "outputs": [
    {
     "name": "stdout",
     "output_type": "stream",
     "text": [
      "None\n"
     ]
    }
   ],
   "source": [
    "print(mod2.bias)"
   ]
  }
 ],
 "metadata": {
  "kernelspec": {
   "display_name": "Python 3",
   "language": "python",
   "name": "python3"
  },
  "language_info": {
   "codemirror_mode": {
    "name": "ipython",
    "version": 3
   },
   "file_extension": ".py",
   "mimetype": "text/x-python",
   "name": "python",
   "nbconvert_exporter": "python",
   "pygments_lexer": "ipython3",
   "version": "3.6.4"
  }
 },
 "nbformat": 4,
 "nbformat_minor": 2
}
