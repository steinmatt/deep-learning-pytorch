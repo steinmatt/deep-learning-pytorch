{
 "cells": [
  {
   "cell_type": "markdown",
   "metadata": {},
   "source": [
    "# Inspecting a linear module -- exercises"
   ]
  },
  {
   "cell_type": "code",
   "execution_count": 2,
   "metadata": {},
   "outputs": [],
   "source": [
    "import torch\n",
    "import torch.nn as nn"
   ]
  },
  {
   "cell_type": "markdown",
   "metadata": {},
   "source": [
    "### Make a linear module  WITHOUT bias that takes input of size 2 and return output of size 3. "
   ]
  },
  {
   "cell_type": "code",
   "execution_count": 3,
   "metadata": {},
   "outputs": [
    {
     "name": "stdout",
     "output_type": "stream",
     "text": [
      "Linear(in_features=2, out_features=3, bias=False)\n"
     ]
    }
   ],
   "source": [
    "mod=     # complete here\n",
    "print(mod)"
   ]
  },
  {
   "cell_type": "markdown",
   "metadata": {},
   "source": [
    "### Print the internal parameters of the module. Try to print the bias and double check that it return you \"None\""
   ]
  },
  {
   "cell_type": "code",
   "execution_count": 4,
   "metadata": {},
   "outputs": [
    {
     "name": "stdout",
     "output_type": "stream",
     "text": [
      "Parameter containing:\n",
      "tensor([[ 0.5892, -0.5103],\n",
      "        [-0.2543,  0.3784],\n",
      "        [ 0.1480, -0.0284]])\n",
      "None\n"
     ]
    }
   ],
   "source": [
    "print(  # complete here  )\n",
    "print(  # complete here  )"
   ]
  },
  {
   "cell_type": "markdown",
   "metadata": {},
   "source": [
    "### Make a vector $x=\\begin{bmatrix}1\\\\1 \\end{bmatrix}$ and feed it to your linear module. What is the output?"
   ]
  },
  {
   "cell_type": "code",
   "execution_count": 4,
   "metadata": {},
   "outputs": [
    {
     "name": "stdout",
     "output_type": "stream",
     "text": [
      "tensor([ 1.,  1.])\n",
      "tensor([-0.1865,  0.3467, -0.8471])\n"
     ]
    }
   ],
   "source": [
    "x=  # complete here  \n",
    "print(x)\n",
    "y=  # complete here  \n",
    "print(y)"
   ]
  },
  {
   "cell_type": "markdown",
   "metadata": {},
   "source": [
    "### Change the internal parameters of your module so that the weights become $\n",
    "W=\\begin{bmatrix}\n",
    "1&2 \\\\ 3&4 \\\\ 5&6\n",
    "\\end{bmatrix}\n",
    "$. You need to write 6 lines, one per entry to be changed."
   ]
  },
  {
   "cell_type": "code",
   "execution_count": 5,
   "metadata": {},
   "outputs": [
    {
     "name": "stdout",
     "output_type": "stream",
     "text": [
      "Parameter containing:\n",
      "tensor([[ 1.,  2.],\n",
      "        [ 3.,  4.],\n",
      "        [ 5.,  6.]])\n"
     ]
    }
   ],
   "source": [
    "  # complete here  \n",
    "  # complete here  \n",
    "  # complete here  \n",
    "  # complete here  \n",
    "  # complete here  \n",
    "  # complete here  \n",
    "print(mod.weight)"
   ]
  },
  {
   "cell_type": "markdown",
   "metadata": {},
   "source": [
    "### Feed the vector x to your module with updated parameters. What is the output? "
   ]
  },
  {
   "cell_type": "code",
   "execution_count": 6,
   "metadata": {},
   "outputs": [
    {
     "name": "stdout",
     "output_type": "stream",
     "text": [
      "tensor([  3.,   7.,  11.])\n"
     ]
    }
   ],
   "source": [
    "y=  # complete here  \n",
    "print(y)"
   ]
  },
  {
   "cell_type": "markdown",
   "metadata": {},
   "source": [
    "### Compute by hand $y=Wx$ and check that pytorch got it correctly. Check by hand that pytorch got it correct:$$\n",
    "\\begin{bmatrix}\n",
    "1&2 \\\\ 3&4 \\\\ 5&6\n",
    "\\end{bmatrix}\n",
    "\\begin{bmatrix}1\\\\1 \\end{bmatrix}=\n",
    "\\begin{bmatrix}?\\\\? \\\\ ? \\end{bmatrix}\n",
    "$$"
   ]
  },
  {
   "cell_type": "code",
   "execution_count": null,
   "metadata": {},
   "outputs": [],
   "source": []
  }
 ],
 "metadata": {
  "kernelspec": {
   "display_name": "Python 3",
   "language": "python",
   "name": "python3"
  },
  "language_info": {
   "codemirror_mode": {
    "name": "ipython",
    "version": 3
   },
   "file_extension": ".py",
   "mimetype": "text/x-python",
   "name": "python",
   "nbconvert_exporter": "python",
   "pygments_lexer": "ipython3",
   "version": "3.6.4"
  }
 },
 "nbformat": 4,
 "nbformat_minor": 2
}
