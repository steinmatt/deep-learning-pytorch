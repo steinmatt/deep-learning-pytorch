{
 "cells": [
  {
   "cell_type": "markdown",
   "metadata": {},
   "source": [
    "# EPOCH -- DEMO"
   ]
  },
  {
   "cell_type": "code",
   "execution_count": 1,
   "metadata": {},
   "outputs": [],
   "source": [
    "import torch\n",
    "import torch.nn as nn\n",
    "import torch.nn.functional as F\n",
    "import torch.optim as optim\n",
    "from random import randint\n",
    "import utils"
   ]
  },
  {
   "cell_type": "markdown",
   "metadata": {},
   "source": [
    "### Download the data and print the sizes"
   ]
  },
  {
   "cell_type": "code",
   "execution_count": 2,
   "metadata": {},
   "outputs": [
    {
     "name": "stdout",
     "output_type": "stream",
     "text": [
      "torch.Size([60000, 28, 28])\n",
      "torch.Size([60000])\n",
      "torch.Size([10000, 28, 28])\n"
     ]
    }
   ],
   "source": [
    "train_data=torch.load('../../data/mnist/data/train_data.pt')\n",
    "train_label=torch.load('../../data/mnist/data/train_label.pt')\n",
    "test_data=torch.load('../../data/mnist/data/test_data.pt')\n",
    "print(train_data.size())\n",
    "print(train_label.size())\n",
    "print(test_data.size())"
   ]
  },
  {
   "cell_type": "markdown",
   "metadata": {},
   "source": [
    "### Make a one layer net class"
   ]
  },
  {
   "cell_type": "code",
   "execution_count": 3,
   "metadata": {},
   "outputs": [],
   "source": [
    "class one_layer_net(nn.Module):\n",
    "\n",
    "    def __init__(self, input_size, output_size):\n",
    "        super(one_layer_net , self).__init__()\n",
    "        self.linear_layer = nn.Linear( input_size, output_size , bias=False)\n",
    "        \n",
    "    def forward(self, x):\n",
    "        y = self.linear_layer(x)\n",
    "        logprob = F.log_softmax(y, dim=1)\n",
    "        return logprob"
   ]
  },
  {
   "cell_type": "markdown",
   "metadata": {},
   "source": [
    "### Build the net, choose the loss and the optimizer"
   ]
  },
  {
   "cell_type": "code",
   "execution_count": 4,
   "metadata": {},
   "outputs": [
    {
     "name": "stdout",
     "output_type": "stream",
     "text": [
      "one_layer_net(\n",
      "  (linear_layer): Linear(in_features=784, out_features=10, bias=False)\n",
      ")\n"
     ]
    }
   ],
   "source": [
    "net=one_layer_net(28*28,10)\n",
    "print(net)"
   ]
  },
  {
   "cell_type": "markdown",
   "metadata": {},
   "source": [
    "### Choose the criterion and optimizer"
   ]
  },
  {
   "cell_type": "code",
   "execution_count": 5,
   "metadata": {},
   "outputs": [],
   "source": [
    "criterion = nn.NLLLoss()\n",
    "optimizer=torch.optim.SGD(net.parameters() , lr=0.01 )"
   ]
  },
  {
   "cell_type": "markdown",
   "metadata": {},
   "source": [
    "### Choose the size of the mini-batches "
   ]
  },
  {
   "cell_type": "code",
   "execution_count": 6,
   "metadata": {},
   "outputs": [],
   "source": [
    "bs=1"
   ]
  },
  {
   "cell_type": "markdown",
   "metadata": {},
   "source": [
    "### Train the network (only 5000 iterations) on the train set"
   ]
  },
  {
   "cell_type": "code",
   "execution_count": 7,
   "metadata": {},
   "outputs": [
    {
     "name": "stdout",
     "output_type": "stream",
     "text": [
      "epoch= 0 \t average loss= 1.4463404933611552\n",
      "epoch= 1 \t average loss= 0.8467457296450933\n",
      "epoch= 2 \t average loss= 0.6817175706227621\n",
      "epoch= 3 \t average loss= 0.601864383618037\n",
      "epoch= 4 \t average loss= 0.5533138511578242\n",
      "epoch= 5 \t average loss= 0.5201711308956146\n",
      "epoch= 6 \t average loss= 0.49573114623626074\n",
      "epoch= 7 \t average loss= 0.4767895622054736\n",
      "epoch= 8 \t average loss= 0.4616364781061808\n",
      "epoch= 9 \t average loss= 0.44909419159094494\n",
      "epoch= 10 \t average loss= 0.4384991749127706\n",
      "epoch= 11 \t average loss= 0.4294909673929215\n",
      "epoch= 12 \t average loss= 0.4215852857629458\n",
      "epoch= 13 \t average loss= 0.4146831414103508\n",
      "epoch= 14 \t average loss= 0.4085205090045929\n",
      "epoch= 15 \t average loss= 0.402966155509154\n",
      "epoch= 16 \t average loss= 0.3979597406586011\n",
      "epoch= 17 \t average loss= 0.393433571656545\n",
      "epoch= 18 \t average loss= 0.38927025998632114\n",
      "epoch= 19 \t average loss= 0.3854252228140831\n",
      "epoch= 20 \t average loss= 0.38193132609128955\n",
      "epoch= 21 \t average loss= 0.37864466771483424\n",
      "epoch= 22 \t average loss= 0.37557239914933843\n",
      "epoch= 23 \t average loss= 0.37276424010594683\n",
      "epoch= 24 \t average loss= 0.3700883453587691\n",
      "epoch= 25 \t average loss= 0.367577823450168\n",
      "epoch= 26 \t average loss= 0.3652064711352189\n",
      "epoch= 27 \t average loss= 0.3629957794149717\n",
      "epoch= 28 \t average loss= 0.3608690640330315\n",
      "epoch= 29 \t average loss= 0.35890858466426534\n",
      "epoch= 30 \t average loss= 0.3569944278895855\n",
      "epoch= 31 \t average loss= 0.3551971107721329\n",
      "epoch= 32 \t average loss= 0.35346995716293655\n",
      "epoch= 33 \t average loss= 0.35182439123590786\n",
      "epoch= 34 \t average loss= 0.35025366966923077\n",
      "epoch= 35 \t average loss= 0.34875208521882695\n",
      "epoch= 36 \t average loss= 0.3473264889915784\n",
      "epoch= 37 \t average loss= 0.3459441598256429\n",
      "epoch= 38 \t average loss= 0.34460622852047285\n",
      "epoch= 39 \t average loss= 0.3433342302342256\n",
      "epoch= 40 \t average loss= 0.34208298221230504\n",
      "epoch= 41 \t average loss= 0.3409233231842518\n",
      "epoch= 42 \t average loss= 0.3397978121538957\n",
      "epoch= 43 \t average loss= 0.338664548844099\n",
      "epoch= 44 \t average loss= 0.3376302645603816\n",
      "epoch= 45 \t average loss= 0.33659124225378034\n",
      "epoch= 46 \t average loss= 0.335585142771403\n",
      "epoch= 47 \t average loss= 0.33462157994508746\n",
      "epoch= 48 \t average loss= 0.33366585542758304\n",
      "epoch= 49 \t average loss= 0.3327733680109183\n"
     ]
    }
   ],
   "source": [
    "max_epoch=50\n",
    "N=train_data.size(0)\n",
    "\n",
    "for epoch in range(max_epoch):\n",
    "    \n",
    "    shuffled_indices=torch.randperm(N)\n",
    "    running_loss=0\n",
    "    batch_nb=0\n",
    "    \n",
    "    for count in range(0,N,bs):\n",
    "\n",
    "        # create a minibatch\n",
    "        indices=shuffled_indices[count:count+bs]\n",
    "        minibatch_data =  train_data[indices]\n",
    "        minibatch_label= train_label[indices]\n",
    "        batch_nb+=1\n",
    "\n",
    "        #reshape them to fit the network\n",
    "        inputs=minibatch_data.view(bs,784)\n",
    "        labels=minibatch_label.view(bs)\n",
    "\n",
    "        # feed the input to the net  \n",
    "        inputs.requires_grad_()\n",
    "        logprob=net(inputs) \n",
    "\n",
    "        # compute the loss\n",
    "        loss = criterion(logprob, labels)\n",
    "        running_loss += loss.detach().item()\n",
    "\n",
    "        # zero_out the gradient from previous iteration\n",
    "        optimizer.zero_grad()\n",
    "\n",
    "        # compute the gradient\n",
    "        loss.backward()\n",
    "\n",
    "        # update the weights by doing one step of SGD\n",
    "        optimizer.step()\n",
    "        \n",
    "    average_loss = running_loss / batch_nb\n",
    "    print('epoch=', epoch, '\\t average loss=', average_loss)\n",
    "\n"
   ]
  },
  {
   "cell_type": "markdown",
   "metadata": {},
   "source": [
    "### Choose image at random from the test set and see how good/bad are the predictions"
   ]
  },
  {
   "cell_type": "code",
   "execution_count": 14,
   "metadata": {},
   "outputs": [
    {
     "data": {
      "image/png": "[encoded data removed]",
      "text/plain": [
       "<matplotlib.figure.Figure at 0x1207c7f98>"
      ]
     },
     "metadata": {},
     "output_type": "display_data"
    },
    {
     "data": {
      "image/png": "[encoded data removed]",
      "text/plain": [
       "<matplotlib.figure.Figure at 0x1206e2ef0>"
      ]
     },
     "metadata": {},
     "output_type": "display_data"
    }
   ],
   "source": [
    "# choose a picture at random\n",
    "idx=randint(0, 10000-1)\n",
    "im=test_data[idx]\n",
    "\n",
    "# diplay the picture\n",
    "utils.show(im)\n",
    "\n",
    "# feed it to the net and display the confidence scores\n",
    "logprob =  net( im.view(1,784)) \n",
    "utils.show_prob_mnist(torch.exp(logprob))"
   ]
  },
  {
   "cell_type": "code",
   "execution_count": null,
   "metadata": {},
   "outputs": [],
   "source": []
  }
 ],
 "metadata": {
  "kernelspec": {
   "display_name": "Python 3",
   "language": "python",
   "name": "python3"
  },
  "language_info": {
   "codemirror_mode": {
    "name": "ipython",
    "version": 3
   },
   "file_extension": ".py",
   "mimetype": "text/x-python",
   "name": "python",
   "nbconvert_exporter": "python",
   "pygments_lexer": "ipython3",
   "version": "3.6.4"
  }
 },
 "nbformat": 4,
 "nbformat_minor": 2
}
