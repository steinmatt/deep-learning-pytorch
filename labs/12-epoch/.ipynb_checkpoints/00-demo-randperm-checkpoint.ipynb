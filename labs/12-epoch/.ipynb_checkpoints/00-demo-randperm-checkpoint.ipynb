{
 "cells": [
  {
   "cell_type": "markdown",
   "metadata": {},
   "source": [
    "# RANDPERM -- DEMO"
   ]
  },
  {
   "cell_type": "code",
   "execution_count": 17,
   "metadata": {},
   "outputs": [],
   "source": [
    "import torch"
   ]
  },
  {
   "cell_type": "markdown",
   "metadata": {},
   "source": [
    "### Lets make an artificial training set of 10 images (28x28 pixels)"
   ]
  },
  {
   "cell_type": "code",
   "execution_count": 21,
   "metadata": {},
   "outputs": [
    {
     "name": "stdout",
     "output_type": "stream",
     "text": [
      "torch.Size([10, 28, 28])\n"
     ]
    }
   ],
   "source": [
    "train_data = torch.rand(10,28,28)\n",
    "\n",
    "print(train_data.size())"
   ]
  },
  {
   "cell_type": "markdown",
   "metadata": {},
   "source": [
    "### Lets define a the random order in which we are going to visit these images:"
   ]
  },
  {
   "cell_type": "code",
   "execution_count": 23,
   "metadata": {},
   "outputs": [
    {
     "name": "stdout",
     "output_type": "stream",
     "text": [
      "tensor([ 7,  1,  0,  5,  3,  2,  4,  6,  9,  8])\n"
     ]
    }
   ],
   "source": [
    "shuffled_indices = torch.randperm(10)\n",
    "print(shuffled_indices)"
   ]
  },
  {
   "cell_type": "markdown",
   "metadata": {},
   "source": [
    "### Visit the training set in this random order and do minibatch of size 2"
   ]
  },
  {
   "cell_type": "code",
   "execution_count": 24,
   "metadata": {},
   "outputs": [
    {
     "name": "stdout",
     "output_type": "stream",
     "text": [
      "tensor([ 7,  1])\n",
      "tensor([ 0,  5])\n",
      "tensor([ 3,  2])\n",
      "tensor([ 4,  6])\n",
      "tensor([ 9,  8])\n"
     ]
    }
   ],
   "source": [
    "bs=2\n",
    "\n",
    "for count in range(0,10,bs):\n",
    "    \n",
    "    batch_of_indices = shuffled_indices[count:count+bs]\n",
    "    \n",
    "    print(batch_of_indices)\n",
    "    \n",
    "    batch_of_images = train_data[ batch_of_indices  ]"
   ]
  },
  {
   "cell_type": "code",
   "execution_count": null,
   "metadata": {},
   "outputs": [],
   "source": []
  }
 ],
 "metadata": {
  "kernelspec": {
   "display_name": "Python 3",
   "language": "python",
   "name": "python3"
  },
  "language_info": {
   "codemirror_mode": {
    "name": "ipython",
    "version": 3
   },
   "file_extension": ".py",
   "mimetype": "text/x-python",
   "name": "python",
   "nbconvert_exporter": "python",
   "pygments_lexer": "ipython3",
   "version": "3.6.4"
  }
 },
 "nbformat": 4,
 "nbformat_minor": 2
}
