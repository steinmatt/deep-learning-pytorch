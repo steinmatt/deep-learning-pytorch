{
 "cells": [
  {
   "cell_type": "markdown",
   "metadata": {},
   "source": [
    "# LOSS AND ERROR RATE -- DEMO"
   ]
  },
  {
   "cell_type": "code",
   "execution_count": 1,
   "metadata": {},
   "outputs": [],
   "source": [
    "import torch\n",
    "import torch.nn as nn\n",
    "import torch.nn.functional as F\n",
    "import torch.optim as optim\n",
    "from random import randint\n",
    "import utils"
   ]
  },
  {
   "cell_type": "markdown",
   "metadata": {},
   "source": [
    "### Download the data and print the sizes"
   ]
  },
  {
   "cell_type": "code",
   "execution_count": 2,
   "metadata": {},
   "outputs": [],
   "source": [
    "train_data=torch.load('../../data/mnist/train_data.pt')\n",
    "train_label=torch.load('../../data/mnist/train_label.pt')\n",
    "test_data=torch.load('../../data/mnist/test_data.pt')\n",
    "test_label=torch.load('../../data/mnist/test_label.pt')"
   ]
  },
  {
   "cell_type": "markdown",
   "metadata": {},
   "source": [
    "### Make a ONE layer net class. "
   ]
  },
  {
   "cell_type": "code",
   "execution_count": 3,
   "metadata": {},
   "outputs": [],
   "source": [
    "class one_layer_net(nn.Module):\n",
    "\n",
    "    def __init__(self, input_size, output_size):\n",
    "        super().__init__()\n",
    "        self.linear_layer = nn.Linear( input_size, output_size , bias=False)\n",
    "        \n",
    "    def forward(self, x):\n",
    "        scores = self.linear_layer(x)\n",
    "        return scores"
   ]
  },
  {
   "cell_type": "markdown",
   "metadata": {},
   "source": [
    "### Build the net"
   ]
  },
  {
   "cell_type": "code",
   "execution_count": 4,
   "metadata": {},
   "outputs": [
    {
     "name": "stdout",
     "output_type": "stream",
     "text": [
      "one_layer_net(\n",
      "  (linear_layer): Linear(in_features=784, out_features=10, bias=False)\n",
      ")\n"
     ]
    }
   ],
   "source": [
    "net=one_layer_net(784,10)\n",
    "print(net)"
   ]
  },
  {
   "cell_type": "markdown",
   "metadata": {},
   "source": [
    "### Choose the criterion, optimizer, batchsize, learning rate"
   ]
  },
  {
   "cell_type": "code",
   "execution_count": 5,
   "metadata": {},
   "outputs": [],
   "source": [
    "criterion = nn.CrossEntropyLoss()\n",
    "\n",
    "optimizer=torch.optim.SGD( net.parameters() , lr=0.01 )\n",
    "\n",
    "bs=200"
   ]
  },
  {
   "cell_type": "markdown",
   "metadata": {},
   "source": [
    "### Do 30 passes through the training set"
   ]
  },
  {
   "cell_type": "code",
   "execution_count": 6,
   "metadata": {},
   "outputs": [
    {
     "name": "stdout",
     "output_type": "stream",
     "text": [
      "epoch= 0 \t loss= 1.4542371573050816 \t error= 28.018333375453945 percent\n",
      "epoch= 1 \t loss= 0.8545827406644821 \t error= 16.791666607062023 percent\n",
      "epoch= 2 \t loss= 0.6874599287907283 \t error= 14.948333164056143 percent\n",
      "epoch= 3 \t loss= 0.6062618652979533 \t error= 14.074999849001566 percent\n",
      "epoch= 4 \t loss= 0.556918087999026 \t error= 13.406666417916616 percent\n",
      "epoch= 5 \t loss= 0.5231823103626569 \t error= 12.918333411216738 percent\n",
      "epoch= 6 \t loss= 0.49833456695079803 \t error= 12.530000150203705 percent\n",
      "epoch= 7 \t loss= 0.4790853892763456 \t error= 12.188333451747894 percent\n",
      "epoch= 8 \t loss= 0.463634729385376 \t error= 11.971666872501373 percent\n",
      "epoch= 9 \t loss= 0.45096359074115755 \t error= 11.748333533604939 percent\n",
      "epoch= 10 \t loss= 0.4401935163140297 \t error= 11.538333674271902 percent\n",
      "epoch= 11 \t loss= 0.43100089609622955 \t error= 11.383333702882132 percent\n",
      "epoch= 12 \t loss= 0.42300429940223694 \t error= 11.24833369255066 percent\n",
      "epoch= 13 \t loss= 0.4159654794136683 \t error= 11.128333826859791 percent\n",
      "epoch= 14 \t loss= 0.40968436767657596 \t error= 11.003333747386932 percent\n",
      "epoch= 15 \t loss= 0.40406929204861325 \t error= 10.895000239213308 percent\n",
      "epoch= 16 \t loss= 0.3990087800224622 \t error= 10.778333703676859 percent\n",
      "epoch= 17 \t loss= 0.39440052062273023 \t error= 10.708333532015482 percent\n",
      "epoch= 18 \t loss= 0.3901558436950048 \t error= 10.590000112851461 percent\n",
      "epoch= 19 \t loss= 0.38628634085257846 \t error= 10.515000363190968 percent\n",
      "epoch= 20 \t loss= 0.38270385945836705 \t error= 10.430000166098278 percent\n",
      "epoch= 21 \t loss= 0.3794131278991699 \t error= 10.3466667731603 percent\n",
      "epoch= 22 \t loss= 0.37632371837894124 \t error= 10.271666944026947 percent\n",
      "epoch= 23 \t loss= 0.37340925812721254 \t error= 10.20166685183843 percent\n",
      "epoch= 24 \t loss= 0.37065239061911903 \t error= 10.145000080267588 percent\n",
      "epoch= 25 \t loss= 0.36822174578905104 \t error= 10.085000117619833 percent\n",
      "epoch= 26 \t loss= 0.36581016009052597 \t error= 10.01333369811376 percent\n",
      "epoch= 27 \t loss= 0.3635258236527443 \t error= 9.981666942437489 percent\n",
      "epoch= 28 \t loss= 0.36142944807807603 \t error= 9.92333326737086 percent\n",
      "epoch= 29 \t loss= 0.35940891698002814 \t error= 9.898333450158438 percent\n"
     ]
    }
   ],
   "source": [
    "for epoch in range(30):\n",
    "    \n",
    "    running_loss=0\n",
    "    running_error=0\n",
    "    num_batches=0\n",
    "    \n",
    "    shuffled_indices=torch.randperm(60000)\n",
    " \n",
    "    for count in range(0,60000,bs):\n",
    "    \n",
    "        optimizer.zero_grad()\n",
    "        \n",
    "        indices=shuffled_indices[count:count+bs]\n",
    "        minibatch_data =  train_data[indices]\n",
    "        minibatch_label= train_label[indices]\n",
    "\n",
    "        inputs = minibatch_data.view(bs,784)\n",
    "\n",
    "        inputs.requires_grad_()\n",
    "\n",
    "        scores=net( inputs ) \n",
    "\n",
    "        loss =  criterion( scores , minibatch_label) \n",
    "        \n",
    "        loss.backward()\n",
    "\n",
    "        optimizer.step()\n",
    "        \n",
    "        # compute and accumulate stats\n",
    "        \n",
    "        num_batches+=1\n",
    "        \n",
    "        with torch.no_grad():\n",
    "            \n",
    "            running_loss += loss.item()\n",
    "\n",
    "            error = utils.get_error( scores , minibatch_label)\n",
    "            running_error += error.item()  \n",
    "            \n",
    "    \n",
    "    \n",
    "    # compute stats for the full training set\n",
    "    total_loss = running_loss/num_batches\n",
    "    total_error = running_error/num_batches\n",
    "    \n",
    "    print('epoch=',epoch, '\\t loss=', total_loss , '\\t error=', total_error*100 ,'percent')\n",
    "        \n",
    "    \n",
    "        \n",
    "        "
   ]
  },
  {
   "cell_type": "markdown",
   "metadata": {},
   "source": [
    "### Now that the network is trained and do 10% of error on the training set, we are going to see how well it is doing on the test set..."
   ]
  },
  {
   "cell_type": "code",
   "execution_count": 7,
   "metadata": {},
   "outputs": [
    {
     "name": "stdout",
     "output_type": "stream",
     "text": [
      "error rate on test set = 9.290000200271606 percent\n"
     ]
    }
   ],
   "source": [
    "running_error=0\n",
    "num_batches=0\n",
    "\n",
    "with torch.no_grad():\n",
    "\n",
    "    for i in range(0,10000,bs):\n",
    "\n",
    "        # extract the minibatch\n",
    "        minibatch_data =  test_data[i:i+bs]\n",
    "        minibatch_label= test_label[i:i+bs]\n",
    "\n",
    "        # reshape the minibatch\n",
    "        inputs = minibatch_data.view(bs,784)\n",
    "\n",
    "        # feed it to the network\n",
    "        scores=net( inputs ) \n",
    "\n",
    "        # compute the error made on this batch\n",
    "        error = utils.get_error( scores , minibatch_label)\n",
    "\n",
    "        # add it to the running error\n",
    "        running_error += error.item()\n",
    "\n",
    "        num_batches+=1\n",
    "\n",
    "\n",
    "    \n",
    "# compute error rate on the full test set\n",
    "total_error = running_error/num_batches\n",
    "\n",
    "print( 'error rate on test set =', total_error*100 ,'percent')\n",
    "\n",
    "      "
   ]
  },
  {
   "cell_type": "markdown",
   "metadata": {},
   "source": [
    "### Choose image at random from the test set and see how good/bad are the predictions"
   ]
  },
  {
   "cell_type": "code",
   "execution_count": 15,
   "metadata": {},
   "outputs": [
    {
     "data": {
      "image/png": "[encoded data removed]",
      "text/plain": [
       "<Figure size 640x480 with 1 Axes>"
      ]
     },
     "metadata": {},
     "output_type": "display_data"
    },
    {
     "data": {
      "image/png": "[encoded data removed]",
      "text/plain": [
       "<Figure size 640x480 with 1 Axes>"
      ]
     },
     "metadata": {},
     "output_type": "display_data"
    }
   ],
   "source": [
    "# choose a picture at random\n",
    "idx=randint(0, 10000-1)\n",
    "im=test_data[idx]\n",
    "\n",
    "# diplay the picture\n",
    "utils.show(im)\n",
    "\n",
    "# feed it to the net and display the confidence scores\n",
    "scores =  net( im.view(1,784)) \n",
    "probs= F.softmax(scores, dim=1)\n",
    "utils.show_prob_mnist(probs)"
   ]
  },
  {
   "cell_type": "code",
   "execution_count": null,
   "metadata": {},
   "outputs": [],
   "source": []
  }
 ],
 "metadata": {
  "kernelspec": {
   "display_name": "Python 3",
   "language": "python",
   "name": "python3"
  },
  "language_info": {
   "codemirror_mode": {
    "name": "ipython",
    "version": 3
   },
   "file_extension": ".py",
   "mimetype": "text/x-python",
   "name": "python",
   "nbconvert_exporter": "python",
   "pygments_lexer": "ipython3",
   "version": "3.7.0"
  }
 },
 "nbformat": 4,
 "nbformat_minor": 2
}
