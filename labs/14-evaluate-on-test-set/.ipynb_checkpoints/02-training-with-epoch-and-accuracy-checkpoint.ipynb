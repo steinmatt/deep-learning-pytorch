{
 "cells": [
  {
   "cell_type": "markdown",
   "metadata": {},
   "source": [
    "# EPOCH -- DEMO"
   ]
  },
  {
   "cell_type": "code",
   "execution_count": 1,
   "metadata": {},
   "outputs": [],
   "source": [
    "import torch\n",
    "import torch.nn as nn\n",
    "import torch.nn.functional as F\n",
    "import torch.optim as optim\n",
    "from random import randint\n",
    "import utils\n",
    "import time"
   ]
  },
  {
   "cell_type": "markdown",
   "metadata": {},
   "source": [
    "### Download the data and print the sizes"
   ]
  },
  {
   "cell_type": "code",
   "execution_count": 2,
   "metadata": {},
   "outputs": [
    {
     "name": "stdout",
     "output_type": "stream",
     "text": [
      "torch.Size([60000, 28, 28])\n",
      "torch.Size([60000])\n",
      "torch.Size([10000, 28, 28])\n"
     ]
    }
   ],
   "source": [
    "train_data=torch.load('../../data/mnist/data/train_data.pt')\n",
    "train_label=torch.load('../../data/mnist/data/train_label.pt')\n",
    "test_data=torch.load('../../data/mnist/data/test_data.pt')\n",
    "print(train_data.size())\n",
    "print(train_label.size())\n",
    "print(test_data.size())"
   ]
  },
  {
   "cell_type": "markdown",
   "metadata": {},
   "source": [
    "### Make a one layer net class"
   ]
  },
  {
   "cell_type": "code",
   "execution_count": 3,
   "metadata": {},
   "outputs": [],
   "source": [
    "class one_layer_net(nn.Module):\n",
    "\n",
    "    def __init__(self, input_size, output_size):\n",
    "        super(one_layer_net , self).__init__()\n",
    "        self.linear_layer = nn.Linear( input_size, output_size , bias=False)\n",
    "        \n",
    "    def forward(self, x):\n",
    "        y = self.linear_layer(x)\n",
    "        prob = F.softmax(y, dim=1)\n",
    "        return prob"
   ]
  },
  {
   "cell_type": "markdown",
   "metadata": {},
   "source": [
    "### Build the net"
   ]
  },
  {
   "cell_type": "code",
   "execution_count": 4,
   "metadata": {},
   "outputs": [
    {
     "name": "stdout",
     "output_type": "stream",
     "text": [
      "one_layer_net(\n",
      "  (linear_layer): Linear(in_features=784, out_features=10, bias=False)\n",
      ")\n"
     ]
    }
   ],
   "source": [
    "net=one_layer_net(784,10)\n",
    "print(net)"
   ]
  },
  {
   "cell_type": "markdown",
   "metadata": {},
   "source": [
    "### Choose the size of the mini-batches "
   ]
  },
  {
   "cell_type": "code",
   "execution_count": 5,
   "metadata": {},
   "outputs": [],
   "source": [
    "bs=200"
   ]
  },
  {
   "cell_type": "markdown",
   "metadata": {},
   "source": [
    "### Train the network on the train set"
   ]
  },
  {
   "cell_type": "code",
   "execution_count": 7,
   "metadata": {},
   "outputs": [
    {
     "name": "stdout",
     "output_type": "stream",
     "text": [
      "epoch= 0 \t accuracy= 0.7186166666666667\n",
      "epoch= 1 \t accuracy= 0.8347666666666667\n",
      "epoch= 2 \t accuracy= 0.8518833333333333\n",
      "epoch= 3 \t accuracy= 0.8609\n",
      "epoch= 4 \t accuracy= 0.8670333333333333\n",
      "epoch= 5 \t accuracy= 0.8712166666666666\n",
      "epoch= 6 \t accuracy= 0.8753666666666666\n",
      "epoch= 7 \t accuracy= 0.8783166666666666\n",
      "epoch= 8 \t accuracy= 0.88115\n",
      "epoch= 9 \t accuracy= 0.8832\n",
      "epoch= 10 \t accuracy= 0.88535\n",
      "epoch= 11 \t accuracy= 0.8867833333333334\n",
      "epoch= 12 \t accuracy= 0.8881\n",
      "epoch= 13 \t accuracy= 0.8895\n",
      "epoch= 14 \t accuracy= 0.8909166666666667\n",
      "epoch= 15 \t accuracy= 0.8920833333333333\n",
      "epoch= 16 \t accuracy= 0.8930166666666667\n",
      "epoch= 17 \t accuracy= 0.8939166666666667\n",
      "epoch= 18 \t accuracy= 0.8950666666666667\n",
      "epoch= 19 \t accuracy= 0.89565\n",
      "epoch= 20 \t accuracy= 0.89675\n",
      "epoch= 21 \t accuracy= 0.8971833333333333\n",
      "epoch= 22 \t accuracy= 0.8976833333333334\n",
      "epoch= 23 \t accuracy= 0.8985166666666666\n",
      "epoch= 24 \t accuracy= 0.8991666666666667\n",
      "epoch= 25 \t accuracy= 0.8993833333333333\n",
      "epoch= 26 \t accuracy= 0.9001833333333333\n",
      "epoch= 27 \t accuracy= 0.9005333333333333\n",
      "epoch= 28 \t accuracy= 0.9008833333333334\n",
      "epoch= 29 \t accuracy= 0.9012833333333333\n",
      "epoch= 30 \t accuracy= 0.9019\n",
      "epoch= 31 \t accuracy= 0.9022833333333333\n",
      "epoch= 32 \t accuracy= 0.9028\n",
      "epoch= 33 \t accuracy= 0.90305\n",
      "epoch= 34 \t accuracy= 0.9038166666666667\n",
      "epoch= 35 \t accuracy= 0.90405\n",
      "epoch= 36 \t accuracy= 0.9045833333333333\n",
      "epoch= 37 \t accuracy= 0.9047333333333333\n",
      "epoch= 38 \t accuracy= 0.90485\n",
      "epoch= 39 \t accuracy= 0.90505\n",
      "epoch= 40 \t accuracy= 0.9054833333333333\n",
      "epoch= 41 \t accuracy= 0.9057166666666666\n",
      "epoch= 42 \t accuracy= 0.90595\n",
      "epoch= 43 \t accuracy= 0.9065\n",
      "epoch= 44 \t accuracy= 0.90645\n",
      "epoch= 45 \t accuracy= 0.9070166666666667\n",
      "epoch= 46 \t accuracy= 0.9073666666666667\n",
      "epoch= 47 \t accuracy= 0.9076\n",
      "epoch= 48 \t accuracy= 0.9075666666666666\n",
      "epoch= 49 \t accuracy= 0.90805\n"
     ]
    }
   ],
   "source": [
    "criterion = nn.NLLLoss()\n",
    "optimizer=torch.optim.SGD(net.parameters() , lr=0.01 )\n",
    "\n",
    "max_epoch=50\n",
    "N=train_data.size(0)\n",
    "start=time.time()\n",
    "\n",
    "for epoch in range(max_epoch):\n",
    "    \n",
    "    shuffled_indices=torch.randperm(N)\n",
    "    num_correct = 0\n",
    "    num_im_processed=0\n",
    " \n",
    "    for count in range(0,N,bs):\n",
    "\n",
    "        # create a minibatch\n",
    "        indices=shuffled_indices[count:count+bs]\n",
    "        minibatch_data =  train_data[indices]\n",
    "        minibatch_label= train_label[indices]\n",
    "        \n",
    "        inputs=minibatch_data.view(bs,784)\n",
    "\n",
    "        # feed the minibatch to the net  \n",
    "        inputs.requires_grad_()\n",
    "        prob=net( inputs) \n",
    "        \n",
    "        # compute the number of correct predictions\n",
    "        num_correct  += utils.num_correct_prediction( prob.detach() , minibatch_label )\n",
    "        num_im_processed += bs\n",
    "\n",
    "        # update the weights (all the magic happens here -- we will discuss it later)\n",
    "        log_prob=torch.log(prob)\n",
    "        loss = criterion(log_prob, minibatch_label)    \n",
    "        optimizer.zero_grad()       \n",
    "        loss.backward()\n",
    "        optimizer.step()\n",
    "        \n",
    "    accuracy= num_correct / num_im_processed\n",
    "    print('epoch=',epoch, '\\t accuracy=', accuracy)\n",
    "        \n",
    "\n"
   ]
  },
  {
   "cell_type": "markdown",
   "metadata": {},
   "source": [
    "### Choose image at random from the test set and see how good/bad are the predictions"
   ]
  },
  {
   "cell_type": "code",
   "execution_count": 8,
   "metadata": {},
   "outputs": [
    {
     "data": {
      "image/png": "[encoded data removed]",
      "text/plain": [
       "<matplotlib.figure.Figure at 0x11fe4a320>"
      ]
     },
     "metadata": {},
     "output_type": "display_data"
    },
    {
     "data": {
      "image/png": "[encoded data removed]",
      "text/plain": [
       "<matplotlib.figure.Figure at 0x11fe88048>"
      ]
     },
     "metadata": {},
     "output_type": "display_data"
    }
   ],
   "source": [
    "# choose a picture at random\n",
    "idx=randint(0, 10000-1)\n",
    "im=test_data[idx]\n",
    "\n",
    "# diplay the picture\n",
    "utils.show(im)\n",
    "\n",
    "# feed it to the net and display the confidence scores\n",
    "prob =  net( im.view(1,784)) \n",
    "utils.show_prob_mnist(prob)"
   ]
  },
  {
   "cell_type": "code",
   "execution_count": null,
   "metadata": {},
   "outputs": [],
   "source": []
  }
 ],
 "metadata": {
  "kernelspec": {
   "display_name": "Python 3",
   "language": "python",
   "name": "python3"
  },
  "language_info": {
   "codemirror_mode": {
    "name": "ipython",
    "version": 3
   },
   "file_extension": ".py",
   "mimetype": "text/x-python",
   "name": "python",
   "nbconvert_exporter": "python",
   "pygments_lexer": "ipython3",
   "version": "3.6.4"
  }
 },
 "nbformat": 4,
 "nbformat_minor": 2
}
