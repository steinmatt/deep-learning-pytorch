{
 "cells": [
  {
   "cell_type": "markdown",
   "metadata": {},
   "source": [
    "# EVALUATE ON TEST SET-- EXERCISE"
   ]
  },
  {
   "cell_type": "code",
   "execution_count": 1,
   "metadata": {},
   "outputs": [],
   "source": [
    "import torch\n",
    "import torch.nn as nn\n",
    "import torch.nn.functional as F\n",
    "import torch.optim as optim\n",
    "from random import randint\n",
    "import utils"
   ]
  },
  {
   "cell_type": "markdown",
   "metadata": {},
   "source": [
    "### Download the CIFAR dataset -- check the size carefully!"
   ]
  },
  {
   "cell_type": "code",
   "execution_count": 8,
   "metadata": {},
   "outputs": [
    {
     "name": "stdout",
     "output_type": "stream",
     "text": [
      "torch.Size([50000, 3, 32, 32])\n",
      "torch.Size([10000, 3, 32, 32])\n"
     ]
    }
   ],
   "source": [
    "train_data=torch.load('../../data/cifar/train_data.pt')\n",
    "train_label=torch.load('../../data/cifar/train_label.pt')\n",
    "test_data=torch.load('../../data/cifar/test_data.pt')\n",
    "test_label=torch.load('../../data/cifar/test_label.pt')\n",
    "\n",
    "print(train_data.size())\n",
    "print(test_data.size())"
   ]
  },
  {
   "cell_type": "markdown",
   "metadata": {},
   "source": [
    "### Make a ONE layer net class. "
   ]
  },
  {
   "cell_type": "code",
   "execution_count": 3,
   "metadata": {},
   "outputs": [],
   "source": [
    "class one_layer_net(nn.Module):\n",
    "\n",
    "    def __init__(self, input_size, output_size):\n",
    "        super().__init__()\n",
    "        self.linear_layer = nn.Linear( input_size, output_size , bias=True)\n",
    "        \n",
    "    def forward(self, x):\n",
    "        scores = self.linear_layer(x)\n",
    "        return scores"
   ]
  },
  {
   "cell_type": "markdown",
   "metadata": {},
   "source": [
    "### Build the net. "
   ]
  },
  {
   "cell_type": "code",
   "execution_count": 4,
   "metadata": {},
   "outputs": [
    {
     "name": "stdout",
     "output_type": "stream",
     "text": [
      "one_layer_net(\n",
      "  (linear_layer): Linear(in_features=3072, out_features=10, bias=True)\n",
      ")\n"
     ]
    }
   ],
   "source": [
    "net=one_layer_net(3072,10)\n",
    "print(net)"
   ]
  },
  {
   "cell_type": "markdown",
   "metadata": {},
   "source": [
    "### Choose the criterion and optimizer. Also choose:\n"
   ]
  },
  {
   "cell_type": "code",
   "execution_count": 5,
   "metadata": {},
   "outputs": [],
   "source": [
    "criterion = nn.CrossEntropyLoss()\n",
    "optimizer=torch.optim.SGD( net.parameters() , lr=0.01 )\n",
    "bs=20"
   ]
  },
  {
   "cell_type": "markdown",
   "metadata": {},
   "source": [
    "### Do 30 passes through the training set."
   ]
  },
  {
   "cell_type": "code",
   "execution_count": 6,
   "metadata": {},
   "outputs": [
    {
     "name": "stdout",
     "output_type": "stream",
     "text": [
      "epoch= 0 \t loss= 1.9586951248645783 \t error= 69.3299999165535 percent\n",
      "epoch= 1 \t loss= 1.863927068758011 \t error= 65.48999999523163 percent\n",
      "epoch= 2 \t loss= 1.83846609082222 \t error= 64.24599994897842 percent\n",
      "epoch= 3 \t loss= 1.8187357660770416 \t error= 63.19599994421006 percent\n",
      "epoch= 4 \t loss= 1.8081702552795411 \t error= 62.99199997425079 percent\n",
      "epoch= 5 \t loss= 1.8009916216373443 \t error= 62.55199996709824 percent\n",
      "epoch= 6 \t loss= 1.7891970201492309 \t error= 62.023999998569494 percent\n",
      "epoch= 7 \t loss= 1.7848970133543014 \t error= 61.99399995565415 percent\n",
      "epoch= 8 \t loss= 1.7760169911146164 \t error= 61.45800000190735 percent\n",
      "epoch= 9 \t loss= 1.7764958127975463 \t error= 61.434000027179714 percent\n",
      "epoch= 10 \t loss= 1.7692970621824264 \t error= 61.050000019073494 percent\n",
      "epoch= 11 \t loss= 1.7648942991733552 \t error= 61.08800002336502 percent\n",
      "epoch= 12 \t loss= 1.7611085153818131 \t error= 60.81400005817413 percent\n",
      "epoch= 13 \t loss= 1.760036501646042 \t error= 61.012000007629396 percent\n",
      "epoch= 14 \t loss= 1.7573049004554748 \t error= 60.8359999871254 percent\n",
      "epoch= 15 \t loss= 1.7558136020183563 \t error= 60.414000024795534 percent\n",
      "epoch= 16 \t loss= 1.7504085151672364 \t error= 60.43200000762939 percent\n",
      "epoch= 17 \t loss= 1.7463120951890945 \t error= 60.094000017642976 percent\n",
      "epoch= 18 \t loss= 1.7451657268047334 \t error= 60.305999968051914 percent\n",
      "epoch= 19 \t loss= 1.743294111084938 \t error= 60.11599999904632 percent\n",
      "epoch= 20 \t loss= 1.7424543592453003 \t error= 59.92600000143051 percent\n",
      "epoch= 21 \t loss= 1.7386516699790955 \t error= 59.73600007772446 percent\n",
      "epoch= 22 \t loss= 1.7399924966335296 \t error= 60.043999946117395 percent\n",
      "epoch= 23 \t loss= 1.7378746594429015 \t error= 59.99600000143052 percent\n",
      "epoch= 24 \t loss= 1.736324487233162 \t error= 59.74400003910064 percent\n",
      "epoch= 25 \t loss= 1.7337579384565354 \t error= 59.636000018119816 percent\n",
      "epoch= 26 \t loss= 1.7352392193078994 \t error= 59.47600001811981 percent\n",
      "epoch= 27 \t loss= 1.7317508813858031 \t error= 59.633999986648554 percent\n",
      "epoch= 28 \t loss= 1.7309439657688142 \t error= 59.674000000953676 percent\n",
      "epoch= 29 \t loss= 1.7273688104629517 \t error= 59.50399996757507 percent\n"
     ]
    }
   ],
   "source": [
    "for epoch in range(30):\n",
    "    \n",
    "    running_loss=0\n",
    "    running_error=0\n",
    "    num_batches=0\n",
    "    \n",
    "    shuffled_indices=torch.randperm(50000)\n",
    " \n",
    "    for count in range(0,50000,bs):\n",
    "    \n",
    "        # Set the gradients to zeros\n",
    "        optimizer.zero_grad()\n",
    "        \n",
    "        # create a minibatch       \n",
    "        indices=shuffled_indices[count:count+bs]\n",
    "        minibatch_data =  train_data[indices]\n",
    "        minibatch_label= train_label[indices]\n",
    "\n",
    "        # reshape the minibatch\n",
    "        inputs = minibatch_data.view(bs,3072)\n",
    "\n",
    "        # tell Pytorch to start tracking all operations that will be done on \"inputs\"\n",
    "        inputs.requires_grad_()\n",
    "\n",
    "        # forward the minibatch through the net \n",
    "        scores=net( inputs ) \n",
    "\n",
    "        # Compute the average of the losses of the data points in the minibatch\n",
    "        loss =  criterion( scores , minibatch_label) \n",
    "        \n",
    "        # backward pass to compute dL/dU, dL/dV and dL/dW   \n",
    "        loss.backward()\n",
    "\n",
    "        # do one step of stochastic gradient descent: U=U-lr(dL/dU), V=V-lr(dL/dU), ...\n",
    "        optimizer.step()\n",
    "        \n",
    "        \n",
    "        \n",
    "        # START COMPUTING STATS\n",
    "        \n",
    "        num_batches+=1\n",
    "        \n",
    "        with torch.no_grad():\n",
    "            \n",
    "            running_loss += loss.item()\n",
    "\n",
    "            error = utils.get_error( scores , minibatch_label)\n",
    "            running_error += error.item() \n",
    "   \n",
    "\n",
    "\n",
    "    \n",
    "    # compute stats for the full training set\n",
    "    total_loss = running_loss/num_batches\n",
    "    total_error = running_error/num_batches\n",
    "    \n",
    "    print('epoch=',epoch, '\\t loss=', total_loss , '\\t error=', total_error*100 ,'percent')\n",
    "        \n",
    "    "
   ]
  },
  {
   "cell_type": "markdown",
   "metadata": {},
   "source": [
    "# You only have to complete this cell"
   ]
  },
  {
   "cell_type": "markdown",
   "metadata": {},
   "source": [
    "### So we are doing around 59% error on the training set. BUT how much are we doing on test set?"
   ]
  },
  {
   "cell_type": "code",
   "execution_count": 10,
   "metadata": {},
   "outputs": [
    {
     "name": "stdout",
     "output_type": "stream",
     "text": [
      "error rate on test set = 62.48999987840652 percent\n"
     ]
    }
   ],
   "source": [
    "running_error=0\n",
    "num_batches=0\n",
    "\n",
    "with torch.no_grad():\n",
    "\n",
    "    for i in range(0,10000,bs): \n",
    "\n",
    "        # extract the minibatch\n",
    "        minibatch_data =  test_data[i:i+bs]\n",
    "        minibatch_label=  test_label[i:i+bs]\n",
    "\n",
    "        # reshape the minibatch\n",
    "        inputs = minibatch_data.view(bs,3072)\n",
    "        # feed it to the network\n",
    "        scores= net(inputs)\n",
    "\n",
    "        # compute the error made on this batch\n",
    "        error = utils.get_error(scores, minibatch_label)\n",
    "\n",
    "        # add it to the running error\n",
    "        running_error +=  error.item()\n",
    "\n",
    "        num_batches+=1\n",
    "\n",
    "\n",
    "# compute error rate on the full test set\n",
    "total_error = running_error/num_batches\n",
    "\n",
    "print( 'error rate on test set =', total_error*100 ,'percent')"
   ]
  },
  {
   "cell_type": "markdown",
   "metadata": {},
   "source": [
    "### Choose image at random from the test set and see how good/bad are the predictions"
   ]
  },
  {
   "cell_type": "code",
   "execution_count": 11,
   "metadata": {},
   "outputs": [
    {
     "data": {
      "image/png": "[encoded data removed]",
      "text/plain": [
       "<Figure size 432x288 with 1 Axes>"
      ]
     },
     "metadata": {
      "needs_background": "light"
     },
     "output_type": "display_data"
    },
    {
     "data": {
      "image/png": "[encoded data removed]",
      "text/plain": [
       "<Figure size 640x480 with 1 Axes>"
      ]
     },
     "metadata": {},
     "output_type": "display_data"
    }
   ],
   "source": [
    "# choose a picture at random\n",
    "idx=randint(0, 10000-1)\n",
    "im=test_data[idx]\n",
    "\n",
    "# diplay the picture\n",
    "utils.show(im)\n",
    "\n",
    "# feed it to the net and display the confidence scores\n",
    "scores =  net( im.view(1,3072)) \n",
    "probs= F.softmax(scores, dim=1)\n",
    "utils.show_prob_cifar(probs)"
   ]
  },
  {
   "cell_type": "code",
   "execution_count": null,
   "metadata": {},
   "outputs": [],
   "source": []
  }
 ],
 "metadata": {
  "kernelspec": {
   "display_name": "Python 3",
   "language": "python",
   "name": "python3"
  },
  "language_info": {
   "codemirror_mode": {
    "name": "ipython",
    "version": 3
   },
   "file_extension": ".py",
   "mimetype": "text/x-python",
   "name": "python",
   "nbconvert_exporter": "python",
   "pygments_lexer": "ipython3",
   "version": "3.7.0"
  }
 },
 "nbformat": 4,
 "nbformat_minor": 2
}
