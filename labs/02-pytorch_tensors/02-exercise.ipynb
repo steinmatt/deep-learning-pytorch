{
 "cells": [
  {
   "cell_type": "markdown",
   "metadata": {},
   "source": [
    "# PYTORCH TENSOR"
   ]
  },
  {
   "cell_type": "code",
   "execution_count": 5,
   "metadata": {},
   "outputs": [],
   "source": [
    "import torch"
   ]
  },
  {
   "cell_type": "markdown",
   "metadata": {},
   "source": [
    "### Make the matrices A and B below. Add them together to obtain a matrix C. Print these three matrices.\n",
    "$$\n",
    "A =\\begin{bmatrix}\n",
    "1 & 2 \\\\ 3 & 4\n",
    "\\end{bmatrix}  \n",
    "\\qquad \n",
    "B =\\begin{bmatrix}\n",
    "10 & 20 \\\\ 30 & 40\n",
    "\\end{bmatrix}  \\qquad C=A+B =?\n",
    "$$"
   ]
  },
  {
   "cell_type": "code",
   "execution_count": 11,
   "metadata": {},
   "outputs": [
    {
     "name": "stdout",
     "output_type": "stream",
     "text": [
      "A = \n",
      "tensor([[1., 2.],\n",
      "        [3., 4.]])\n",
      "\n",
      "B = \n",
      "tensor([[10., 20.],\n",
      "        [30., 40.]])\n",
      "\n",
      "C =\n",
      "tensor([[11., 22.],\n",
      "        [33., 44.]])\n",
      "\n"
     ]
    }
   ],
   "source": [
    "A = torch.Tensor( [ [1,2], [3,4] ])\n",
    "B = torch.Tensor( [ [10,20], [30,40] ])\n",
    "C = A + B\n",
    "print('A = ')\n",
    "print(A)\n",
    "print('')\n",
    "print('B = ') \n",
    "print(B)\n",
    "print('')\n",
    "print('C =')\n",
    "print(C)\n",
    "print('')"
   ]
  },
  {
   "cell_type": "markdown",
   "metadata": {},
   "source": [
    "### Print the dimension, size and type of the matrix A. Remember, the commands are dim(), size() and type()"
   ]
  },
  {
   "cell_type": "code",
   "execution_count": 12,
   "metadata": {},
   "outputs": [
    {
     "name": "stdout",
     "output_type": "stream",
     "text": [
      "torch.Size([2, 2])\n",
      "torch.FloatTensor\n",
      "2\n"
     ]
    }
   ],
   "source": [
    "print( A.size() )\n",
    "print( A.type() )\n",
    "print( A.dim() )\n",
    "\n"
   ]
  },
  {
   "cell_type": "markdown",
   "metadata": {},
   "source": [
    "### Convert the matrix A to be an integer matrix  (type LongTensor). Remember, the command is long(). Then print the type to check it was indeed converted."
   ]
  },
  {
   "cell_type": "code",
   "execution_count": 14,
   "metadata": {},
   "outputs": [
    {
     "name": "stdout",
     "output_type": "stream",
     "text": [
      "tensor([[1, 2],\n",
      "        [3, 4]])\n",
      "torch.LongTensor\n"
     ]
    }
   ],
   "source": [
    "A = A.long() \n",
    "print (A) \n",
    "print (A.type()) \n",
    "\n"
   ]
  },
  {
   "cell_type": "markdown",
   "metadata": {},
   "source": [
    "### Make a random 5 x 2 x 3 Tensor. The command is torch.rand.  Then do the following:   1) Print the tensor,  2) Print its type, 3) Print its dimension,  4) Print its size, 5) Print the size of its middle dimension."
   ]
  },
  {
   "cell_type": "code",
   "execution_count": 17,
   "metadata": {},
   "outputs": [
    {
     "name": "stdout",
     "output_type": "stream",
     "text": [
      "tensor([[[0.8957, 0.5371, 0.8472],\n",
      "         [0.1515, 0.0564, 0.4615]],\n",
      "\n",
      "        [[0.2245, 0.4456, 0.2632],\n",
      "         [0.5573, 0.7060, 0.1140]],\n",
      "\n",
      "        [[0.0174, 0.5093, 0.0497],\n",
      "         [0.2856, 0.4808, 0.2611]],\n",
      "\n",
      "        [[0.1364, 0.5254, 0.5944],\n",
      "         [0.7791, 0.1413, 0.7849]],\n",
      "\n",
      "        [[0.8461, 0.7151, 0.6428],\n",
      "         [0.5202, 0.5813, 0.5590]]])\n",
      "torch.FloatTensor\n",
      "3\n",
      "torch.Size([5, 2, 3])\n",
      "2\n"
     ]
    }
   ],
   "source": [
    "ran_tens = torch.rand(5,2,3)\n",
    "print(ran_tens)\n",
    "print(ran_tens.type()) \n",
    "print(ran_tens.dim())\n",
    "print(ran_tens.size())\n",
    "print(ran_tens.size(1))\n",
    "\n"
   ]
  },
  {
   "cell_type": "markdown",
   "metadata": {},
   "source": [
    "### Make 2 x 3 x 4 x 5 tensor filled with zeros then print it. (The command is torch.zeros). See if you can make sense of the display."
   ]
  },
  {
   "cell_type": "code",
   "execution_count": 18,
   "metadata": {},
   "outputs": [
    {
     "name": "stdout",
     "output_type": "stream",
     "text": [
      "tensor([[[[0., 0., 0., 0., 0.],\n",
      "          [0., 0., 0., 0., 0.],\n",
      "          [0., 0., 0., 0., 0.],\n",
      "          [0., 0., 0., 0., 0.]],\n",
      "\n",
      "         [[0., 0., 0., 0., 0.],\n",
      "          [0., 0., 0., 0., 0.],\n",
      "          [0., 0., 0., 0., 0.],\n",
      "          [0., 0., 0., 0., 0.]],\n",
      "\n",
      "         [[0., 0., 0., 0., 0.],\n",
      "          [0., 0., 0., 0., 0.],\n",
      "          [0., 0., 0., 0., 0.],\n",
      "          [0., 0., 0., 0., 0.]]],\n",
      "\n",
      "\n",
      "        [[[0., 0., 0., 0., 0.],\n",
      "          [0., 0., 0., 0., 0.],\n",
      "          [0., 0., 0., 0., 0.],\n",
      "          [0., 0., 0., 0., 0.]],\n",
      "\n",
      "         [[0., 0., 0., 0., 0.],\n",
      "          [0., 0., 0., 0., 0.],\n",
      "          [0., 0., 0., 0., 0.],\n",
      "          [0., 0., 0., 0., 0.]],\n",
      "\n",
      "         [[0., 0., 0., 0., 0.],\n",
      "          [0., 0., 0., 0., 0.],\n",
      "          [0., 0., 0., 0., 0.],\n",
      "          [0., 0., 0., 0., 0.]]]])\n"
     ]
    }
   ],
   "source": [
    "ex = torch.zeros(2,3,4,5)\n",
    "print(ex)\n",
    "\n"
   ]
  },
  {
   "cell_type": "code",
   "execution_count": null,
   "metadata": {},
   "outputs": [],
   "source": []
  }
 ],
 "metadata": {
  "kernelspec": {
   "display_name": "Python 3",
   "language": "python",
   "name": "python3"
  }
 },
 "nbformat": 4,
 "nbformat_minor": 2
}
