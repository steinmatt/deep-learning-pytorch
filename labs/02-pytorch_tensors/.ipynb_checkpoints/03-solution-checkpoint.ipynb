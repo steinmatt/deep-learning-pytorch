{
 "cells": [
  {
   "cell_type": "markdown",
   "metadata": {},
   "source": [
    "# PYTORCH TENSOR -- SOLUTION"
   ]
  },
  {
   "cell_type": "code",
   "execution_count": 1,
   "metadata": {},
   "outputs": [],
   "source": [
    "import torch"
   ]
  },
  {
   "cell_type": "markdown",
   "metadata": {},
   "source": [
    "### Make the matrices A and B below. Add them together to obtain a matrix C. Print these three matrices.\n",
    "$$\n",
    "A =\\begin{bmatrix}\n",
    "1 & 2 \\\\ 3 & 4\n",
    "\\end{bmatrix}  \n",
    "\\qquad \n",
    "B =\\begin{bmatrix}\n",
    "10 & 20 \\\\ 30 & 40\n",
    "\\end{bmatrix}  \\qquad C=A+B =?\n",
    "$$"
   ]
  },
  {
   "cell_type": "code",
   "execution_count": 2,
   "metadata": {},
   "outputs": [
    {
     "name": "stdout",
     "output_type": "stream",
     "text": [
      "tensor([[ 1.,  2.],\n",
      "        [ 3.,  4.]])\n",
      "\n",
      "tensor([[ 10.,  20.],\n",
      "        [ 30.,  40.]])\n",
      "\n",
      "tensor([[ 11.,  22.],\n",
      "        [ 33.,  44.]])\n"
     ]
    }
   ],
   "source": [
    "A=torch.Tensor( [ [1,2] , [3,4] ] )\n",
    "B=torch.Tensor( [ [10,20] , [30,40] ] )\n",
    "\n",
    "C=A+B\n",
    "\n",
    "print(A)\n",
    "print('')\n",
    "print(B)\n",
    "print('')\n",
    "print(C)"
   ]
  },
  {
   "cell_type": "markdown",
   "metadata": {},
   "source": [
    "### Print the sizes, dimension, and type of the matrix A. Remember, the commands are size(), dim() and type()"
   ]
  },
  {
   "cell_type": "code",
   "execution_count": 3,
   "metadata": {},
   "outputs": [
    {
     "name": "stdout",
     "output_type": "stream",
     "text": [
      "torch.Size([2, 2])\n",
      "2\n",
      "torch.FloatTensor\n"
     ]
    }
   ],
   "source": [
    "print( A.size() )\n",
    "print( A.dim() )\n",
    "print( A.type() )"
   ]
  },
  {
   "cell_type": "markdown",
   "metadata": {},
   "source": [
    "### Convert the matrix A to be an integer matrix  (type LongTensor). Remember, the command is long(). Then print the type to check it was indeed converted."
   ]
  },
  {
   "cell_type": "code",
   "execution_count": 4,
   "metadata": {},
   "outputs": [
    {
     "name": "stdout",
     "output_type": "stream",
     "text": [
      "tensor([[ 1,  2],\n",
      "        [ 3,  4]])\n",
      "torch.LongTensor\n"
     ]
    }
   ],
   "source": [
    "A=A.long()\n",
    "print(A)\n",
    "print(A.type())"
   ]
  },
  {
   "cell_type": "markdown",
   "metadata": {},
   "source": [
    "### Make a random 5 x 2 x 3 Tensor. The command is torch.rand.  Then do the following:   1) Print the tensor,  2) Print its type, 3) Print its dimension,  4) Print its size, 5) Print the size of its middle dimension."
   ]
  },
  {
   "cell_type": "code",
   "execution_count": 5,
   "metadata": {},
   "outputs": [
    {
     "name": "stdout",
     "output_type": "stream",
     "text": [
      "tensor([[[ 0.1413,  0.9744,  0.5078],\n",
      "         [ 0.8583,  0.1498,  0.6174]],\n",
      "\n",
      "        [[ 0.6840,  0.6592,  0.3421],\n",
      "         [ 0.6155,  0.2711,  0.4445]],\n",
      "\n",
      "        [[ 0.6605,  0.0063,  0.5811],\n",
      "         [ 0.9661,  0.2330,  0.7691]],\n",
      "\n",
      "        [[ 0.9788,  0.2826,  0.0676],\n",
      "         [ 0.7623,  0.5249,  0.5960]],\n",
      "\n",
      "        [[ 0.8486,  0.9960,  0.0581],\n",
      "         [ 0.9718,  0.3728,  0.4634]]])\n",
      "torch.FloatTensor\n",
      "3\n",
      "torch.Size([5, 2, 3])\n",
      "2\n"
     ]
    }
   ],
   "source": [
    "A=torch.rand(5,2,3)\n",
    "print(A)\n",
    "print(A.type())\n",
    "print(A.dim())\n",
    "print(A.size())\n",
    "print(A.size(1))"
   ]
  },
  {
   "cell_type": "markdown",
   "metadata": {},
   "source": [
    "### Make 2 x 3 x 4 x 5 tensor filled with zeros then print it. (The command is torch.zeros). See if you can make sense of the display."
   ]
  },
  {
   "cell_type": "code",
   "execution_count": 6,
   "metadata": {},
   "outputs": [
    {
     "name": "stdout",
     "output_type": "stream",
     "text": [
      "tensor([[[[ 0.,  0.,  0.,  0.,  0.],\n",
      "          [ 0.,  0.,  0.,  0.,  0.],\n",
      "          [ 0.,  0.,  0.,  0.,  0.],\n",
      "          [ 0.,  0.,  0.,  0.,  0.]],\n",
      "\n",
      "         [[ 0.,  0.,  0.,  0.,  0.],\n",
      "          [ 0.,  0.,  0.,  0.,  0.],\n",
      "          [ 0.,  0.,  0.,  0.,  0.],\n",
      "          [ 0.,  0.,  0.,  0.,  0.]],\n",
      "\n",
      "         [[ 0.,  0.,  0.,  0.,  0.],\n",
      "          [ 0.,  0.,  0.,  0.,  0.],\n",
      "          [ 0.,  0.,  0.,  0.,  0.],\n",
      "          [ 0.,  0.,  0.,  0.,  0.]]],\n",
      "\n",
      "\n",
      "        [[[ 0.,  0.,  0.,  0.,  0.],\n",
      "          [ 0.,  0.,  0.,  0.,  0.],\n",
      "          [ 0.,  0.,  0.,  0.,  0.],\n",
      "          [ 0.,  0.,  0.,  0.,  0.]],\n",
      "\n",
      "         [[ 0.,  0.,  0.,  0.,  0.],\n",
      "          [ 0.,  0.,  0.,  0.,  0.],\n",
      "          [ 0.,  0.,  0.,  0.,  0.],\n",
      "          [ 0.,  0.,  0.,  0.,  0.]],\n",
      "\n",
      "         [[ 0.,  0.,  0.,  0.,  0.],\n",
      "          [ 0.,  0.,  0.,  0.,  0.],\n",
      "          [ 0.,  0.,  0.,  0.,  0.],\n",
      "          [ 0.,  0.,  0.,  0.,  0.]]]])\n"
     ]
    }
   ],
   "source": [
    "A=torch.zeros(2,3,4,5)\n",
    "print(A)"
   ]
  }
 ],
 "metadata": {
  "kernelspec": {
   "display_name": "Python 3",
   "language": "python",
   "name": "python3"
  },
  "language_info": {
   "codemirror_mode": {
    "name": "ipython",
    "version": 3
   },
   "file_extension": ".py",
   "mimetype": "text/x-python",
   "name": "python",
   "nbconvert_exporter": "python",
   "pygments_lexer": "ipython3",
   "version": "3.6.4"
  }
 },
 "nbformat": 4,
 "nbformat_minor": 2
}
