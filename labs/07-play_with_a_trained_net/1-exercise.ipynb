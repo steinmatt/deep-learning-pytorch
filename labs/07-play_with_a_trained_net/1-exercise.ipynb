{
 "cells": [
  {
   "cell_type": "markdown",
   "metadata": {},
   "source": [
    "# Play with a trained network"
   ]
  },
  {
   "cell_type": "code",
   "execution_count": 1,
   "metadata": {},
   "outputs": [],
   "source": [
    "import torch\n",
    "import torch.nn.functional as F\n",
    "from torch.autograd import Variable\n",
    "import torch.nn as nn\n",
    "import torch.nn.functional as F\n",
    "import torch.optim as optim\n",
    "import matplotlib.pyplot as plt\n",
    "import time\n",
    "import utils\n",
    "import matplotlib\n",
    "from random import randint"
   ]
  },
  {
   "cell_type": "markdown",
   "metadata": {},
   "source": [
    "### two_layer_net class"
   ]
  },
  {
   "cell_type": "code",
   "execution_count": 2,
   "metadata": {},
   "outputs": [],
   "source": [
    "class two_layer_net(nn.Module):\n",
    "\n",
    "    def __init__(self, input_size, hidden_size, output_size):\n",
    "        super(two_layer_net , self).__init__()\n",
    "        self.linear_layer1 = nn.Linear( input_size, hidden_size , bias=False)\n",
    "        self.linear_layer2 = nn.Linear( hidden_size, output_size , bias=False)        \n",
    "        \n",
    "    def forward(self, x):\n",
    "        y = self.linear_layer1(x)\n",
    "        y = F.relu(y)\n",
    "        y = self.linear_layer2(y)\n",
    "        z = F.softmax(y, dim=0)\n",
    "        return z"
   ]
  },
  {
   "cell_type": "markdown",
   "metadata": {},
   "source": [
    "### Create an instance of the network. The weights are randomly initialized. "
   ]
  },
  {
   "cell_type": "code",
   "execution_count": 3,
   "metadata": {},
   "outputs": [
    {
     "name": "stdout",
     "output_type": "stream",
     "text": [
      "two_layer_net(\n",
      "  (linear_layer1): Linear(in_features=784, out_features=50, bias=False)\n",
      "  (linear_layer2): Linear(in_features=50, out_features=10, bias=False)\n",
      ")\n"
     ]
    }
   ],
   "source": [
    "net=two_layer_net(784,50,10)\n",
    "print(net)"
   ]
  },
  {
   "cell_type": "markdown",
   "metadata": {},
   "source": [
    "### The weights in the second layer are contained in a 10 x 50 matrix. Lets look at the first row of this matrix. We see random small numbers."
   ]
  },
  {
   "cell_type": "code",
   "execution_count": 4,
   "metadata": {},
   "outputs": [
    {
     "name": "stdout",
     "output_type": "stream",
     "text": [
      "tensor([ 0.1002,  0.0209,  0.0568, -0.0710,  0.0655,  0.0483, -0.1187,  0.0806,\n",
      "         0.0221,  0.0764, -0.0660,  0.0125, -0.0591, -0.1022,  0.0841,  0.0714,\n",
      "         0.0059, -0.0949,  0.1407, -0.1274,  0.0810, -0.1230, -0.0428, -0.0216,\n",
      "        -0.0906,  0.0492, -0.0541, -0.1211,  0.0210,  0.0640,  0.0040, -0.0350,\n",
      "        -0.1374,  0.0148,  0.0303, -0.0204,  0.0693, -0.1350, -0.0769, -0.0947,\n",
      "        -0.0944,  0.1286,  0.0319,  0.1392,  0.0039, -0.1171,  0.1005, -0.1255,\n",
      "         0.1145,  0.0894], grad_fn=<SelectBackward>)\n"
     ]
    }
   ],
   "source": [
    "print(net.linear_layer2.weight[0])"
   ]
  },
  {
   "cell_type": "markdown",
   "metadata": {},
   "source": [
    "### Replace these random weights by already trained weights that are contained in the file \"trained_weights.pt\""
   ]
  },
  {
   "cell_type": "code",
   "execution_count": 5,
   "metadata": {},
   "outputs": [],
   "source": [
    "tr_wght = torch.load('trained_weights.pt')\n",
    "net.load_state_dict( tr_wght )"
   ]
  },
  {
   "cell_type": "markdown",
   "metadata": {},
   "source": [
    "### Let's display the first row of the matrix in the second layer:"
   ]
  },
  {
   "cell_type": "code",
   "execution_count": 6,
   "metadata": {},
   "outputs": [
    {
     "name": "stdout",
     "output_type": "stream",
     "text": [
      "tensor([-0.5835, -0.2985, -0.3507,  0.0551, -0.1893, -1.0023, -1.1766, -0.0380,\n",
      "         0.0369, -0.0634,  0.1386,  0.1972, -0.1308, -0.1694, -0.0594,  0.2821,\n",
      "         0.2644, -0.5219, -0.3910,  0.2559,  0.0481, -0.4157, -0.0334,  0.1417,\n",
      "        -0.1375, -0.0499,  0.0798, -0.3978, -0.1330, -0.0278, -0.7361,  0.0077,\n",
      "        -0.0664,  0.3402, -1.0739, -0.0264,  0.0211, -1.6539, -0.6123,  0.0035,\n",
      "        -0.1587,  0.0893, -0.0137,  0.4959, -0.1553, -0.9554, -0.5491, -0.0052,\n",
      "        -0.4425,  0.1817], grad_fn=<SelectBackward>)\n"
     ]
    }
   ],
   "source": [
    "print(net.linear_layer2.weight[0])"
   ]
  },
  {
   "cell_type": "markdown",
   "metadata": {},
   "source": [
    "### Load the MNIST test set "
   ]
  },
  {
   "cell_type": "code",
   "execution_count": 7,
   "metadata": {},
   "outputs": [],
   "source": [
    "test_data=torch.load('../../data/mnist/test_data.pt')"
   ]
  },
  {
   "cell_type": "code",
   "execution_count": 8,
   "metadata": {},
   "outputs": [
    {
     "name": "stdout",
     "output_type": "stream",
     "text": [
      "torch.Size([10000, 28, 28])\n"
     ]
    }
   ],
   "source": [
    "print(test_data.size())"
   ]
  },
  {
   "cell_type": "markdown",
   "metadata": {},
   "source": [
    "### Load and display image 53 from test set"
   ]
  },
  {
   "cell_type": "code",
   "execution_count": 20,
   "metadata": {},
   "outputs": [
    {
     "name": "stdout",
     "output_type": "stream",
     "text": [
      "torch.Size([28, 28])\n"
     ]
    },
    {
     "data": {
      "image/png": "[encoded data removed]",
      "text/plain": [
       "<Figure size 640x480 with 1 Axes>"
      ]
     },
     "metadata": {},
     "output_type": "display_data"
    }
   ],
   "source": [
    "im= test_data[]\n",
    "print(im.size())\n",
    "utils.show(im)"
   ]
  },
  {
   "cell_type": "markdown",
   "metadata": {},
   "source": [
    "### Feed this picture to the network and see how the network classifies it. The picture is a 2-dimensional tensor of size 28 x 28. You can not feed it directly to the network. But you can feed im.view(784)! "
   ]
  },
  {
   "cell_type": "code",
   "execution_count": 21,
   "metadata": {},
   "outputs": [
    {
     "name": "stdout",
     "output_type": "stream",
     "text": [
      "tensor([0.0486, 0.0158, 0.0021, 0.0003, 0.0024, 0.5583, 0.0001, 0.2076, 0.1377,\n",
      "        0.0271], grad_fn=<SoftmaxBackward>)\n"
     ]
    }
   ],
   "source": [
    "prob= net(im.view(784))\n",
    "print(prob)"
   ]
  },
  {
   "cell_type": "markdown",
   "metadata": {},
   "source": [
    "### Visualize the confidence score that the net"
   ]
  },
  {
   "cell_type": "code",
   "execution_count": 22,
   "metadata": {
    "scrolled": false
   },
   "outputs": [
    {
     "data": {
      "image/png": "[encoded data removed]",
      "text/plain": [
       "<Figure size 640x480 with 1 Axes>"
      ]
     },
     "metadata": {},
     "output_type": "display_data"
    }
   ],
   "source": [
    "utils.show_prob(prob)"
   ]
  },
  {
   "cell_type": "markdown",
   "metadata": {},
   "source": [
    "### Go back to two cells above and try picture 111, which is a weird 7. You will see that the network struggle a little more here.\n",
    "\n",
    "### Try a few other images. You will see that most of the time the network do really well."
   ]
  },
  {
   "cell_type": "code",
   "execution_count": null,
   "metadata": {},
   "outputs": [],
   "source": []
  }
 ],
 "metadata": {
  "kernelspec": {
   "display_name": "Python 3",
   "language": "python",
   "name": "python3"
  },
  "language_info": {
   "codemirror_mode": {
    "name": "ipython",
    "version": 3
   },
   "file_extension": ".py",
   "mimetype": "text/x-python",
   "name": "python",
   "nbconvert_exporter": "python",
   "pygments_lexer": "ipython3",
   "version": "3.7.0"
  }
 },
 "nbformat": 4,
 "nbformat_minor": 2
}
