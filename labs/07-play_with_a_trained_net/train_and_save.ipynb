{
 "cells": [
  {
   "cell_type": "markdown",
   "metadata": {},
   "source": [
    "# MNIST MULTI-LAYER -- DEMO"
   ]
  },
  {
   "cell_type": "code",
   "execution_count": 1,
   "metadata": {},
   "outputs": [],
   "source": [
    "import torch\n",
    "import torch.nn as nn\n",
    "import torch.nn.functional as F\n",
    "import torch.optim as optim\n",
    "from random import randint\n",
    "import time\n",
    "import utils"
   ]
  },
  {
   "cell_type": "markdown",
   "metadata": {},
   "source": [
    "### Download the data"
   ]
  },
  {
   "cell_type": "code",
   "execution_count": 2,
   "metadata": {},
   "outputs": [],
   "source": [
    "train_data=torch.load('../../data/mnist/train_data.pt')\n",
    "train_label=torch.load('../../data/mnist/train_label.pt')\n",
    "test_data=torch.load('../../data/mnist/test_data.pt')\n",
    "test_label=torch.load('../../data/mnist/test_label.pt')"
   ]
  },
  {
   "cell_type": "markdown",
   "metadata": {},
   "source": [
    "### Make a two layer net class. "
   ]
  },
  {
   "cell_type": "code",
   "execution_count": 3,
   "metadata": {},
   "outputs": [],
   "source": [
    "class two_layer_net(nn.Module):\n",
    "\n",
    "    def __init__(self, input_size, hidden_size, output_size):\n",
    "        super().__init__()\n",
    "        self.linear_layer1 = nn.Linear( input_size, hidden_size , bias=False)\n",
    "        self.linear_layer2 = nn.Linear( hidden_size, output_size , bias=False)        \n",
    "        \n",
    "    def forward(self, x):\n",
    "        x = self.linear_layer1(x)\n",
    "        x = F.relu(x)\n",
    "        x = self.linear_layer2(x)\n",
    "        p = F.softmax(x, dim=0)\n",
    "        return p"
   ]
  },
  {
   "cell_type": "markdown",
   "metadata": {},
   "source": [
    "### Build the net (recall that a one layer net had 7,840 parameters)"
   ]
  },
  {
   "cell_type": "code",
   "execution_count": 4,
   "metadata": {},
   "outputs": [
    {
     "name": "stdout",
     "output_type": "stream",
     "text": [
      "two_layer_net(\n",
      "  (linear_layer1): Linear(in_features=784, out_features=50, bias=False)\n",
      "  (linear_layer2): Linear(in_features=50, out_features=10, bias=False)\n",
      ")\n"
     ]
    }
   ],
   "source": [
    "net=two_layer_net(784,50,10)\n",
    "\n",
    "print(net)"
   ]
  },
  {
   "cell_type": "markdown",
   "metadata": {},
   "source": [
    "### Choose the criterion, optimizer, batchsize, learning rate"
   ]
  },
  {
   "cell_type": "code",
   "execution_count": 5,
   "metadata": {},
   "outputs": [],
   "source": [
    "criterion = nn.NLLLoss()\n",
    "\n",
    "optimizer=torch.optim.SGD( net.parameters() , lr=0.01 )\n",
    "\n",
    "bs=20"
   ]
  },
  {
   "cell_type": "markdown",
   "metadata": {},
   "source": [
    "### Evaluate on test set"
   ]
  },
  {
   "cell_type": "code",
   "execution_count": 6,
   "metadata": {},
   "outputs": [],
   "source": [
    "def eval_on_test_set():\n",
    "\n",
    "    running_error=0\n",
    "    num_batches=0\n",
    "    \n",
    "    with torch.no_grad():\n",
    "\n",
    "        for i in range(0,10000,bs):\n",
    "\n",
    "            minibatch_data =  test_data[i:i+bs]\n",
    "            minibatch_label= test_label[i:i+bs]\n",
    "\n",
    "            inputs = minibatch_data.view(bs,784)\n",
    "\n",
    "            probs=net( inputs ) \n",
    "\n",
    "            error = utils.get_error( probs , minibatch_label)\n",
    "\n",
    "            running_error += error.item()\n",
    "\n",
    "            num_batches+=1\n",
    "\n",
    "\n",
    "    total_error = running_error/num_batches\n",
    "    print( 'test error  = ', total_error*100 ,'percent')"
   ]
  },
  {
   "cell_type": "markdown",
   "metadata": {},
   "source": [
    "### Training loop"
   ]
  },
  {
   "cell_type": "code",
   "execution_count": 7,
   "metadata": {},
   "outputs": [
    {
     "name": "stdout",
     "output_type": "stream",
     "text": [
      " \n",
      "epoch= 0 \t time= 1.4313218593597412 \t loss= 1.7128862002293268 \t error= 21.973333209753036 percent\n",
      "test error  =  13.910000216960908 percent\n",
      " \n",
      "epoch= 1 \t time= 2.8465778827667236 \t loss= 1.419286167383194 \t error= 16.101666647195817 percent\n",
      "test error  =  12.570000219345093 percent\n",
      " \n",
      "epoch= 2 \t time= 4.35388970375061 \t loss= 1.3465302079518635 \t error= 14.29166672229767 percent\n",
      "test error  =  11.770000290870666 percent\n",
      " \n",
      "epoch= 3 \t time= 5.836386680603027 \t loss= 1.3025104666550955 \t error= 13.275000131130218 percent\n",
      "test error  =  11.230000329017638 percent\n",
      " \n",
      "epoch= 4 \t time= 7.225856065750122 \t loss= 1.2605493220686912 \t error= 12.420000143845876 percent\n",
      "test error  =  10.59000037908554 percent\n",
      " \n",
      "epoch= 5 \t time= 8.611780881881714 \t loss= 1.2355794723828633 \t error= 11.855000311136246 percent\n",
      "test error  =  10.140000271797179 percent\n",
      " \n",
      "epoch= 6 \t time= 10.257648944854736 \t loss= 1.212474083761374 \t error= 11.241666994492212 percent\n",
      "test error  =  9.700000369548798 percent\n",
      " \n",
      "epoch= 7 \t time= 11.667290925979614 \t loss= 1.2052404810587565 \t error= 11.511666923761368 percent\n",
      "test error  =  9.550000405311584 percent\n",
      " \n",
      "epoch= 8 \t time= 13.165809869766235 \t loss= 1.1903737941185633 \t error= 10.916667024294535 percent\n",
      "test error  =  9.01000040769577 percent\n",
      " \n",
      "epoch= 9 \t time= 14.577946901321411 \t loss= 1.1735638286471366 \t error= 10.47500041325887 percent\n",
      "test error  =  8.980000424385072 percent\n",
      " \n",
      "epoch= 10 \t time= 15.978230714797974 \t loss= 1.1681828480362892 \t error= 10.34500048359235 percent\n",
      "test error  =  8.82000045776367 percent\n",
      " \n",
      "epoch= 11 \t time= 17.401726961135864 \t loss= 1.1553202687303226 \t error= 10.08166711529096 percent\n",
      "test error  =  8.770000457763672 percent\n",
      " \n",
      "epoch= 12 \t time= 18.832298040390015 \t loss= 1.1524579353133837 \t error= 9.986667066812515 percent\n",
      "test error  =  8.590000450611115 percent\n",
      " \n",
      "epoch= 13 \t time= 20.329712867736816 \t loss= 1.1442421648899714 \t error= 9.75666711529096 percent\n",
      "test error  =  8.430000460147857 percent\n",
      " \n",
      "epoch= 14 \t time= 21.822190761566162 \t loss= 1.1450905155539512 \t error= 9.926667141914368 percent\n",
      "test error  =  8.400000476837159 percent\n",
      " \n",
      "epoch= 15 \t time= 23.288136959075928 \t loss= 1.1389922759334246 \t error= 9.6883338312308 percent\n",
      "test error  =  8.340000414848328 percent\n",
      " \n",
      "epoch= 16 \t time= 24.734596729278564 \t loss= 1.1312682680686315 \t error= 9.380000460147858 percent\n",
      "test error  =  8.280000460147857 percent\n",
      " \n",
      "epoch= 17 \t time= 26.148632764816284 \t loss= 1.128062372048696 \t error= 9.4200004696846 percent\n",
      "test error  =  8.250000405311585 percent\n",
      " \n",
      "epoch= 18 \t time= 27.606363773345947 \t loss= 1.1252127275466919 \t error= 9.310000495115917 percent\n",
      "test error  =  8.12000037431717 percent\n",
      " \n",
      "epoch= 19 \t time= 29.083688974380493 \t loss= 1.1205665546854338 \t error= 9.221667182445527 percent\n",
      "test error  =  8.180000364780426 percent\n",
      " \n",
      "epoch= 20 \t time= 30.480807781219482 \t loss= 1.1217127776543299 \t error= 9.355000513792037 percent\n",
      "test error  =  7.990000450611115 percent\n",
      " \n",
      "epoch= 21 \t time= 31.917285919189453 \t loss= 1.1115564726988474 \t error= 8.851667316754659 percent\n",
      "test error  =  8.000000417232513 percent\n",
      " \n",
      "epoch= 22 \t time= 33.37644863128662 \t loss= 1.1125692727168401 \t error= 8.960000570615133 percent\n",
      "test error  =  8.07000036239624 percent\n",
      " \n",
      "epoch= 23 \t time= 34.76739287376404 \t loss= 1.10771697529157 \t error= 8.980000545581182 percent\n",
      "test error  =  7.970000433921815 percent\n",
      " \n",
      "epoch= 24 \t time= 36.18807506561279 \t loss= 1.1100914005041123 \t error= 8.95833387374878 percent\n",
      "test error  =  7.810000467300416 percent\n",
      " \n",
      "epoch= 25 \t time= 37.59771490097046 \t loss= 1.1033750517169634 \t error= 8.853333924214045 percent\n",
      "test error  =  7.650000357627869 percent\n",
      " \n",
      "epoch= 26 \t time= 39.07851481437683 \t loss= 1.1043088630636533 \t error= 8.830000581343969 percent\n",
      "test error  =  7.760000455379486 percent\n",
      " \n",
      "epoch= 27 \t time= 40.88798904418945 \t loss= 1.1008669614394506 \t error= 8.608333929379782 percent\n",
      "test error  =  7.750000476837158 percent\n",
      " \n",
      "epoch= 28 \t time= 42.46268963813782 \t loss= 1.100228301544984 \t error= 8.736667249600092 percent\n",
      "test error  =  7.620000445842742 percent\n",
      " \n",
      "epoch= 29 \t time= 44.043057918548584 \t loss= 1.1009716785351435 \t error= 8.706667248408 percent\n",
      "test error  =  7.610000443458557 percent\n",
      " \n",
      "epoch= 30 \t time= 45.56329393386841 \t loss= 1.0980035343567531 \t error= 8.575000617901484 percent\n",
      "test error  =  7.6000004529953005 percent\n",
      " \n",
      "epoch= 31 \t time= 47.32844805717468 \t loss= 1.0948237370848655 \t error= 8.620000584920247 percent\n",
      "test error  =  7.460000467300415 percent\n",
      " \n",
      "epoch= 32 \t time= 49.11460089683533 \t loss= 1.0920259352525075 \t error= 8.520000584920247 percent\n",
      "test error  =  7.580000424385071 percent\n",
      " \n",
      "epoch= 33 \t time= 50.69444990158081 \t loss= 1.0955895621577898 \t error= 8.773333885272343 percent\n",
      "test error  =  7.49000051021576 percent\n",
      " \n",
      "epoch= 34 \t time= 52.35897493362427 \t loss= 1.091311919748783 \t error= 8.370000614722569 percent\n",
      "test error  =  7.560000455379486 percent\n",
      " \n",
      "epoch= 35 \t time= 54.0118567943573 \t loss= 1.090324905892213 \t error= 8.381667252381643 percent\n",
      "test error  =  7.420000469684601 percent\n",
      " \n",
      "epoch= 36 \t time= 55.55913496017456 \t loss= 1.0867133749723434 \t error= 8.260000574588776 percent\n",
      "test error  =  7.530000448226929 percent\n",
      " \n",
      "epoch= 37 \t time= 56.97670769691467 \t loss= 1.0892097800175349 \t error= 8.608333975076675 percent\n",
      "test error  =  7.410000503063202 percent\n",
      " \n",
      "epoch= 38 \t time= 58.448894023895264 \t loss= 1.0894322245121002 \t error= 8.441667228937149 percent\n",
      "test error  =  7.460000538825989 percent\n",
      " \n",
      "epoch= 39 \t time= 59.960673093795776 \t loss= 1.0868765004674594 \t error= 8.3850006600221 percent\n",
      "test error  =  7.500000584125519 percent\n",
      " \n",
      "epoch= 40 \t time= 61.42245292663574 \t loss= 1.0847370440165203 \t error= 8.440000593662262 percent\n",
      "test error  =  7.450000500679016 percent\n",
      " \n",
      "epoch= 41 \t time= 62.873339891433716 \t loss= 1.0835559388796487 \t error= 8.230000642935435 percent\n",
      "test error  =  7.490000474452972 percent\n",
      " \n",
      "epoch= 42 \t time= 64.29086065292358 \t loss= 1.0835547023614247 \t error= 8.381667274236678 percent\n",
      "test error  =  7.31000052690506 percent\n",
      " \n",
      "epoch= 43 \t time= 65.69913601875305 \t loss= 1.0795757066607474 \t error= 8.253333979845047 percent\n",
      "test error  =  7.410000455379485 percent\n",
      " \n",
      "epoch= 44 \t time= 67.12533569335938 \t loss= 1.079751685957114 \t error= 8.255000644922257 percent\n",
      "test error  =  7.46000039577484 percent\n",
      " \n",
      "epoch= 45 \t time= 68.53913187980652 \t loss= 1.0829842115044594 \t error= 8.188333972295126 percent\n",
      "test error  =  7.420000588893891 percent\n",
      " \n",
      "epoch= 46 \t time= 69.92883682250977 \t loss= 1.0765693914890289 \t error= 8.025000607967376 percent\n",
      "test error  =  7.270000445842744 percent\n",
      " \n",
      "epoch= 47 \t time= 71.5397539138794 \t loss= 1.0748874185085298 \t error= 8.095000644524893 percent\n",
      "test error  =  7.430000579357148 percent\n",
      " \n",
      "epoch= 48 \t time= 73.12154698371887 \t loss= 1.0762809308568637 \t error= 8.055000611146292 percent\n",
      "test error  =  7.3600005269050595 percent\n",
      " \n",
      "epoch= 49 \t time= 74.5655267238617 \t loss= 1.0753808238506317 \t error= 8.160000663995742 percent\n",
      "test error  =  7.450000500679016 percent\n"
     ]
    }
   ],
   "source": [
    "start = time.time()\n",
    "\n",
    "for epoch in range(50):\n",
    "    \n",
    "    running_loss=0\n",
    "    running_error=0\n",
    "    num_batches=0\n",
    "    \n",
    "    shuffled_indices=torch.randperm(60000)\n",
    " \n",
    "    for count in range(0,60000,bs):\n",
    "        \n",
    "        # forward and backward pass\n",
    "    \n",
    "        optimizer.zero_grad()\n",
    "        \n",
    "        indices=shuffled_indices[count:count+bs]\n",
    "        minibatch_data =  train_data[indices]\n",
    "        minibatch_label= train_label[indices]\n",
    "\n",
    "        inputs = minibatch_data.view(bs,784)\n",
    "\n",
    "        inputs.requires_grad_()\n",
    "\n",
    "        prob=net( inputs ) \n",
    "\n",
    "        log_prob=torch.log(prob)\n",
    "        loss = criterion(log_prob, minibatch_label)\n",
    "        \n",
    "        loss.backward()\n",
    "\n",
    "        optimizer.step()\n",
    "        \n",
    "        \n",
    "        # compute some stats\n",
    "        \n",
    "        num_batches+=1\n",
    "        \n",
    "        with torch.no_grad():\n",
    "            \n",
    "            running_loss += loss.item()\n",
    "\n",
    "            error = utils.get_error( prob , minibatch_label)\n",
    "            running_error += error.item() \n",
    "    \n",
    "    \n",
    "    # once the epoch is finished we divide the \"running quantities\"\n",
    "    # by the number of batches\n",
    "    \n",
    "    total_loss = running_loss/num_batches\n",
    "    total_error = running_error/num_batches\n",
    "    elapsed_time = time.time() - start\n",
    "    \n",
    "    # every 10 epoch we display the stats \n",
    "    # and compute the error rate on the test set  \n",
    "    \n",
    "    if epoch % 1 == 0 : \n",
    "    \n",
    "        print(' ')\n",
    "        \n",
    "        print('epoch=',epoch, '\\t time=', elapsed_time,\n",
    "              '\\t loss=', total_loss , '\\t error=', total_error*100 ,'percent')\n",
    "        \n",
    "        eval_on_test_set()\n",
    "               "
   ]
  },
  {
   "cell_type": "markdown",
   "metadata": {},
   "source": [
    "### Choose image at random from the test set and see how good/bad are the predictions"
   ]
  },
  {
   "cell_type": "code",
   "execution_count": 9,
   "metadata": {},
   "outputs": [],
   "source": [
    "torch.save( net.state_dict() , 'trained_weights.pt'  )"
   ]
  },
  {
   "cell_type": "code",
   "execution_count": null,
   "metadata": {},
   "outputs": [],
   "source": []
  }
 ],
 "metadata": {
  "kernelspec": {
   "display_name": "Python 3",
   "language": "python",
   "name": "python3"
  },
  "language_info": {
   "codemirror_mode": {
    "name": "ipython",
    "version": 3
   },
   "file_extension": ".py",
   "mimetype": "text/x-python",
   "name": "python",
   "nbconvert_exporter": "python",
   "pygments_lexer": "ipython3",
   "version": "3.6.4"
  }
 },
 "nbformat": 4,
 "nbformat_minor": 2
}
