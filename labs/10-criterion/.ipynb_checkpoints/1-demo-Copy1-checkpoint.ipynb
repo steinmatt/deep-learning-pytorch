{
 "cells": [
  {
   "cell_type": "code",
   "execution_count": 1,
   "metadata": {},
   "outputs": [],
   "source": [
    "import torch\n",
    "import torch.nn as nn\n",
    "import utils"
   ]
  },
  {
   "cell_type": "code",
   "execution_count": 2,
   "metadata": {},
   "outputs": [],
   "source": [
    "import matplotlib.pyplot as plt\n",
    "import matplotlib\n",
    "import numpy as np\n",
    "\n",
    "def display_scores(sc):\n",
    "    \n",
    "    \n",
    "    \n",
    "    \n",
    "    ft=10\n",
    "    ft_label=12\n",
    "    \n",
    "    bs=sc.size(0)\n",
    "    nb_class=sc.size(1)\n",
    "    \n",
    "    f, ax = plt.subplots(1, bs)\n",
    "    f.set_size_inches(2, 2)\n",
    "    \n",
    "    f.subplots_adjust(left=None, bottom=None, right=None, top=None,\n",
    "                wspace=None, hspace=None)\n",
    "    \n",
    "    max_score= sc.max().item()\n",
    "    min_score=sc.min().item()\n",
    "\n",
    "    label_pos= min_score-13\n",
    "    xmin=min_score-1\n",
    "    xmax=max_score+1\n",
    "\n",
    "    \n",
    "    label=[]\n",
    "    for i in range(nb_class):\n",
    "        str_nb=\"{0:.0f}\".format(i)\n",
    "        mystr='class '+ str_nb\n",
    "        label.append(mystr)\n",
    "        \n",
    "    y_pos = np.arange(nb_class)*1.2\n",
    "               \n",
    "        \n",
    "        \n",
    "    for count in range(bs):\n",
    "        \n",
    "       # ax = plt.subplot2grid((1,2), (0,count))\n",
    "        \n",
    "        ax[count].set_title('data '+ \"{0:.0f}\".format(count))\n",
    "        \n",
    "        scores=sc[count].numpy()\n",
    "\n",
    "        width=0.9\n",
    "        col='darkgreen'\n",
    "\n",
    "        plt.rcdefaults()\n",
    "        \n",
    "        # line in the middle\n",
    "        ax[count].plot([0,0], [y_pos[0]-1,y_pos[-1]+1], color='k',linewidth=4)\n",
    "\n",
    "\n",
    "        # the plot\n",
    "        barlist=ax[count].barh(y_pos, scores, width , align='center', color=col)\n",
    "\n",
    "        for idx,bar in enumerate(barlist):\n",
    "            if scores[idx]<0:\n",
    "                bar.set_color('r')\n",
    "\n",
    "        ax[count].set_xlim([xmin, xmax])\n",
    "        ax[count].invert_yaxis()  \n",
    "\n",
    "        # no y label\n",
    "        ax[count].set_yticklabels([])\n",
    "        ax[count].set_yticks([])\n",
    "\n",
    "        # x label\n",
    "        ax[count].set_xticklabels([])\n",
    "        ax[count].set_xticks([])\n",
    "\n",
    "\n",
    "        ax[count].spines['right'].set_visible(False)\n",
    "        ax[count].spines['top'].set_visible(False)\n",
    "        ax[count].spines['bottom'].set_visible(False)\n",
    "        ax[count].spines['left'].set_visible(False)\n",
    "\n",
    "\n",
    "        for i in range(len(scores)):\n",
    "\n",
    "            str_nb=\"{0:.1f}\".format(scores[i])\n",
    "            if scores[i]>=0:\n",
    "                ax[count].text( scores[i] + 0.05 , y_pos[i] ,str_nb ,\n",
    "                     horizontalalignment='left', verticalalignment='center',\n",
    "                     transform=ax[count].transData, color= col,fontsize=ft)\n",
    "            else:\n",
    "                ax[count].text( scores[i] - 0.05 , y_pos[i] ,str_nb ,\n",
    "                     horizontalalignment='right', verticalalignment='center',\n",
    "                     transform=ax[count].transData, color= 'r',fontsize=ft)\n",
    "                \n",
    "            if  count ==0: \n",
    "                ax[0].text( label_pos , y_pos[i] , label[i] ,\n",
    "                         horizontalalignment='left', verticalalignment='center',\n",
    "                         transform=ax[0].transData, color= 'black',fontsize=ft_label)\n",
    "\n",
    "         \n",
    "\n",
    "                \n",
    "             \n",
    "\n",
    "    plt.show()"
   ]
  },
  {
   "cell_type": "markdown",
   "metadata": {},
   "source": [
    "### Make a Cross Entropy Criterion and call it mycrit "
   ]
  },
  {
   "cell_type": "code",
   "execution_count": 3,
   "metadata": {},
   "outputs": [
    {
     "name": "stdout",
     "output_type": "stream",
     "text": [
      "CrossEntropyLoss()\n"
     ]
    }
   ],
   "source": [
    "mycrit=nn.CrossEntropyLoss()\n",
    "print(mycrit)"
   ]
  },
  {
   "cell_type": "markdown",
   "metadata": {},
   "source": [
    "### Pretend the output of the network is the following batch of scores"
   ]
  },
  {
   "cell_type": "code",
   "execution_count": 4,
   "metadata": {},
   "outputs": [
    {
     "name": "stdout",
     "output_type": "stream",
     "text": [
      "tensor([[ 0.8000,  2.3000, -1.0000, -1.2000],\n",
      "        [-1.2000,  1.3000,  5.0000, -2.0000]])\n"
     ]
    },
    {
     "data": {
      "image/png": "[encoded data removed]",
      "text/plain": [
       "<matplotlib.figure.Figure at 0x11ca9b5c0>"
      ]
     },
     "metadata": {},
     "output_type": "display_data"
    }
   ],
   "source": [
    "scores=torch.Tensor([[0.8, 2.3, -1.0, -1.2] , [-1.2, 1.3, 5.0 , -2.0 ] ]  )\n",
    "\n",
    "print(scores)\n",
    "\n",
    "display_scores(scores)"
   ]
  },
  {
   "cell_type": "markdown",
   "metadata": {},
   "source": [
    "### And let say the labels are 2 and 3"
   ]
  },
  {
   "cell_type": "code",
   "execution_count": 12,
   "metadata": {},
   "outputs": [
    {
     "name": "stdout",
     "output_type": "stream",
     "text": [
      "tensor([ 2,  3])\n"
     ]
    }
   ],
   "source": [
    "labels=torch.LongTensor([2,3])\n",
    "\n",
    "print(labels)"
   ]
  },
  {
   "cell_type": "markdown",
   "metadata": {},
   "source": [
    "### Feed the scores and the label to the criterion to evalaute how good or bad was the network prediction"
   ]
  },
  {
   "cell_type": "code",
   "execution_count": 13,
   "metadata": {},
   "outputs": [
    {
     "name": "stdout",
     "output_type": "stream",
     "text": [
      "tensor(5.2910)\n"
     ]
    }
   ],
   "source": [
    "average_loss = mycrit(scores,labels)\n",
    "\n",
    "print(average_loss)"
   ]
  },
  {
   "cell_type": "code",
   "execution_count": 14,
   "metadata": {},
   "outputs": [
    {
     "name": "stdout",
     "output_type": "stream",
     "text": [
      "5.291047096252441\n"
     ]
    }
   ],
   "source": [
    "print(average_loss.item())"
   ]
  },
  {
   "cell_type": "markdown",
   "metadata": {},
   "source": [
    "### Create a better set of scores: we will get a smaller loss"
   ]
  },
  {
   "cell_type": "code",
   "execution_count": 15,
   "metadata": {},
   "outputs": [
    {
     "name": "stdout",
     "output_type": "stream",
     "text": [
      "tensor([ 2,  3])\n"
     ]
    },
    {
     "data": {
      "image/png": "[encoded data removed]",
      "text/plain": [
       "<matplotlib.figure.Figure at 0x10f0f0ba8>"
      ]
     },
     "metadata": {},
     "output_type": "display_data"
    },
    {
     "name": "stdout",
     "output_type": "stream",
     "text": [
      "loss =  0.2927485704421997\n"
     ]
    }
   ],
   "source": [
    "scores=torch.Tensor([ [-1.2, 0.5 , 3.1, -0.5], [1.4, -1.7 , -1.3, 2.0] ])\n",
    "\n",
    "print(labels)\n",
    "\n",
    "display_scores(scores)\n",
    "\n",
    "average_loss = mycrit(scores,labels)\n",
    "\n",
    "\n",
    "print('loss = ', average_loss.item() )"
   ]
  },
  {
   "cell_type": "markdown",
   "metadata": {},
   "source": [
    "### Even better:  the loss is close to zero"
   ]
  },
  {
   "cell_type": "code",
   "execution_count": 16,
   "metadata": {},
   "outputs": [
    {
     "name": "stdout",
     "output_type": "stream",
     "text": [
      "tensor([ 2,  3])\n"
     ]
    },
    {
     "data": {
      "image/png": "[encoded data removed]",
      "text/plain": [
       "<matplotlib.figure.Figure at 0x10f1b8eb8>"
      ]
     },
     "metadata": {},
     "output_type": "display_data"
    },
    {
     "name": "stdout",
     "output_type": "stream",
     "text": [
      "loss =  0.0036146638449281454\n"
     ]
    }
   ],
   "source": [
    "scores=torch.Tensor([ [-1.2, 0.5 , 6.1, -0.5], [1.4, -1.7 , -1.3, 8.0] ])\n",
    "\n",
    "print(labels)\n",
    "\n",
    "display_scores(scores)\n",
    "\n",
    "average_loss = mycrit(scores,labels)\n",
    "\n",
    "\n",
    "print('loss = ', average_loss.item() )"
   ]
  },
  {
   "cell_type": "code",
   "execution_count": null,
   "metadata": {},
   "outputs": [],
   "source": []
  },
  {
   "cell_type": "code",
   "execution_count": null,
   "metadata": {},
   "outputs": [],
   "source": []
  }
 ],
 "metadata": {
  "kernelspec": {
   "display_name": "Python 3",
   "language": "python",
   "name": "python3"
  },
  "language_info": {
   "codemirror_mode": {
    "name": "ipython",
    "version": 3
   },
   "file_extension": ".py",
   "mimetype": "text/x-python",
   "name": "python",
   "nbconvert_exporter": "python",
   "pygments_lexer": "ipython3",
   "version": "3.6.4"
  }
 },
 "nbformat": 4,
 "nbformat_minor": 2
}
