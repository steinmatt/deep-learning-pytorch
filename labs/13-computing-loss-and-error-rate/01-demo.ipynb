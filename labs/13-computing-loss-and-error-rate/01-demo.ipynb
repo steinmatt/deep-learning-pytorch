{
 "cells": [
  {
   "cell_type": "markdown",
   "metadata": {},
   "source": [
    "# LOSS AND ERROR RATE -- DEMO"
   ]
  },
  {
   "cell_type": "code",
   "execution_count": 1,
   "metadata": {},
   "outputs": [],
   "source": [
    "import torch\n",
    "import torch.nn as nn\n",
    "import torch.nn.functional as F\n",
    "import torch.optim as optim\n",
    "from random import randint\n",
    "import utils"
   ]
  },
  {
   "cell_type": "markdown",
   "metadata": {},
   "source": [
    "### Download the data and print the sizes"
   ]
  },
  {
   "cell_type": "code",
   "execution_count": 2,
   "metadata": {},
   "outputs": [],
   "source": [
    "train_data=torch.load('../../data/mnist/train_data.pt')\n",
    "train_label=torch.load('../../data/mnist/train_label.pt')\n",
    "test_data=torch.load('../../data/mnist/test_data.pt')"
   ]
  },
  {
   "cell_type": "markdown",
   "metadata": {},
   "source": [
    "### Make a ONE layer net class. "
   ]
  },
  {
   "cell_type": "code",
   "execution_count": 3,
   "metadata": {},
   "outputs": [],
   "source": [
    "class one_layer_net(nn.Module):\n",
    "\n",
    "    def __init__(self, input_size, output_size):\n",
    "        super().__init__()\n",
    "        self.linear_layer = nn.Linear( input_size, output_size , bias=False)\n",
    "        \n",
    "    def forward(self, x):\n",
    "        scores = self.linear_layer(x)\n",
    "        return scores"
   ]
  },
  {
   "cell_type": "markdown",
   "metadata": {},
   "source": [
    "### Build the net"
   ]
  },
  {
   "cell_type": "code",
   "execution_count": 4,
   "metadata": {},
   "outputs": [
    {
     "name": "stdout",
     "output_type": "stream",
     "text": [
      "one_layer_net(\n",
      "  (linear_layer): Linear(in_features=784, out_features=10, bias=False)\n",
      ")\n"
     ]
    }
   ],
   "source": [
    "net=one_layer_net(784,10)\n",
    "print(net)"
   ]
  },
  {
   "cell_type": "markdown",
   "metadata": {},
   "source": [
    "### Choose the criterion, optimizer, batchsize, learning rate"
   ]
  },
  {
   "cell_type": "code",
   "execution_count": 5,
   "metadata": {},
   "outputs": [],
   "source": [
    "criterion = nn.CrossEntropyLoss()\n",
    "\n",
    "optimizer=torch.optim.SGD( net.parameters() , lr=0.01 )\n",
    "\n",
    "bs=200"
   ]
  },
  {
   "cell_type": "markdown",
   "metadata": {},
   "source": [
    "### Do 30 passes through the training set"
   ]
  },
  {
   "cell_type": "code",
   "execution_count": 13,
   "metadata": {},
   "outputs": [
    {
     "name": "stdout",
     "output_type": "stream",
     "text": [
      "epoch= 0 \t loss= 0.3241092038154602 \t error= 8.998333195845285 percent\n",
      "epoch= 1 \t loss= 0.32344047546386717 \t error= 8.996666848659515 percent\n",
      "epoch= 2 \t loss= 0.32279426674048106 \t error= 8.98333336909612 percent\n",
      "epoch= 3 \t loss= 0.32215487882494925 \t error= 8.969999929269155 percent\n",
      "epoch= 4 \t loss= 0.3215768676499526 \t error= 8.956666628519693 percent\n",
      "epoch= 5 \t loss= 0.32096602469682695 \t error= 8.925000011920929 percent\n",
      "epoch= 6 \t loss= 0.32038835108280184 \t error= 8.930000166098278 percent\n",
      "epoch= 7 \t loss= 0.3198333343863487 \t error= 8.905000070730845 percent\n",
      "epoch= 8 \t loss= 0.31926045686006543 \t error= 8.863333185513813 percent\n",
      "epoch= 9 \t loss= 0.3187166953086853 \t error= 8.863333404064178 percent\n",
      "epoch= 10 \t loss= 0.31816946243246397 \t error= 8.858333349227905 percent\n",
      "epoch= 11 \t loss= 0.31765139510234197 \t error= 8.846666514873505 percent\n",
      "epoch= 12 \t loss= 0.31713082080086075 \t error= 8.818333407243092 percent\n",
      "epoch= 13 \t loss= 0.316621364702781 \t error= 8.831666648387909 percent\n",
      "epoch= 14 \t loss= 0.31612741604447364 \t error= 8.799999932448069 percent\n",
      "epoch= 15 \t loss= 0.315648292551438 \t error= 8.764999806880951 percent\n",
      "epoch= 16 \t loss= 0.31519279509782794 \t error= 8.768333315849304 percent\n",
      "epoch= 17 \t loss= 0.31471553603808083 \t error= 8.768333236376446 percent\n",
      "epoch= 18 \t loss= 0.31427066793044406 \t error= 8.756666858990988 percent\n",
      "epoch= 19 \t loss= 0.31379891008138655 \t error= 8.754999935626984 percent\n",
      "epoch= 20 \t loss= 0.31338789905111 \t error= 8.701666633288067 percent\n",
      "epoch= 21 \t loss= 0.31293106863896053 \t error= 8.679999868075052 percent\n",
      "epoch= 22 \t loss= 0.3125195549428463 \t error= 8.669999718666077 percent\n",
      "epoch= 23 \t loss= 0.3121020942926407 \t error= 8.67499989271164 percent\n",
      "epoch= 24 \t loss= 0.31169046541055045 \t error= 8.668333113193512 percent\n",
      "epoch= 25 \t loss= 0.311280703296264 \t error= 8.664999922116598 percent\n",
      "epoch= 26 \t loss= 0.31086823547879855 \t error= 8.616666555404663 percent\n",
      "epoch= 27 \t loss= 0.31050831233461695 \t error= 8.633333345254263 percent\n",
      "epoch= 28 \t loss= 0.3101102883120378 \t error= 8.60999975601832 percent\n",
      "epoch= 29 \t loss= 0.3097378782431285 \t error= 8.594999829928081 percent\n"
     ]
    }
   ],
   "source": [
    "for epoch in range(30):\n",
    "    \n",
    "    running_loss=0\n",
    "    running_error=0\n",
    "    num_batches=0\n",
    "    \n",
    "    shuffled_indices=torch.randperm(60000)\n",
    " \n",
    "    for count in range(0,60000,bs):\n",
    "    \n",
    "        optimizer.zero_grad()\n",
    "        \n",
    "        indices=shuffled_indices[count:count+bs]\n",
    "        minibatch_data =  train_data[indices]\n",
    "        minibatch_label= train_label[indices]\n",
    "\n",
    "        inputs = minibatch_data.view(bs,784)\n",
    "\n",
    "        inputs.requires_grad_()\n",
    "\n",
    "        scores=net( inputs ) \n",
    "\n",
    "        loss =  criterion( scores , minibatch_label) \n",
    "        \n",
    "        loss.backward()\n",
    "\n",
    "        optimizer.step()\n",
    "        \n",
    "        \n",
    "        # compute and accumulate stats\n",
    "        \n",
    "        num_batches+=1\n",
    "        \n",
    "        with torch.no_grad():\n",
    "            \n",
    "            running_loss += loss.item()\n",
    "\n",
    "            error = utils.get_error( scores , minibatch_label)\n",
    "            running_error += error.item()\n",
    "        \n",
    "\n",
    "    # compute stats for the full training set\n",
    "    total_loss = running_loss/num_batches\n",
    "    total_error = running_error/num_batches\n",
    "    \n",
    "    print('epoch=',epoch, '\\t loss=', total_loss , '\\t error=', total_error*100 ,'percent')\n",
    "        \n",
    "    "
   ]
  },
  {
   "cell_type": "markdown",
   "metadata": {},
   "source": [
    "### Choose image at random from the test set and see how good/bad are the predictions"
   ]
  },
  {
   "cell_type": "code",
   "execution_count": 15,
   "metadata": {},
   "outputs": [
    {
     "data": {
      "image/png": "[encoded data removed]",
      "text/plain": [
       "<Figure size 640x480 with 1 Axes>"
      ]
     },
     "metadata": {},
     "output_type": "display_data"
    },
    {
     "data": {
      "image/png": "[encoded data removed]",
      "text/plain": [
       "<Figure size 640x480 with 1 Axes>"
      ]
     },
     "metadata": {},
     "output_type": "display_data"
    }
   ],
   "source": [
    "# choose a picture at random\n",
    "idx=randint(0, 10000-1)\n",
    "im=test_data[idx]\n",
    "\n",
    "# diplay the picture\n",
    "utils.show(im)\n",
    "\n",
    "# feed it to the net and display the confidence scores\n",
    "scores =  net( im.view(1,784)) \n",
    "probs= F.softmax(scores, dim=1)\n",
    "utils.show_prob_mnist(probs)"
   ]
  },
  {
   "cell_type": "code",
   "execution_count": null,
   "metadata": {},
   "outputs": [],
   "source": []
  }
 ],
 "metadata": {
  "kernelspec": {
   "display_name": "Python 3",
   "language": "python",
   "name": "python3"
  },
  "language_info": {
   "codemirror_mode": {
    "name": "ipython",
    "version": 3
   },
   "file_extension": ".py",
   "mimetype": "text/x-python",
   "name": "python",
   "nbconvert_exporter": "python",
   "pygments_lexer": "ipython3",
   "version": "3.7.0"
  }
 },
 "nbformat": 4,
 "nbformat_minor": 2
}
