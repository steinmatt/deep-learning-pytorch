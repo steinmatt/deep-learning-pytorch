{
 "cells": [
  {
   "cell_type": "markdown",
   "metadata": {},
   "source": [
    "# LOSS AND ERROR RATE ON CIFAR -- SOLUTION"
   ]
  },
  {
   "cell_type": "code",
   "execution_count": 1,
   "metadata": {
    "collapsed": true
   },
   "outputs": [],
   "source": [
    "import torch\n",
    "import torch.nn as nn\n",
    "import torch.nn.functional as F\n",
    "import torch.optim as optim\n",
    "from random import randint\n",
    "import utils"
   ]
  },
  {
   "cell_type": "markdown",
   "metadata": {},
   "source": [
    "### Download the CIFAR dataset -- check the size carefully!"
   ]
  },
  {
   "cell_type": "code",
   "execution_count": 2,
   "metadata": {},
   "outputs": [
    {
     "name": "stdout",
     "output_type": "stream",
     "text": [
      "torch.Size([50000, 3, 32, 32])\n"
     ]
    }
   ],
   "source": [
    "train_data=torch.load('../../data/cifar/data/train_data.pt')\n",
    "train_label=torch.load('../../data/cifar/data/train_label.pt')\n",
    "test_data=torch.load('../../data/cifar/data/test_data.pt')\n",
    "\n",
    "print(train_data.size())"
   ]
  },
  {
   "cell_type": "markdown",
   "metadata": {},
   "source": [
    "### Make a ONE layer net class. "
   ]
  },
  {
   "cell_type": "code",
   "execution_count": 3,
   "metadata": {
    "collapsed": true
   },
   "outputs": [],
   "source": [
    "class one_layer_net(nn.Module):\n",
    "\n",
    "    def __init__(self, input_size, output_size):\n",
    "        super(one_layer_net , self).__init__()\n",
    "        self.linear_layer = nn.Linear( input_size, output_size , bias=True)\n",
    "        \n",
    "    def forward(self, x):\n",
    "        scores = self.linear_layer(x)\n",
    "        return scores"
   ]
  },
  {
   "cell_type": "markdown",
   "metadata": {},
   "source": [
    "### Build the net. \n",
    "\n",
    "### We are dealing with RGB pictures that are 3 x 32 x 32 \n",
    "\n",
    "### On picture contains a total of 3 x 32 x 32 = 3072 values"
   ]
  },
  {
   "cell_type": "code",
   "execution_count": 4,
   "metadata": {},
   "outputs": [
    {
     "name": "stdout",
     "output_type": "stream",
     "text": [
      "one_layer_net(\n",
      "  (linear_layer): Linear(in_features=3072, out_features=10, bias=True)\n",
      ")\n"
     ]
    }
   ],
   "source": [
    "net=one_layer_net(3072,10)\n",
    "print(net)"
   ]
  },
  {
   "cell_type": "markdown",
   "metadata": {},
   "source": [
    "### Choose the criterion and optimizer. Also choose:\n",
    "\n",
    "### batchsize = 20\n",
    "\n",
    "### learning rate = 0.01"
   ]
  },
  {
   "cell_type": "code",
   "execution_count": 5,
   "metadata": {
    "collapsed": true
   },
   "outputs": [],
   "source": [
    "criterion = nn.CrossEntropyLoss()\n",
    "\n",
    "optimizer=torch.optim.SGD( net.parameters() , lr=0.01 )\n",
    "\n",
    "bs=20"
   ]
  },
  {
   "cell_type": "markdown",
   "metadata": {},
   "source": [
    "### Do 50 passes through the training set (which contains 50,000 images -- not 60,000 like mnist!)"
   ]
  },
  {
   "cell_type": "code",
   "execution_count": 6,
   "metadata": {},
   "outputs": [
    {
     "name": "stdout",
     "output_type": "stream",
     "text": [
      "epoch= 0 \t loss= 1.961263083934784 \t error= 69.9819999408722 percent\n",
      "epoch= 1 \t loss= 1.8607673372268676 \t error= 65.07399996042251 percent\n",
      "epoch= 2 \t loss= 1.8325677770137787 \t error= 64.15599993944167 percent\n",
      "epoch= 3 \t loss= 1.8207026695251465 \t error= 63.49999999761582 percent\n",
      "epoch= 4 \t loss= 1.8061849982738496 \t error= 62.82999998092651 percent\n",
      "epoch= 5 \t loss= 1.7987304209709167 \t error= 62.58400000810623 percent\n",
      "epoch= 6 \t loss= 1.7908356945037842 \t error= 61.987999973297114 percent\n",
      "epoch= 7 \t loss= 1.7815663630008698 \t error= 61.655999956130984 percent\n",
      "epoch= 8 \t loss= 1.7750649393558502 \t error= 61.524000034332275 percent\n",
      "epoch= 9 \t loss= 1.7722051088809967 \t error= 61.29200002908707 percent\n",
      "epoch= 10 \t loss= 1.7690504139184953 \t error= 61.1080000114441 percent\n",
      "epoch= 11 \t loss= 1.7612760514259338 \t error= 60.76600004434586 percent\n",
      "epoch= 12 \t loss= 1.759373460817337 \t error= 60.773999977111814 percent\n",
      "epoch= 13 \t loss= 1.7589800609111785 \t error= 60.82799995660781 percent\n",
      "epoch= 14 \t loss= 1.757234412908554 \t error= 60.70799998283386 percent\n",
      "epoch= 15 \t loss= 1.7531952937364579 \t error= 60.50799998283386 percent\n",
      "epoch= 16 \t loss= 1.7482432521343232 \t error= 60.32399999380112 percent\n",
      "epoch= 17 \t loss= 1.7474239068508148 \t error= 60.52200002908707 percent\n",
      "epoch= 18 \t loss= 1.744650414609909 \t error= 60.13400007963181 percent\n",
      "epoch= 19 \t loss= 1.7422063278913498 \t error= 60.28800000667572 percent\n",
      "epoch= 20 \t loss= 1.7451470223665237 \t error= 60.06799999475479 percent\n",
      "epoch= 21 \t loss= 1.743017288994789 \t error= 60.30799998044968 percent\n",
      "epoch= 22 \t loss= 1.7377594163417815 \t error= 59.88000001668931 percent\n",
      "epoch= 23 \t loss= 1.7346464386940001 \t error= 59.840000021457676 percent\n",
      "epoch= 24 \t loss= 1.7414705528736114 \t error= 60.12199994564056 percent\n",
      "epoch= 25 \t loss= 1.7339776381015777 \t error= 59.82399997711182 percent\n",
      "epoch= 26 \t loss= 1.7309438334941865 \t error= 59.683999967575076 percent\n",
      "epoch= 27 \t loss= 1.7362255858421325 \t error= 59.83600003480911 percent\n",
      "epoch= 28 \t loss= 1.733741920685768 \t error= 59.83800003528595 percent\n",
      "epoch= 29 \t loss= 1.7294484048366547 \t error= 59.54999996900558 percent\n",
      "epoch= 30 \t loss= 1.7297645003080369 \t error= 59.60000002384186 percent\n",
      "epoch= 31 \t loss= 1.7256186666250228 \t error= 59.29799999713897 percent\n",
      "epoch= 32 \t loss= 1.724643791294098 \t error= 59.18200004339218 percent\n",
      "epoch= 33 \t loss= 1.7246297049045562 \t error= 59.450000009536744 percent\n",
      "epoch= 34 \t loss= 1.7252876972675324 \t error= 59.48800005912781 percent\n",
      "epoch= 35 \t loss= 1.7238842786073685 \t error= 59.46200000762939 percent\n",
      "epoch= 36 \t loss= 1.7199969652414322 \t error= 59.03599996805191 percent\n",
      "epoch= 37 \t loss= 1.7206611011266708 \t error= 59.44000001430511 percent\n",
      "epoch= 38 \t loss= 1.71832139980793 \t error= 59.23799996376038 percent\n",
      "epoch= 39 \t loss= 1.723342758202553 \t error= 59.18000001192093 percent\n",
      "epoch= 40 \t loss= 1.720323702812195 \t error= 59.166000001430504 percent\n",
      "epoch= 41 \t loss= 1.7150700350761414 \t error= 58.8320000553131 percent\n",
      "epoch= 42 \t loss= 1.718172235274315 \t error= 59.022000007629394 percent\n",
      "epoch= 43 \t loss= 1.714876297044754 \t error= 59.03999999761581 percent\n",
      "epoch= 44 \t loss= 1.7150263678550721 \t error= 58.95400000572204 percent\n",
      "epoch= 45 \t loss= 1.7146676762580872 \t error= 58.9640000295639 percent\n",
      "epoch= 46 \t loss= 1.714868133330345 \t error= 58.97599997282028 percent\n",
      "epoch= 47 \t loss= 1.7137390604734422 \t error= 58.78599999427795 percent\n",
      "epoch= 48 \t loss= 1.7128584248065948 \t error= 58.86000001907349 percent\n",
      "epoch= 49 \t loss= 1.7107217249393463 \t error= 58.76600005388259 percent\n"
     ]
    }
   ],
   "source": [
    "for epoch in range(50):\n",
    "    \n",
    "    running_loss=0\n",
    "    running_error=0\n",
    "    num_batches=0\n",
    "    \n",
    "    shuffled_indices=torch.randperm(50000)\n",
    " \n",
    "    for count in range(0,50000,bs):\n",
    "    \n",
    "        # Set the gradients to zeros\n",
    "        optimizer.zero_grad()\n",
    "        \n",
    "        # create a minibatch       \n",
    "        indices=shuffled_indices[count:count+bs]\n",
    "        minibatch_data =  train_data[indices]\n",
    "        minibatch_label= train_label[indices]\n",
    "\n",
    "        # reshape the minibatch\n",
    "        inputs = minibatch_data.view(bs,3072)\n",
    "\n",
    "        # tell Pytorch to start tracking all operations that will be done on \"inputs\"\n",
    "        inputs.requires_grad_()\n",
    "\n",
    "        # forward the minibatch through the net \n",
    "        scores=net( inputs ) \n",
    "\n",
    "        # Compute the average of the losses of the data points in the minibatch\n",
    "        loss =  criterion( scores , minibatch_label) \n",
    "        \n",
    "        # backward pass to compute dL/dU, dL/dV and dL/dW   \n",
    "        loss.backward()\n",
    "\n",
    "        # do one step of stochastic gradient descent: U=U-lr(dL/dU), V=V-lr(dL/dU), ...\n",
    "        optimizer.step()\n",
    "        \n",
    "        # START COMPUTING STATS\n",
    "        \n",
    "        num_batches+=1\n",
    "        \n",
    "        with torch.no_grad():\n",
    "        \n",
    "            # add the loss of this batch to the running loss\n",
    "            running_loss += loss.item()\n",
    "\n",
    "            # compute the error made on this batch and add it to the running error       \n",
    "            error = utils.get_error( scores , minibatch_label)\n",
    "            running_error += error.item()\n",
    "        \n",
    "\n",
    "    \n",
    "    \n",
    "    # compute stats for the full training set\n",
    "    total_loss = running_loss/num_batches\n",
    "    total_error = running_error/num_batches\n",
    "    \n",
    "    print('epoch=',epoch, '\\t loss=', total_loss , '\\t error=', total_error*100 ,'percent')\n",
    "        \n",
    "    \n",
    "        \n",
    "        "
   ]
  },
  {
   "cell_type": "markdown",
   "metadata": {},
   "source": [
    "### Choose image at random from the test set and see how good/bad are the predictions"
   ]
  },
  {
   "cell_type": "code",
   "execution_count": 9,
   "metadata": {},
   "outputs": [
    {
     "data": {
      "image/png": "[encoded data removed]",
      "text/plain": [
       "<Figure size 640x480 with 1 Axes>"
      ]
     },
     "metadata": {},
     "output_type": "display_data"
    },
    {
     "data": {
      "image/png": "[encoded data removed]",
      "text/plain": [
       "<Figure size 640x480 with 1 Axes>"
      ]
     },
     "metadata": {},
     "output_type": "display_data"
    }
   ],
   "source": [
    "# choose a picture at random\n",
    "idx=randint(0, 10000-1)\n",
    "im=test_data[idx]\n",
    "\n",
    "# diplay the picture\n",
    "utils.show(im)\n",
    "\n",
    "# feed it to the net and display the confidence scores\n",
    "scores =  net( im.view(1,3072)) \n",
    "probs= F.softmax(scores, dim=1)\n",
    "utils.show_prob_cifar(probs)"
   ]
  },
  {
   "cell_type": "code",
   "execution_count": null,
   "metadata": {
    "collapsed": true
   },
   "outputs": [],
   "source": []
  }
 ],
 "metadata": {
  "kernelspec": {
   "display_name": "Python 3",
   "language": "python",
   "name": "python3"
  },
  "language_info": {
   "codemirror_mode": {
    "name": "ipython",
    "version": 3
   },
   "file_extension": ".py",
   "mimetype": "text/x-python",
   "name": "python",
   "nbconvert_exporter": "python",
   "pygments_lexer": "ipython3",
   "version": "3.6.4"
  }
 },
 "nbformat": 4,
 "nbformat_minor": 2
}
