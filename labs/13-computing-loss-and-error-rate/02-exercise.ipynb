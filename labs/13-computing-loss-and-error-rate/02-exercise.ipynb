{
 "cells": [
  {
   "cell_type": "markdown",
   "metadata": {},
   "source": [
    "# LOSS AND ERROR RATE ON CIFAR -- Exercise"
   ]
  },
  {
   "cell_type": "code",
   "execution_count": 1,
   "metadata": {},
   "outputs": [],
   "source": [
    "import torch\n",
    "import torch.nn as nn\n",
    "import torch.nn.functional as F\n",
    "import torch.optim as optim\n",
    "from random import randint\n",
    "import utils"
   ]
  },
  {
   "cell_type": "markdown",
   "metadata": {},
   "source": [
    "### Download the CIFAR dataset -- check the size carefully!"
   ]
  },
  {
   "cell_type": "code",
   "execution_count": 2,
   "metadata": {},
   "outputs": [
    {
     "name": "stdout",
     "output_type": "stream",
     "text": [
      "torch.Size([50000, 3, 32, 32])\n"
     ]
    }
   ],
   "source": [
    "train_data=torch.load('../../data/cifar/train_data.pt')\n",
    "train_label=torch.load('../../data/cifar/train_label.pt')\n",
    "test_data=torch.load('../../data/cifar/test_data.pt')\n",
    "\n",
    "print(train_data.size())"
   ]
  },
  {
   "cell_type": "markdown",
   "metadata": {},
   "source": [
    "### Make a ONE layer net class. "
   ]
  },
  {
   "cell_type": "code",
   "execution_count": 3,
   "metadata": {},
   "outputs": [],
   "source": [
    "class one_layer_net(nn.Module):\n",
    "\n",
    "    def __init__(self, input_size, output_size):\n",
    "        super().__init__()\n",
    "        self.linear_layer = nn.Linear( input_size, output_size , bias=True)\n",
    "        \n",
    "    def forward(self, x):\n",
    "        scores = self.linear_layer(x)\n",
    "        return scores"
   ]
  },
  {
   "cell_type": "markdown",
   "metadata": {},
   "source": [
    "### Build the net.   "
   ]
  },
  {
   "cell_type": "code",
   "execution_count": 4,
   "metadata": {},
   "outputs": [
    {
     "name": "stdout",
     "output_type": "stream",
     "text": [
      "one_layer_net(\n",
      "  (linear_layer): Linear(in_features=3072, out_features=10, bias=True)\n",
      ")\n"
     ]
    }
   ],
   "source": [
    "net= one_layer_net(3072,10)\n",
    "\n",
    "print(net)"
   ]
  },
  {
   "cell_type": "markdown",
   "metadata": {},
   "source": [
    "### Choose the criterion and optimizer. Also choose:\n",
    "\n",
    "### batchsize = 20\n",
    "\n",
    "### learning rate = 0.01"
   ]
  },
  {
   "cell_type": "code",
   "execution_count": 5,
   "metadata": {},
   "outputs": [],
   "source": [
    "criterion = nn.CrossEntropyLoss()\n",
    "\n",
    "optimizer=torch.optim.SGD( net.parameters() , lr=0.01 )\n",
    "\n",
    "bs=20"
   ]
  },
  {
   "cell_type": "markdown",
   "metadata": {},
   "source": [
    "# You only have to complete this cell\n",
    "\n",
    "### Do 40 passes through the training set (which contains 50,000 images -- not 60,000 like mnist!)"
   ]
  },
  {
   "cell_type": "code",
   "execution_count": 8,
   "metadata": {},
   "outputs": [
    {
     "name": "stdout",
     "output_type": "stream",
     "text": [
      "epoch= 0 \t loss= 1.9629659149646759 \t error= 69.61399994134902 percent\n",
      "epoch= 1 \t loss= 1.864168672323227 \t error= 65.03599992275238 percent\n",
      "epoch= 2 \t loss= 1.835442094898224 \t error= 63.9339999461174 percent\n",
      "epoch= 3 \t loss= 1.8190158752918244 \t error= 63.26400003671646 percent\n",
      "epoch= 4 \t loss= 1.8070479268550872 \t error= 62.82200002193451 percent\n",
      "epoch= 5 \t loss= 1.7955050144195557 \t error= 62.55800001382828 percent\n",
      "epoch= 6 \t loss= 1.7896142483711244 \t error= 62.02600000143052 percent\n",
      "epoch= 7 \t loss= 1.7861915515899658 \t error= 61.80000002145767 percent\n",
      "epoch= 8 \t loss= 1.7768090767383575 \t error= 61.45200000524521 percent\n",
      "epoch= 9 \t loss= 1.7712311892986297 \t error= 61.27600001096726 percent\n",
      "epoch= 10 \t loss= 1.7707227377176284 \t error= 61.309999999999995 percent\n",
      "epoch= 11 \t loss= 1.7656494879722595 \t error= 60.92400006532669 percent\n",
      "epoch= 12 \t loss= 1.7630314237833022 \t error= 61.05399999380112 percent\n",
      "epoch= 13 \t loss= 1.7590023533582688 \t error= 60.600000104904176 percent\n",
      "epoch= 14 \t loss= 1.7590020661354064 \t error= 60.94199996471406 percent\n",
      "epoch= 15 \t loss= 1.7535734571933745 \t error= 60.428000044822696 percent\n",
      "epoch= 16 \t loss= 1.7494968353271485 \t error= 60.32400005578995 percent\n",
      "epoch= 17 \t loss= 1.7473597818374633 \t error= 60.27400005817414 percent\n",
      "epoch= 18 \t loss= 1.7484287062168122 \t error= 60.40599997520447 percent\n",
      "epoch= 19 \t loss= 1.7440676401615143 \t error= 60.297999989986415 percent\n",
      "epoch= 20 \t loss= 1.7419719896316528 \t error= 59.908000020980836 percent\n",
      "epoch= 21 \t loss= 1.7378849852323532 \t error= 59.8260000872612 percent\n",
      "epoch= 22 \t loss= 1.738303607749939 \t error= 59.78800003290176 percent\n",
      "epoch= 23 \t loss= 1.7366910308361054 \t error= 59.722000060081484 percent\n",
      "epoch= 24 \t loss= 1.7361248774528504 \t error= 59.74399993896484 percent\n",
      "epoch= 25 \t loss= 1.7367123145103454 \t error= 59.99000004529953 percent\n",
      "epoch= 26 \t loss= 1.7358223917484283 \t error= 59.77000004053116 percent\n",
      "epoch= 27 \t loss= 1.7329443003177643 \t error= 59.57800004005433 percent\n",
      "epoch= 28 \t loss= 1.7287190087795257 \t error= 59.42199999809266 percent\n",
      "epoch= 29 \t loss= 1.7301031486511231 \t error= 59.798000054359434 percent\n",
      "epoch= 30 \t loss= 1.7271614711523056 \t error= 59.45799998283386 percent\n",
      "epoch= 31 \t loss= 1.7275810595989227 \t error= 59.471999988555915 percent\n",
      "epoch= 32 \t loss= 1.7263364731311799 \t error= 59.402000031471246 percent\n",
      "epoch= 33 \t loss= 1.7298582971334457 \t error= 59.36999997615814 percent\n",
      "epoch= 34 \t loss= 1.7260344208955765 \t error= 59.29199995517731 percent\n",
      "epoch= 35 \t loss= 1.7243436500549316 \t error= 59.338000011444095 percent\n",
      "epoch= 36 \t loss= 1.7215196714639664 \t error= 59.2599999666214 percent\n",
      "epoch= 37 \t loss= 1.722320603966713 \t error= 59.18800008773803 percent\n",
      "epoch= 38 \t loss= 1.7196415324687957 \t error= 59.168000049591065 percent\n",
      "epoch= 39 \t loss= 1.7190533890485764 \t error= 59.04200001716614 percent\n"
     ]
    }
   ],
   "source": [
    "for epoch in range(40): \n",
    "    \n",
    "    running_loss=0\n",
    "    running_error=0\n",
    "    num_batches=0\n",
    "    \n",
    "    shuffled_indices= torch.randperm(50000)\n",
    " \n",
    "    for count in range(0,50000,bs):\n",
    "    \n",
    "        optimizer.zero_grad()\n",
    "        \n",
    "        # create a minibatch       \n",
    "        indices=           shuffled_indices[count:count+bs]\n",
    "        minibatch_data =   train_data[indices]\n",
    "        minibatch_label=   train_label[indices]\n",
    "\n",
    "        # reshape the minibatch\n",
    "        inputs = minibatch_data.view(bs,3072)\n",
    "\n",
    "        # tell Pytorch to start tracking all operations that will be done on \"inputs\"\n",
    "        inputs.requires_grad_()\n",
    "\n",
    "        # forward the minibatch through the net \n",
    "        scores= net(inputs)\n",
    "\n",
    "        # Compute the average of the losses of the data points in the minibatch\n",
    "        loss =  criterion( scores, minibatch_label )\n",
    "        \n",
    "        # backward pass to compute dL/dU, dL/dV and dL/dW   \n",
    "        loss.backward()\n",
    "\n",
    "        # do one step of stochastic gradient descent: U=U-lr(dL/dU), V=V-lr(dL/dU), ...\n",
    "        optimizer.step()\n",
    "        \n",
    "        \n",
    "        # START COMPUTING STATS\n",
    "        \n",
    "        num_batches+=1\n",
    "        \n",
    "        with torch.no_grad():\n",
    "        \n",
    "            # add the loss of this batch to the running loss\n",
    "            running_loss += loss.item()\n",
    "\n",
    "            # compute the error made on this batch and add it to the running error       \n",
    "            error = utils.get_error(scores,minibatch_label)\n",
    "            running_error +=error.item()     \n",
    "        \n",
    "        \n",
    "        \n",
    "    # compute stats for the full training set\n",
    "    total_loss = running_loss / num_batches\n",
    "    total_error =   running_error / num_batches\n",
    "    \n",
    "    print('epoch=',epoch, '\\t loss=', total_loss , '\\t error=', total_error*100 ,'percent')\n",
    "        \n",
    "    \n",
    "        \n",
    "        "
   ]
  },
  {
   "cell_type": "markdown",
   "metadata": {},
   "source": [
    "### Choose image at random from the test set and see how good/bad are the predictions"
   ]
  },
  {
   "cell_type": "code",
   "execution_count": 9,
   "metadata": {},
   "outputs": [
    {
     "data": {
      "image/png": "[encoded data removed]",
      "text/plain": [
       "<Figure size 432x288 with 1 Axes>"
      ]
     },
     "metadata": {
      "needs_background": "light"
     },
     "output_type": "display_data"
    },
    {
     "data": {
      "image/png": "[encoded data removed]",
      "text/plain": [
       "<Figure size 640x480 with 1 Axes>"
      ]
     },
     "metadata": {},
     "output_type": "display_data"
    }
   ],
   "source": [
    "# choose a picture at random\n",
    "idx=randint(0, 10000-1)\n",
    "im=test_data[idx]\n",
    "\n",
    "# diplay the picture\n",
    "utils.show(im)\n",
    "\n",
    "# feed it to the net and display the confidence scores\n",
    "scores =  net( im.view(1,3072)) \n",
    "probs= F.softmax(scores, dim=1)\n",
    "utils.show_prob_cifar(probs)"
   ]
  },
  {
   "cell_type": "code",
   "execution_count": null,
   "metadata": {},
   "outputs": [],
   "source": []
  }
 ],
 "metadata": {
  "kernelspec": {
   "display_name": "Python 3",
   "language": "python",
   "name": "python3"
  },
  "language_info": {
   "codemirror_mode": {
    "name": "ipython",
    "version": 3
   },
   "file_extension": ".py",
   "mimetype": "text/x-python",
   "name": "python",
   "nbconvert_exporter": "python",
   "pygments_lexer": "ipython3",
   "version": "3.7.0"
  }
 },
 "nbformat": 4,
 "nbformat_minor": 2
}
