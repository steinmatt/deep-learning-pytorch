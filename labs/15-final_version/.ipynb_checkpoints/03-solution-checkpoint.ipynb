{
 "cells": [
  {
   "cell_type": "markdown",
   "metadata": {},
   "source": [
    "# EVALUATE ON TEST SET-- SOLUTION"
   ]
  },
  {
   "cell_type": "code",
   "execution_count": 1,
   "metadata": {},
   "outputs": [],
   "source": [
    "import torch\n",
    "import torch.nn as nn\n",
    "import torch.nn.functional as F\n",
    "import torch.optim as optim\n",
    "from random import randint\n",
    "import utils"
   ]
  },
  {
   "cell_type": "markdown",
   "metadata": {},
   "source": [
    "### Download the CIFAR dataset -- check the size carefully!"
   ]
  },
  {
   "cell_type": "code",
   "execution_count": 8,
   "metadata": {},
   "outputs": [
    {
     "name": "stdout",
     "output_type": "stream",
     "text": [
      "torch.Size([50000, 3, 32, 32])\n"
     ]
    }
   ],
   "source": [
    "train_data=torch.load('../../data/cifar/data/train_data.pt')\n",
    "train_label=torch.load('../../data/cifar/data/train_label.pt')\n",
    "test_data=torch.load('../../data/cifar/data/test_data.pt')\n",
    "test_label=torch.load('../../data/cifar/data/test_label.pt')\n",
    "\n",
    "print(train_data.size())"
   ]
  },
  {
   "cell_type": "markdown",
   "metadata": {},
   "source": [
    "### Make a ONE layer net class. "
   ]
  },
  {
   "cell_type": "code",
   "execution_count": 3,
   "metadata": {},
   "outputs": [],
   "source": [
    "class one_layer_net(nn.Module):\n",
    "\n",
    "    def __init__(self, input_size, output_size):\n",
    "        super(one_layer_net , self).__init__()\n",
    "        self.linear_layer = nn.Linear( input_size, output_size , bias=True)\n",
    "        \n",
    "    def forward(self, x):\n",
    "        scores = self.linear_layer(x)\n",
    "        return scores"
   ]
  },
  {
   "cell_type": "markdown",
   "metadata": {},
   "source": [
    "### Build the net. "
   ]
  },
  {
   "cell_type": "code",
   "execution_count": 4,
   "metadata": {},
   "outputs": [
    {
     "name": "stdout",
     "output_type": "stream",
     "text": [
      "one_layer_net(\n",
      "  (linear_layer): Linear(in_features=3072, out_features=10, bias=True)\n",
      ")\n"
     ]
    }
   ],
   "source": [
    "net=one_layer_net(3072,10)\n",
    "print(net)"
   ]
  },
  {
   "cell_type": "markdown",
   "metadata": {},
   "source": [
    "### Choose the criterion and optimizer. Also choose:\n"
   ]
  },
  {
   "cell_type": "code",
   "execution_count": 11,
   "metadata": {},
   "outputs": [],
   "source": [
    "criterion = nn.CrossEntropyLoss()\n",
    "optimizer=torch.optim.SGD( net.parameters() , lr=0.01 )\n",
    "bs=20"
   ]
  },
  {
   "cell_type": "markdown",
   "metadata": {},
   "source": [
    "### Do 50 passes through the training set."
   ]
  },
  {
   "cell_type": "code",
   "execution_count": 6,
   "metadata": {},
   "outputs": [
    {
     "name": "stdout",
     "output_type": "stream",
     "text": [
      "epoch= 0 \t loss= 1.9571733669281006 \t error= 69.30999998092652 percent\n",
      "epoch= 1 \t loss= 1.867832597541809 \t error= 65.35999996900559 percent\n",
      "epoch= 2 \t loss= 1.8422225183010101 \t error= 64.29200001955031 percent\n",
      "epoch= 3 \t loss= 1.8177650196075439 \t error= 63.46399994134902 percent\n",
      "epoch= 4 \t loss= 1.8049719596862792 \t error= 62.7319999718666 percent\n",
      "epoch= 5 \t loss= 1.7999554591178895 \t error= 62.85800002098083 percent\n",
      "epoch= 6 \t loss= 1.7881336579799652 \t error= 62.188000009059905 percent\n",
      "epoch= 7 \t loss= 1.7816681275367736 \t error= 61.74800001144409 percent\n",
      "epoch= 8 \t loss= 1.7784577577114105 \t error= 61.525999960899355 percent\n",
      "epoch= 9 \t loss= 1.772644342136383 \t error= 61.31399994134903 percent\n",
      "epoch= 10 \t loss= 1.7716887204408647 \t error= 61.295999965667725 percent\n",
      "epoch= 11 \t loss= 1.7628237793445587 \t error= 60.962000045776364 percent\n",
      "epoch= 12 \t loss= 1.7612666093826295 \t error= 60.95800002098084 percent\n",
      "epoch= 13 \t loss= 1.762551619887352 \t error= 60.760000026226045 percent\n",
      "epoch= 14 \t loss= 1.7567767446994782 \t error= 60.790000014305114 percent\n",
      "epoch= 15 \t loss= 1.7553116116523744 \t error= 60.63999995470047 percent\n",
      "epoch= 16 \t loss= 1.7491367414951324 \t error= 60.31000005960464 percent\n",
      "epoch= 17 \t loss= 1.7473242708921433 \t error= 60.34799998283387 percent\n",
      "epoch= 18 \t loss= 1.7474639430046082 \t error= 60.31000000953674 percent\n",
      "epoch= 19 \t loss= 1.7485816156864167 \t error= 60.34399999856949 percent\n",
      "epoch= 20 \t loss= 1.7434932725906371 \t error= 59.93000004768372 percent\n",
      "epoch= 21 \t loss= 1.7404375 \t error= 60.026000006198885 percent\n",
      "epoch= 22 \t loss= 1.7424948097705841 \t error= 59.94000004053116 percent\n",
      "epoch= 23 \t loss= 1.7364999828100205 \t error= 59.62999997854232 percent\n",
      "epoch= 24 \t loss= 1.7386127937316895 \t error= 59.99599997997284 percent\n",
      "epoch= 25 \t loss= 1.7325889508008956 \t error= 59.508000037670136 percent\n",
      "epoch= 26 \t loss= 1.7327445388317109 \t error= 59.63599998235702 percent\n",
      "epoch= 27 \t loss= 1.7345745834350585 \t error= 59.680000014305115 percent\n",
      "epoch= 28 \t loss= 1.7328439301013947 \t error= 59.647999961376186 percent\n",
      "epoch= 29 \t loss= 1.7315147001504898 \t error= 60.15000006198883 percent\n",
      "epoch= 30 \t loss= 1.7257417289733887 \t error= 59.353999979495995 percent\n",
      "epoch= 31 \t loss= 1.7276818125724793 \t error= 59.55599996328353 percent\n",
      "epoch= 32 \t loss= 1.7262012535333633 \t error= 59.2320000219345 percent\n",
      "epoch= 33 \t loss= 1.7247914392471313 \t error= 59.42600003004074 percent\n",
      "epoch= 34 \t loss= 1.7228155401706695 \t error= 59.354000000953675 percent\n",
      "epoch= 35 \t loss= 1.7256646795988082 \t error= 59.408000035285944 percent\n",
      "epoch= 36 \t loss= 1.719901530790329 \t error= 59.190000021457664 percent\n",
      "epoch= 37 \t loss= 1.7211903296709061 \t error= 59.28400000333786 percent\n",
      "epoch= 38 \t loss= 1.722484198117256 \t error= 59.3960000038147 percent\n",
      "epoch= 39 \t loss= 1.7195662779569625 \t error= 59.23199998140335 percent\n",
      "epoch= 40 \t loss= 1.716956969976425 \t error= 59.130000035762784 percent\n",
      "epoch= 41 \t loss= 1.7159697563171388 \t error= 59.06600001335144 percent\n",
      "epoch= 42 \t loss= 1.7209274094581604 \t error= 59.2300000166893 percent\n",
      "epoch= 43 \t loss= 1.7162620244264604 \t error= 59.20400003194809 percent\n",
      "epoch= 44 \t loss= 1.715093157529831 \t error= 58.91399998188018 percent\n",
      "epoch= 45 \t loss= 1.7136050010204316 \t error= 58.805999994277954 percent\n",
      "epoch= 46 \t loss= 1.7140905826330184 \t error= 59.01600009202957 percent\n",
      "epoch= 47 \t loss= 1.7136631897687913 \t error= 59.019999999999996 percent\n",
      "epoch= 48 \t loss= 1.7081494554042815 \t error= 58.66599998950959 percent\n",
      "epoch= 49 \t loss= 1.7125853319644928 \t error= 58.82800001621247 percent\n"
     ]
    }
   ],
   "source": [
    "for epoch in range(50):\n",
    "    \n",
    "    running_loss=0\n",
    "    running_error=0\n",
    "    num_batches=0\n",
    "    \n",
    "    shuffled_indices=torch.randperm(50000)\n",
    " \n",
    "    for count in range(0,50000,bs):\n",
    "    \n",
    "        # Set the gradients to zeros\n",
    "        optimizer.zero_grad()\n",
    "        \n",
    "        # create a minibatch       \n",
    "        indices=shuffled_indices[count:count+bs]\n",
    "        minibatch_data =  train_data[indices]\n",
    "        minibatch_label= train_label[indices]\n",
    "\n",
    "        # reshape the minibatch\n",
    "        inputs = minibatch_data.view(bs,3072)\n",
    "\n",
    "        # tell Pytorch to start tracking all operations that will be done on \"inputs\"\n",
    "        inputs.requires_grad_()\n",
    "\n",
    "        # forward the minibatch through the net \n",
    "        scores=net( inputs ) \n",
    "\n",
    "        # Compute the average of the losses of the data points in the minibatch\n",
    "        loss =  criterion( scores , minibatch_label) \n",
    "        \n",
    "        # backward pass to compute dL/dU, dL/dV and dL/dW   \n",
    "        loss.backward()\n",
    "\n",
    "        # do one step of stochastic gradient descent: U=U-lr(dL/dU), V=V-lr(dL/dU), ...\n",
    "        optimizer.step()\n",
    "        \n",
    "        # START COMPUTING STATS\n",
    "        \n",
    "        # add the loss of this batch to the running loss\n",
    "        running_loss += loss.detach().item()\n",
    "        \n",
    "        # compute the error made on this batch and add it to the running error       \n",
    "        error = utils.get_error( scores.detach() , minibatch_label)\n",
    "        running_error += error.item()\n",
    "        \n",
    "        num_batches+=1\n",
    "    \n",
    "    \n",
    "    # compute stats for the full training set\n",
    "    total_loss = running_loss/num_batches\n",
    "    total_error = running_error/num_batches\n",
    "    \n",
    "    print('epoch=',epoch, '\\t loss=', total_loss , '\\t error=', total_error*100 ,'percent')\n",
    "        \n",
    "    \n",
    "        \n",
    "        "
   ]
  },
  {
   "cell_type": "markdown",
   "metadata": {},
   "source": [
    "# You only have to complete this cell"
   ]
  },
  {
   "cell_type": "markdown",
   "metadata": {},
   "source": [
    "### So we are doing around 59% error on the training set, how much are we doing on test set?"
   ]
  },
  {
   "cell_type": "code",
   "execution_count": 10,
   "metadata": {},
   "outputs": [
    {
     "name": "stdout",
     "output_type": "stream",
     "text": [
      "error rate on test set = 62.63000004291535 percent\n"
     ]
    }
   ],
   "source": [
    "running_error=0\n",
    "num_batches=0\n",
    "\n",
    "\n",
    "for i in range(0,10000,bs):\n",
    "\n",
    "    # extract the minibatch\n",
    "    minibatch_data =  test_data[i:i+bs]\n",
    "    minibatch_label= test_label[i:i+bs]\n",
    "\n",
    "    # reshape the minibatch\n",
    "    inputs = minibatch_data.view(bs,3072)\n",
    "\n",
    "    # feed it to the network\n",
    "    scores=net( inputs ) \n",
    "\n",
    "    # compute the error made on this batch\n",
    "    error = utils.get_error( scores , minibatch_label)\n",
    "    \n",
    "    # add it to the running error\n",
    "    running_error += error.item()\n",
    "\n",
    "    num_batches+=1\n",
    "\n",
    "\n",
    "# compute error rate on the full test set\n",
    "total_error = running_error/num_batches\n",
    "\n",
    "print( 'error rate on test set =', total_error*100 ,'percent')"
   ]
  },
  {
   "cell_type": "markdown",
   "metadata": {},
   "source": [
    "### Choose image at random from the test set and see how good/bad are the predictions"
   ]
  },
  {
   "cell_type": "code",
   "execution_count": null,
   "metadata": {},
   "outputs": [],
   "source": [
    "# choose a picture at random\n",
    "idx=randint(0, 10000-1)\n",
    "im=test_data[idx]\n",
    "\n",
    "# diplay the picture\n",
    "utils.show(im)\n",
    "\n",
    "# feed it to the net and display the confidence scores\n",
    "scores =  net( im.view(1,3072)) \n",
    "probs= F.softmax(scores, dim=1)\n",
    "utils.show_prob_cifar(probs)"
   ]
  },
  {
   "cell_type": "code",
   "execution_count": null,
   "metadata": {},
   "outputs": [],
   "source": []
  }
 ],
 "metadata": {
  "kernelspec": {
   "display_name": "Python 3",
   "language": "python",
   "name": "python3"
  },
  "language_info": {
   "codemirror_mode": {
    "name": "ipython",
    "version": 3
   },
   "file_extension": ".py",
   "mimetype": "text/x-python",
   "name": "python",
   "nbconvert_exporter": "python",
   "pygments_lexer": "ipython3",
   "version": "3.6.4"
  }
 },
 "nbformat": 4,
 "nbformat_minor": 2
}
