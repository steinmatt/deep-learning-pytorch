{
 "cells": [
  {
   "cell_type": "markdown",
   "metadata": {},
   "source": [
    "# FINAL VERSION OF OUR CODE -- DEMO"
   ]
  },
  {
   "cell_type": "code",
   "execution_count": 1,
   "metadata": {},
   "outputs": [],
   "source": [
    "import torch\n",
    "import torch.nn as nn\n",
    "import torch.nn.functional as F\n",
    "import torch.optim as optim\n",
    "from random import randint\n",
    "import time\n",
    "import utils"
   ]
  },
  {
   "cell_type": "markdown",
   "metadata": {},
   "source": [
    "### Download the data"
   ]
  },
  {
   "cell_type": "code",
   "execution_count": 2,
   "metadata": {},
   "outputs": [],
   "source": [
    "train_data=torch.load('../../data/mnist/train_data.pt')\n",
    "train_label=torch.load('../../data/mnist/train_label.pt')\n",
    "test_data=torch.load('../../data/mnist/test_data.pt')\n",
    "test_label=torch.load('../../data/mnist/test_label.pt')"
   ]
  },
  {
   "cell_type": "markdown",
   "metadata": {},
   "source": [
    "### Make a one layer net class. "
   ]
  },
  {
   "cell_type": "code",
   "execution_count": 3,
   "metadata": {},
   "outputs": [],
   "source": [
    "class one_layer_net(nn.Module):\n",
    "\n",
    "    def __init__(self, input_size, output_size):\n",
    "        super().__init__()\n",
    "        self.linear_layer = nn.Linear( input_size, output_size , bias=False)\n",
    "        \n",
    "    def forward(self, x):\n",
    "        scores = self.linear_layer(x)\n",
    "        return scores"
   ]
  },
  {
   "cell_type": "markdown",
   "metadata": {},
   "source": [
    "### Build the net"
   ]
  },
  {
   "cell_type": "code",
   "execution_count": 4,
   "metadata": {},
   "outputs": [
    {
     "name": "stdout",
     "output_type": "stream",
     "text": [
      "one_layer_net(\n",
      "  (linear_layer): Linear(in_features=784, out_features=10, bias=False)\n",
      ")\n",
      "There are 7840 (0.01 million) parameters in this neural network\n"
     ]
    }
   ],
   "source": [
    "net=one_layer_net(784,10)\n",
    "\n",
    "print(net)\n",
    "utils.display_num_param(net)"
   ]
  },
  {
   "cell_type": "markdown",
   "metadata": {},
   "source": [
    "### Choose the criterion, optimizer, batchsize, learning rate"
   ]
  },
  {
   "cell_type": "code",
   "execution_count": 5,
   "metadata": {},
   "outputs": [],
   "source": [
    "criterion = nn.CrossEntropyLoss()\n",
    "\n",
    "optimizer=torch.optim.SGD( net.parameters() , lr=0.01 )\n",
    "\n",
    "bs=200"
   ]
  },
  {
   "cell_type": "markdown",
   "metadata": {},
   "source": [
    "### Evaluate on test set"
   ]
  },
  {
   "cell_type": "code",
   "execution_count": 6,
   "metadata": {},
   "outputs": [],
   "source": [
    "def eval_on_test_set():\n",
    "\n",
    "    running_error=0\n",
    "    num_batches=0\n",
    "    \n",
    "    with torch.no_grad():\n",
    "\n",
    "        for i in range(0,10000,bs):\n",
    "\n",
    "            minibatch_data =  test_data[i:i+bs]\n",
    "            minibatch_label= test_label[i:i+bs]\n",
    "\n",
    "            inputs = minibatch_data.view(bs,784)\n",
    "\n",
    "            scores=net( inputs ) \n",
    "\n",
    "            error = utils.get_error( scores , minibatch_label)\n",
    "\n",
    "            running_error += error.item()\n",
    "\n",
    "            num_batches+=1\n",
    "\n",
    "\n",
    "    total_error = running_error/num_batches\n",
    "    print( 'test error  = ', total_error*100 ,'percent')"
   ]
  },
  {
   "cell_type": "markdown",
   "metadata": {},
   "source": [
    "### Training loop"
   ]
  },
  {
   "cell_type": "code",
   "execution_count": 7,
   "metadata": {},
   "outputs": [
    {
     "name": "stdout",
     "output_type": "stream",
     "text": [
      " \n",
      "epoch= 0 \t time= 0.8508975505828857 \t loss= 1.4474321881930032 \t error= 26.91166655222575 percent\n",
      "test error  =  16.96000039577484 percent\n",
      " \n",
      "epoch= 10 \t time= 10.750750303268433 \t loss= 0.43930586765209834 \t error= 11.53166683514913 percent\n",
      "test error  =  10.799999952316284 percent\n",
      " \n",
      "epoch= 20 \t time= 19.28670883178711 \t loss= 0.3822072634100914 \t error= 10.41666696468989 percent\n",
      "test error  =  9.71000051498413 percent\n",
      " \n",
      "epoch= 30 \t time= 27.384984493255615 \t loss= 0.35711488232016564 \t error= 9.828333377838135 percent\n",
      "test error  =  9.230000138282776 percent\n",
      " \n",
      "epoch= 40 \t time= 35.55362248420715 \t loss= 0.3421412333349387 \t error= 9.466666877269745 percent\n",
      "test error  =  8.950000047683716 percent\n",
      " \n",
      "epoch= 50 \t time= 43.566834688186646 \t loss= 0.3318481573462486 \t error= 9.176666895548502 percent\n",
      "test error  =  8.78000009059906 percent\n",
      " \n",
      "epoch= 60 \t time= 51.63387417793274 \t loss= 0.32427228485544524 \t error= 9.01500004529953 percent\n",
      "test error  =  8.559999704360962 percent\n",
      " \n",
      "epoch= 70 \t time= 59.736565351486206 \t loss= 0.3183259553213914 \t error= 8.858333230018616 percent\n",
      "test error  =  8.519999504089355 percent\n",
      " \n",
      "epoch= 80 \t time= 67.88501572608948 \t loss= 0.31352067450682325 \t error= 8.70833327372869 percent\n",
      "test error  =  8.399999499320984 percent\n",
      " \n",
      "epoch= 90 \t time= 76.10311818122864 \t loss= 0.30949558193484944 \t error= 8.599999904632568 percent\n",
      "test error  =  8.339999675750732 percent\n"
     ]
    }
   ],
   "source": [
    "start = time.time()\n",
    "\n",
    "for epoch in range(100):\n",
    "    \n",
    "    running_loss=0\n",
    "    running_error=0\n",
    "    num_batches=0\n",
    "    \n",
    "    shuffled_indices=torch.randperm(60000)\n",
    " \n",
    "    for count in range(0,60000,bs):\n",
    "        \n",
    "        # forward and backward pass\n",
    "    \n",
    "        optimizer.zero_grad()\n",
    "        \n",
    "        indices=shuffled_indices[count:count+bs]\n",
    "        minibatch_data =  train_data[indices]\n",
    "        minibatch_label= train_label[indices]\n",
    "\n",
    "        inputs = minibatch_data.view(bs,784)\n",
    "\n",
    "        inputs.requires_grad_()\n",
    "\n",
    "        scores=net( inputs ) \n",
    "\n",
    "        loss =  criterion( scores , minibatch_label) \n",
    "        \n",
    "        loss.backward()\n",
    "\n",
    "        optimizer.step()\n",
    "        \n",
    "        \n",
    "        # compute some stats\n",
    "        \n",
    "        num_batches+=1\n",
    "        \n",
    "        with torch.no_grad():\n",
    "            \n",
    "            running_loss += loss.item()\n",
    "\n",
    "            error = utils.get_error( scores , minibatch_label)\n",
    "            running_error += error.item() \n",
    "    \n",
    "    \n",
    "    # once the epoch is finished we divide the \"running quantities\"\n",
    "    # by the number of batches\n",
    "    \n",
    "    total_loss = running_loss/num_batches\n",
    "    total_error = running_error/num_batches\n",
    "    elapsed_time = time.time() - start\n",
    "    \n",
    "    # every 10 epoch we display the stats \n",
    "    # and compute the error rate on the test set  \n",
    "    \n",
    "    if epoch % 10 == 0 : \n",
    "    \n",
    "        print(' ')\n",
    "        \n",
    "        print('epoch=',epoch, '\\t time=', elapsed_time,\n",
    "              '\\t loss=', total_loss , '\\t error=', total_error*100 ,'percent')\n",
    "        \n",
    "        eval_on_test_set()\n",
    "               "
   ]
  },
  {
   "cell_type": "markdown",
   "metadata": {},
   "source": [
    "### Choose image at random from the test set and see how good/bad are the predictions"
   ]
  },
  {
   "cell_type": "code",
   "execution_count": 8,
   "metadata": {},
   "outputs": [
    {
     "data": {
      "image/png": "[encoded data removed]",
      "text/plain": [
       "<Figure size 432x288 with 1 Axes>"
      ]
     },
     "metadata": {
      "needs_background": "light"
     },
     "output_type": "display_data"
    },
    {
     "data": {
      "image/png": "[encoded data removed]",
      "text/plain": [
       "<Figure size 640x480 with 1 Axes>"
      ]
     },
     "metadata": {},
     "output_type": "display_data"
    }
   ],
   "source": [
    "# choose a picture at random\n",
    "idx=randint(0, 10000-1)\n",
    "im=test_data[idx]\n",
    "\n",
    "# diplay the picture\n",
    "utils.show(im)\n",
    "\n",
    "# feed it to the net and display the confidence scores\n",
    "scores =  net( im.view(1,784)) \n",
    "probs= F.softmax(scores, dim=1)\n",
    "utils.show_prob_mnist(probs)"
   ]
  },
  {
   "cell_type": "code",
   "execution_count": null,
   "metadata": {},
   "outputs": [],
   "source": []
  },
  {
   "cell_type": "code",
   "execution_count": null,
   "metadata": {},
   "outputs": [],
   "source": []
  }
 ],
 "metadata": {
  "kernelspec": {
   "display_name": "Python 3",
   "language": "python",
   "name": "python3"
  },
  "language_info": {
   "codemirror_mode": {
    "name": "ipython",
    "version": 3
   },
   "file_extension": ".py",
   "mimetype": "text/x-python",
   "name": "python",
   "nbconvert_exporter": "python",
   "pygments_lexer": "ipython3",
   "version": "3.7.0"
  }
 },
 "nbformat": 4,
 "nbformat_minor": 2
}
