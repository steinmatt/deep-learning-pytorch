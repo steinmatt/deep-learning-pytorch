{
 "cells": [
  {
   "cell_type": "markdown",
   "metadata": {},
   "source": [
    "# Creating a network"
   ]
  },
  {
   "cell_type": "code",
   "execution_count": 1,
   "metadata": {},
   "outputs": [],
   "source": [
    "import torch\n",
    "import torch.nn as nn\n",
    "import torch.nn.functional as F"
   ]
  },
  {
   "cell_type": "markdown",
   "metadata": {},
   "source": [
    "We first define a new type of module -- this new type of module will be our network"
   ]
  },
  {
   "cell_type": "code",
   "execution_count": 2,
   "metadata": {},
   "outputs": [],
   "source": [
    "class two_layer_net(nn.Module):\n",
    "\n",
    "    def __init__(self, input_size, hidden_size, output_size):\n",
    "        super(two_layer_net , self).__init__()\n",
    "        \n",
    "        self.layer1 = nn.Linear( input_size, hidden_size , bias=True)\n",
    "        self.layer2 = nn.Linear( hidden_size, output_size , bias=True)        \n",
    "        \n",
    "    def forward(self, x):\n",
    "        \n",
    "        y = self.layer1(x)\n",
    "        y = F.relu(y)\n",
    "        y = self.layer2(y)\n",
    "        y = F.softmax(y, dim=0)\n",
    "        \n",
    "        return y"
   ]
  },
  {
   "cell_type": "markdown",
   "metadata": {},
   "source": [
    "Then we instanciate it:"
   ]
  },
  {
   "cell_type": "code",
   "execution_count": 3,
   "metadata": {},
   "outputs": [
    {
     "name": "stdout",
     "output_type": "stream",
     "text": [
      "two_layer_net(\n",
      "  (layer1): Linear(in_features=2, out_features=5, bias=True)\n",
      "  (layer2): Linear(in_features=5, out_features=3, bias=True)\n",
      ")\n"
     ]
    }
   ],
   "source": [
    "net= two_layer_net(2,5,3)\n",
    "print(net)"
   ]
  },
  {
   "cell_type": "markdown",
   "metadata": {},
   "source": [
    "Now we are going to make an input vector and feed it to the network:"
   ]
  },
  {
   "cell_type": "code",
   "execution_count": 9,
   "metadata": {},
   "outputs": [
    {
     "name": "stdout",
     "output_type": "stream",
     "text": [
      "tensor([ 1.,  1.])\n",
      "tensor([ 0.3093,  0.2226,  0.4681])\n",
      "tensor(1.)\n"
     ]
    }
   ],
   "source": [
    "x=torch.Tensor([1,1,])\n",
    "print(x)\n",
    "y=net(x)\n",
    "print(y)\n",
    "print(y.sum() )"
   ]
  },
  {
   "cell_type": "markdown",
   "metadata": {},
   "source": [
    "This network is composed of two Linear modules taht we have called layer1 and layer2. We can see this when we type:"
   ]
  },
  {
   "cell_type": "code",
   "execution_count": 11,
   "metadata": {},
   "outputs": [
    {
     "name": "stdout",
     "output_type": "stream",
     "text": [
      "two_layer_net(\n",
      "  (layer1): Linear(in_features=2, out_features=5, bias=True)\n",
      "  (layer2): Linear(in_features=5, out_features=3, bias=True)\n",
      ")\n"
     ]
    }
   ],
   "source": [
    "print(net)"
   ]
  },
  {
   "cell_type": "markdown",
   "metadata": {},
   "source": [
    "We can access the first module as follow:"
   ]
  },
  {
   "cell_type": "code",
   "execution_count": 13,
   "metadata": {},
   "outputs": [
    {
     "name": "stdout",
     "output_type": "stream",
     "text": [
      "Linear(in_features=2, out_features=5, bias=True)\n"
     ]
    }
   ],
   "source": [
    "print(net.layer1)"
   ]
  },
  {
   "cell_type": "markdown",
   "metadata": {},
   "source": [
    "To get the weights and bias of the first layer we do:"
   ]
  },
  {
   "cell_type": "code",
   "execution_count": 15,
   "metadata": {},
   "outputs": [
    {
     "name": "stdout",
     "output_type": "stream",
     "text": [
      "Parameter containing:\n",
      "tensor([[-0.1908, -0.6138],\n",
      "        [ 0.3539,  0.6749],\n",
      "        [-0.1163,  0.6167],\n",
      "        [ 0.6027,  0.5369],\n",
      "        [-0.2038,  0.2739]])\n",
      " \n",
      "Parameter containing:\n",
      "tensor([ 0.0667, -0.3089, -0.6901, -0.6905, -0.6390])\n"
     ]
    }
   ],
   "source": [
    "print(net.layer1.weight)\n",
    "print(' ')\n",
    "print(net.layer1.bias)"
   ]
  },
  {
   "cell_type": "markdown",
   "metadata": {},
   "source": [
    "So to change the first row of the weights from layer 1 you would do:"
   ]
  },
  {
   "cell_type": "code",
   "execution_count": 17,
   "metadata": {},
   "outputs": [
    {
     "name": "stdout",
     "output_type": "stream",
     "text": [
      "Parameter containing:\n",
      "tensor([[ 10.0000,  20.0000],\n",
      "        [  0.3539,   0.6749],\n",
      "        [ -0.1163,   0.6167],\n",
      "        [  0.6027,   0.5369],\n",
      "        [ -0.2038,   0.2739]])\n"
     ]
    }
   ],
   "source": [
    "net.layer1.weight[0,0]=10\n",
    "net.layer1.weight[0,1]=20\n",
    "print(net.layer1.weight)"
   ]
  },
  {
   "cell_type": "markdown",
   "metadata": {},
   "source": [
    "Now we are going to make an input vector and feed it to the network:"
   ]
  },
  {
   "cell_type": "code",
   "execution_count": 5,
   "metadata": {},
   "outputs": [
    {
     "data": {
      "text/plain": [
       "Linear(in_features=2, out_features=5, bias=True)"
      ]
     },
     "execution_count": 5,
     "metadata": {},
     "output_type": "execute_result"
    }
   ],
   "source": [
    "net.layer1"
   ]
  },
  {
   "cell_type": "markdown",
   "metadata": {},
   "source": [
    "Alternatively, the  parameters of the network can be accessed by net.parameters(). net.parameters() return you an \"iterable\". If you don't know what it is don't worry about it. We are going to trasform this \"iterable\" into a list by using the list() function."
   ]
  },
  {
   "cell_type": "code",
   "execution_count": 18,
   "metadata": {},
   "outputs": [
    {
     "name": "stdout",
     "output_type": "stream",
     "text": [
      "[Parameter containing:\n",
      "tensor([[ 10.0000,  20.0000],\n",
      "        [  0.3539,   0.6749],\n",
      "        [ -0.1163,   0.6167],\n",
      "        [  0.6027,   0.5369],\n",
      "        [ -0.2038,   0.2739]]), Parameter containing:\n",
      "tensor([ 0.0667, -0.3089, -0.6901, -0.6905, -0.6390]), Parameter containing:\n",
      "tensor([[ 0.2954,  0.0852, -0.1916,  0.3733, -0.0385],\n",
      "        [-0.0120, -0.2659, -0.4244,  0.0262, -0.4168],\n",
      "        [ 0.4279,  0.4114, -0.0945,  0.2962,  0.3907]]), Parameter containing:\n",
      "tensor([-0.0586,  0.0212,  0.1556])]\n"
     ]
    }
   ],
   "source": [
    "list_of_param = list( net.parameters() )\n",
    "print(list_of_param)"
   ]
  }
 ],
 "metadata": {
  "kernelspec": {
   "display_name": "Python 3",
   "language": "python",
   "name": "python3"
  },
  "language_info": {
   "codemirror_mode": {
    "name": "ipython",
    "version": 3
   },
   "file_extension": ".py",
   "mimetype": "text/x-python",
   "name": "python",
   "nbconvert_exporter": "python",
   "pygments_lexer": "ipython3",
   "version": "3.6.4"
  }
 },
 "nbformat": 4,
 "nbformat_minor": 2
}
